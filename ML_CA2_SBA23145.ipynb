{
  "nbformat": 4,
  "nbformat_minor": 0,
  "metadata": {
    "colab": {
      "provenance": [],
      "collapsed_sections": [
        "BZWiG0RWypnL",
        "J4GaOfbtmVKT",
        "fL2Mapti49sb",
        "gywchl1Btbh0",
        "p-z_sgHjMmRY",
        "I4KWMuURX1oV",
        "lNgtDUKjYLSR",
        "DKLMvhGuYhAR",
        "s3QUVyeEYoxM",
        "j58MevSRXtkw",
        "F_FgSnfmX4c4",
        "uCgXiJD5X7t4",
        "55inyFNhYQUj",
        "2zSYz9ynYWsX",
        "8UqnJRHuYcSe",
        "b6mi3AkHYu44"
      ],
      "toc_visible": true
    },
    "kernelspec": {
      "name": "python3",
      "display_name": "Python 3"
    },
    "language_info": {
      "name": "python"
    }
  },
  "cells": [
    {
      "cell_type": "code",
      "execution_count": null,
      "metadata": {
        "collapsed": true,
        "id": "bZzW_hTZxsu3",
        "colab": {
          "base_uri": "https://localhost:8080/",
          "height": 1000
        },
        "outputId": "ba3a64ed-55e3-4844-9cda-ca9a7a8dc5a6"
      },
      "outputs": [
        {
          "output_type": "stream",
          "name": "stdout",
          "text": [
            "Collecting tensorflow==2.12.0\n",
            "  Downloading tensorflow-2.12.0-cp311-cp311-manylinux_2_17_x86_64.manylinux2014_x86_64.whl.metadata (3.4 kB)\n",
            "Requirement already satisfied: absl-py>=1.0.0 in /usr/local/lib/python3.11/dist-packages (from tensorflow==2.12.0) (1.4.0)\n",
            "Requirement already satisfied: astunparse>=1.6.0 in /usr/local/lib/python3.11/dist-packages (from tensorflow==2.12.0) (1.6.3)\n",
            "Requirement already satisfied: flatbuffers>=2.0 in /usr/local/lib/python3.11/dist-packages (from tensorflow==2.12.0) (25.2.10)\n",
            "Collecting gast<=0.4.0,>=0.2.1 (from tensorflow==2.12.0)\n",
            "  Downloading gast-0.4.0-py3-none-any.whl.metadata (1.1 kB)\n",
            "Requirement already satisfied: google-pasta>=0.1.1 in /usr/local/lib/python3.11/dist-packages (from tensorflow==2.12.0) (0.2.0)\n",
            "Requirement already satisfied: grpcio<2.0,>=1.24.3 in /usr/local/lib/python3.11/dist-packages (from tensorflow==2.12.0) (1.71.0)\n",
            "Requirement already satisfied: h5py>=2.9.0 in /usr/local/lib/python3.11/dist-packages (from tensorflow==2.12.0) (3.13.0)\n",
            "Requirement already satisfied: jax>=0.3.15 in /usr/local/lib/python3.11/dist-packages (from tensorflow==2.12.0) (0.5.2)\n",
            "Collecting keras<2.13,>=2.12.0 (from tensorflow==2.12.0)\n",
            "  Downloading keras-2.12.0-py2.py3-none-any.whl.metadata (1.4 kB)\n",
            "Requirement already satisfied: libclang>=13.0.0 in /usr/local/lib/python3.11/dist-packages (from tensorflow==2.12.0) (18.1.1)\n",
            "Collecting numpy<1.24,>=1.22 (from tensorflow==2.12.0)\n",
            "  Downloading numpy-1.23.5-cp311-cp311-manylinux_2_17_x86_64.manylinux2014_x86_64.whl.metadata (2.3 kB)\n",
            "Requirement already satisfied: opt-einsum>=2.3.2 in /usr/local/lib/python3.11/dist-packages (from tensorflow==2.12.0) (3.4.0)\n",
            "Requirement already satisfied: packaging in /usr/local/lib/python3.11/dist-packages (from tensorflow==2.12.0) (24.2)\n",
            "Collecting protobuf!=4.21.0,!=4.21.1,!=4.21.2,!=4.21.3,!=4.21.4,!=4.21.5,<5.0.0dev,>=3.20.3 (from tensorflow==2.12.0)\n",
            "  Downloading protobuf-4.25.6-cp37-abi3-manylinux2014_x86_64.whl.metadata (541 bytes)\n",
            "Requirement already satisfied: setuptools in /usr/local/lib/python3.11/dist-packages (from tensorflow==2.12.0) (75.2.0)\n",
            "Requirement already satisfied: six>=1.12.0 in /usr/local/lib/python3.11/dist-packages (from tensorflow==2.12.0) (1.17.0)\n",
            "Collecting tensorboard<2.13,>=2.12 (from tensorflow==2.12.0)\n",
            "  Downloading tensorboard-2.12.3-py3-none-any.whl.metadata (1.8 kB)\n",
            "Collecting tensorflow-estimator<2.13,>=2.12.0 (from tensorflow==2.12.0)\n",
            "  Downloading tensorflow_estimator-2.12.0-py2.py3-none-any.whl.metadata (1.3 kB)\n",
            "Requirement already satisfied: termcolor>=1.1.0 in /usr/local/lib/python3.11/dist-packages (from tensorflow==2.12.0) (3.0.1)\n",
            "Requirement already satisfied: typing-extensions>=3.6.6 in /usr/local/lib/python3.11/dist-packages (from tensorflow==2.12.0) (4.13.1)\n",
            "Collecting wrapt<1.15,>=1.11.0 (from tensorflow==2.12.0)\n",
            "  Downloading wrapt-1.14.1-cp311-cp311-manylinux_2_5_x86_64.manylinux1_x86_64.manylinux_2_17_x86_64.manylinux2014_x86_64.whl.metadata (6.7 kB)\n",
            "Requirement already satisfied: tensorflow-io-gcs-filesystem>=0.23.1 in /usr/local/lib/python3.11/dist-packages (from tensorflow==2.12.0) (0.37.1)\n",
            "Requirement already satisfied: wheel<1.0,>=0.23.0 in /usr/local/lib/python3.11/dist-packages (from astunparse>=1.6.0->tensorflow==2.12.0) (0.45.1)\n",
            "Requirement already satisfied: jaxlib<=0.5.2,>=0.5.1 in /usr/local/lib/python3.11/dist-packages (from jax>=0.3.15->tensorflow==2.12.0) (0.5.1)\n",
            "Requirement already satisfied: ml_dtypes>=0.4.0 in /usr/local/lib/python3.11/dist-packages (from jax>=0.3.15->tensorflow==2.12.0) (0.4.1)\n",
            "INFO: pip is looking at multiple versions of jax to determine which version is compatible with other requirements. This could take a while.\n",
            "Collecting jax>=0.3.15 (from tensorflow==2.12.0)\n",
            "  Downloading jax-0.5.3-py3-none-any.whl.metadata (22 kB)\n",
            "Collecting jaxlib<=0.5.3,>=0.5.3 (from jax>=0.3.15->tensorflow==2.12.0)\n",
            "  Downloading jaxlib-0.5.3-cp311-cp311-manylinux2014_x86_64.whl.metadata (1.2 kB)\n",
            "Collecting jax>=0.3.15 (from tensorflow==2.12.0)\n",
            "  Downloading jax-0.5.1-py3-none-any.whl.metadata (22 kB)\n",
            "  Downloading jax-0.5.0-py3-none-any.whl.metadata (22 kB)\n",
            "Collecting jaxlib<=0.5.0,>=0.5.0 (from jax>=0.3.15->tensorflow==2.12.0)\n",
            "  Downloading jaxlib-0.5.0-cp311-cp311-manylinux2014_x86_64.whl.metadata (978 bytes)\n",
            "Collecting jax>=0.3.15 (from tensorflow==2.12.0)\n",
            "  Downloading jax-0.4.38-py3-none-any.whl.metadata (22 kB)\n",
            "Collecting jaxlib<=0.4.38,>=0.4.38 (from jax>=0.3.15->tensorflow==2.12.0)\n",
            "  Downloading jaxlib-0.4.38-cp311-cp311-manylinux2014_x86_64.whl.metadata (1.0 kB)\n",
            "Collecting jax>=0.3.15 (from tensorflow==2.12.0)\n",
            "  Downloading jax-0.4.37-py3-none-any.whl.metadata (22 kB)\n",
            "Collecting jaxlib<=0.4.37,>=0.4.36 (from jax>=0.3.15->tensorflow==2.12.0)\n",
            "  Downloading jaxlib-0.4.36-cp311-cp311-manylinux2014_x86_64.whl.metadata (1.0 kB)\n",
            "Collecting jax>=0.3.15 (from tensorflow==2.12.0)\n",
            "  Downloading jax-0.4.36-py3-none-any.whl.metadata (22 kB)\n",
            "  Downloading jax-0.4.35-py3-none-any.whl.metadata (22 kB)\n",
            "Collecting jaxlib<=0.4.35,>=0.4.34 (from jax>=0.3.15->tensorflow==2.12.0)\n",
            "  Downloading jaxlib-0.4.35-cp311-cp311-manylinux2014_x86_64.whl.metadata (983 bytes)\n",
            "INFO: pip is still looking at multiple versions of jax to determine which version is compatible with other requirements. This could take a while.\n",
            "Collecting jax>=0.3.15 (from tensorflow==2.12.0)\n",
            "  Downloading jax-0.4.34-py3-none-any.whl.metadata (22 kB)\n",
            "Collecting jaxlib<=0.4.34,>=0.4.34 (from jax>=0.3.15->tensorflow==2.12.0)\n",
            "  Downloading jaxlib-0.4.34-cp311-cp311-manylinux2014_x86_64.whl.metadata (983 bytes)\n",
            "Collecting jax>=0.3.15 (from tensorflow==2.12.0)\n",
            "  Downloading jax-0.4.33-py3-none-any.whl.metadata (22 kB)\n",
            "Collecting jaxlib<=0.4.33,>=0.4.33 (from jax>=0.3.15->tensorflow==2.12.0)\n",
            "  Downloading jaxlib-0.4.33-cp311-cp311-manylinux2014_x86_64.whl.metadata (983 bytes)\n",
            "Collecting jax>=0.3.15 (from tensorflow==2.12.0)\n",
            "  Downloading jax-0.4.31-py3-none-any.whl.metadata (22 kB)\n",
            "Collecting jaxlib<=0.4.31,>=0.4.30 (from jax>=0.3.15->tensorflow==2.12.0)\n",
            "  Downloading jaxlib-0.4.31-cp311-cp311-manylinux2014_x86_64.whl.metadata (983 bytes)\n",
            "Collecting jax>=0.3.15 (from tensorflow==2.12.0)\n",
            "  Downloading jax-0.4.30-py3-none-any.whl.metadata (22 kB)\n",
            "Collecting jaxlib<=0.4.30,>=0.4.27 (from jax>=0.3.15->tensorflow==2.12.0)\n",
            "  Downloading jaxlib-0.4.30-cp311-cp311-manylinux2014_x86_64.whl.metadata (1.0 kB)\n",
            "Requirement already satisfied: scipy>=1.9 in /usr/local/lib/python3.11/dist-packages (from jax>=0.3.15->tensorflow==2.12.0) (1.14.1)\n",
            "Requirement already satisfied: google-auth<3,>=1.6.3 in /usr/local/lib/python3.11/dist-packages (from tensorboard<2.13,>=2.12->tensorflow==2.12.0) (2.38.0)\n",
            "Collecting google-auth-oauthlib<1.1,>=0.5 (from tensorboard<2.13,>=2.12->tensorflow==2.12.0)\n",
            "  Downloading google_auth_oauthlib-1.0.0-py2.py3-none-any.whl.metadata (2.7 kB)\n",
            "Requirement already satisfied: markdown>=2.6.8 in /usr/local/lib/python3.11/dist-packages (from tensorboard<2.13,>=2.12->tensorflow==2.12.0) (3.7)\n",
            "Requirement already satisfied: requests<3,>=2.21.0 in /usr/local/lib/python3.11/dist-packages (from tensorboard<2.13,>=2.12->tensorflow==2.12.0) (2.32.3)\n",
            "Requirement already satisfied: tensorboard-data-server<0.8.0,>=0.7.0 in /usr/local/lib/python3.11/dist-packages (from tensorboard<2.13,>=2.12->tensorflow==2.12.0) (0.7.2)\n",
            "Requirement already satisfied: werkzeug>=1.0.1 in /usr/local/lib/python3.11/dist-packages (from tensorboard<2.13,>=2.12->tensorflow==2.12.0) (3.1.3)\n",
            "Requirement already satisfied: cachetools<6.0,>=2.0.0 in /usr/local/lib/python3.11/dist-packages (from google-auth<3,>=1.6.3->tensorboard<2.13,>=2.12->tensorflow==2.12.0) (5.5.2)\n",
            "Requirement already satisfied: pyasn1-modules>=0.2.1 in /usr/local/lib/python3.11/dist-packages (from google-auth<3,>=1.6.3->tensorboard<2.13,>=2.12->tensorflow==2.12.0) (0.4.2)\n",
            "Requirement already satisfied: rsa<5,>=3.1.4 in /usr/local/lib/python3.11/dist-packages (from google-auth<3,>=1.6.3->tensorboard<2.13,>=2.12->tensorflow==2.12.0) (4.9)\n",
            "Requirement already satisfied: requests-oauthlib>=0.7.0 in /usr/local/lib/python3.11/dist-packages (from google-auth-oauthlib<1.1,>=0.5->tensorboard<2.13,>=2.12->tensorflow==2.12.0) (2.0.0)\n",
            "Requirement already satisfied: charset-normalizer<4,>=2 in /usr/local/lib/python3.11/dist-packages (from requests<3,>=2.21.0->tensorboard<2.13,>=2.12->tensorflow==2.12.0) (3.4.1)\n",
            "Requirement already satisfied: idna<4,>=2.5 in /usr/local/lib/python3.11/dist-packages (from requests<3,>=2.21.0->tensorboard<2.13,>=2.12->tensorflow==2.12.0) (3.10)\n",
            "Requirement already satisfied: urllib3<3,>=1.21.1 in /usr/local/lib/python3.11/dist-packages (from requests<3,>=2.21.0->tensorboard<2.13,>=2.12->tensorflow==2.12.0) (2.3.0)\n",
            "Requirement already satisfied: certifi>=2017.4.17 in /usr/local/lib/python3.11/dist-packages (from requests<3,>=2.21.0->tensorboard<2.13,>=2.12->tensorflow==2.12.0) (2025.1.31)\n",
            "Requirement already satisfied: MarkupSafe>=2.1.1 in /usr/local/lib/python3.11/dist-packages (from werkzeug>=1.0.1->tensorboard<2.13,>=2.12->tensorflow==2.12.0) (3.0.2)\n",
            "Requirement already satisfied: pyasn1<0.7.0,>=0.6.1 in /usr/local/lib/python3.11/dist-packages (from pyasn1-modules>=0.2.1->google-auth<3,>=1.6.3->tensorboard<2.13,>=2.12->tensorflow==2.12.0) (0.6.1)\n",
            "Requirement already satisfied: oauthlib>=3.0.0 in /usr/local/lib/python3.11/dist-packages (from requests-oauthlib>=0.7.0->google-auth-oauthlib<1.1,>=0.5->tensorboard<2.13,>=2.12->tensorflow==2.12.0) (3.2.2)\n",
            "Downloading tensorflow-2.12.0-cp311-cp311-manylinux_2_17_x86_64.manylinux2014_x86_64.whl (586.0 MB)\n",
            "\u001b[2K   \u001b[90m━━━━━━━━━━━━━━━━━━━━━━━━━━━━━━━━━━━━━━━━\u001b[0m \u001b[32m586.0/586.0 MB\u001b[0m \u001b[31m1.2 MB/s\u001b[0m eta \u001b[36m0:00:00\u001b[0m\n",
            "\u001b[?25hDownloading gast-0.4.0-py3-none-any.whl (9.8 kB)\n",
            "Downloading jax-0.4.30-py3-none-any.whl (2.0 MB)\n",
            "\u001b[2K   \u001b[90m━━━━━━━━━━━━━━━━━━━━━━━━━━━━━━━━━━━━━━━━\u001b[0m \u001b[32m2.0/2.0 MB\u001b[0m \u001b[31m54.1 MB/s\u001b[0m eta \u001b[36m0:00:00\u001b[0m\n",
            "\u001b[?25hDownloading keras-2.12.0-py2.py3-none-any.whl (1.7 MB)\n",
            "\u001b[2K   \u001b[90m━━━━━━━━━━━━━━━━━━━━━━━━━━━━━━━━━━━━━━━━\u001b[0m \u001b[32m1.7/1.7 MB\u001b[0m \u001b[31m48.9 MB/s\u001b[0m eta \u001b[36m0:00:00\u001b[0m\n",
            "\u001b[?25hDownloading numpy-1.23.5-cp311-cp311-manylinux_2_17_x86_64.manylinux2014_x86_64.whl (17.1 MB)\n",
            "\u001b[2K   \u001b[90m━━━━━━━━━━━━━━━━━━━━━━━━━━━━━━━━━━━━━━━━\u001b[0m \u001b[32m17.1/17.1 MB\u001b[0m \u001b[31m75.2 MB/s\u001b[0m eta \u001b[36m0:00:00\u001b[0m\n",
            "\u001b[?25hDownloading protobuf-4.25.6-cp37-abi3-manylinux2014_x86_64.whl (294 kB)\n",
            "\u001b[2K   \u001b[90m━━━━━━━━━━━━━━━━━━━━━━━━━━━━━━━━━━━━━━━━\u001b[0m \u001b[32m294.6/294.6 kB\u001b[0m \u001b[31m17.0 MB/s\u001b[0m eta \u001b[36m0:00:00\u001b[0m\n",
            "\u001b[?25hDownloading tensorboard-2.12.3-py3-none-any.whl (5.6 MB)\n",
            "\u001b[2K   \u001b[90m━━━━━━━━━━━━━━━━━━━━━━━━━━━━━━━━━━━━━━━━\u001b[0m \u001b[32m5.6/5.6 MB\u001b[0m \u001b[31m86.1 MB/s\u001b[0m eta \u001b[36m0:00:00\u001b[0m\n",
            "\u001b[?25hDownloading tensorflow_estimator-2.12.0-py2.py3-none-any.whl (440 kB)\n",
            "\u001b[2K   \u001b[90m━━━━━━━━━━━━━━━━━━━━━━━━━━━━━━━━━━━━━━━━\u001b[0m \u001b[32m440.7/440.7 kB\u001b[0m \u001b[31m25.0 MB/s\u001b[0m eta \u001b[36m0:00:00\u001b[0m\n",
            "\u001b[?25hDownloading wrapt-1.14.1-cp311-cp311-manylinux_2_5_x86_64.manylinux1_x86_64.manylinux_2_17_x86_64.manylinux2014_x86_64.whl (78 kB)\n",
            "\u001b[2K   \u001b[90m━━━━━━━━━━━━━━━━━━━━━━━━━━━━━━━━━━━━━━━━\u001b[0m \u001b[32m78.4/78.4 kB\u001b[0m \u001b[31m5.1 MB/s\u001b[0m eta \u001b[36m0:00:00\u001b[0m\n",
            "\u001b[?25hDownloading google_auth_oauthlib-1.0.0-py2.py3-none-any.whl (18 kB)\n",
            "Downloading jaxlib-0.4.30-cp311-cp311-manylinux2014_x86_64.whl (79.6 MB)\n",
            "\u001b[2K   \u001b[90m━━━━━━━━━━━━━━━━━━━━━━━━━━━━━━━━━━━━━━━━\u001b[0m \u001b[32m79.6/79.6 MB\u001b[0m \u001b[31m8.9 MB/s\u001b[0m eta \u001b[36m0:00:00\u001b[0m\n",
            "\u001b[?25hInstalling collected packages: wrapt, tensorflow-estimator, protobuf, numpy, keras, gast, jaxlib, google-auth-oauthlib, tensorboard, jax, tensorflow\n",
            "  Attempting uninstall: wrapt\n",
            "    Found existing installation: wrapt 1.17.2\n",
            "    Uninstalling wrapt-1.17.2:\n",
            "      Successfully uninstalled wrapt-1.17.2\n",
            "  Attempting uninstall: protobuf\n",
            "    Found existing installation: protobuf 5.29.4\n",
            "    Uninstalling protobuf-5.29.4:\n",
            "      Successfully uninstalled protobuf-5.29.4\n",
            "  Attempting uninstall: numpy\n",
            "    Found existing installation: numpy 2.0.2\n",
            "    Uninstalling numpy-2.0.2:\n",
            "      Successfully uninstalled numpy-2.0.2\n",
            "  Attempting uninstall: keras\n",
            "    Found existing installation: keras 3.8.0\n",
            "    Uninstalling keras-3.8.0:\n",
            "      Successfully uninstalled keras-3.8.0\n",
            "  Attempting uninstall: gast\n",
            "    Found existing installation: gast 0.6.0\n",
            "    Uninstalling gast-0.6.0:\n",
            "      Successfully uninstalled gast-0.6.0\n",
            "  Attempting uninstall: jaxlib\n",
            "    Found existing installation: jaxlib 0.5.1\n",
            "    Uninstalling jaxlib-0.5.1:\n",
            "      Successfully uninstalled jaxlib-0.5.1\n",
            "  Attempting uninstall: google-auth-oauthlib\n",
            "    Found existing installation: google-auth-oauthlib 1.2.1\n",
            "    Uninstalling google-auth-oauthlib-1.2.1:\n",
            "      Successfully uninstalled google-auth-oauthlib-1.2.1\n",
            "  Attempting uninstall: tensorboard\n",
            "    Found existing installation: tensorboard 2.18.0\n",
            "    Uninstalling tensorboard-2.18.0:\n",
            "      Successfully uninstalled tensorboard-2.18.0\n",
            "  Attempting uninstall: jax\n",
            "    Found existing installation: jax 0.5.2\n",
            "    Uninstalling jax-0.5.2:\n",
            "      Successfully uninstalled jax-0.5.2\n",
            "  Attempting uninstall: tensorflow\n",
            "    Found existing installation: tensorflow 2.18.0\n",
            "    Uninstalling tensorflow-2.18.0:\n",
            "      Successfully uninstalled tensorflow-2.18.0\n",
            "\u001b[31mERROR: pip's dependency resolver does not currently take into account all the packages that are installed. This behaviour is the source of the following dependency conflicts.\n",
            "tensorflow-text 2.18.1 requires tensorflow<2.19,>=2.18.0, but you have tensorflow 2.12.0 which is incompatible.\n",
            "chex 0.1.89 requires numpy>=1.24.1, but you have numpy 1.23.5 which is incompatible.\n",
            "pymc 5.21.2 requires numpy>=1.25.0, but you have numpy 1.23.5 which is incompatible.\n",
            "scikit-image 0.25.2 requires numpy>=1.24, but you have numpy 1.23.5 which is incompatible.\n",
            "xarray 2025.1.2 requires numpy>=1.24, but you have numpy 1.23.5 which is incompatible.\n",
            "flax 0.10.5 requires jax>=0.5.1, but you have jax 0.4.30 which is incompatible.\n",
            "bigframes 1.42.0 requires numpy>=1.24.0, but you have numpy 1.23.5 which is incompatible.\n",
            "blosc2 3.2.1 requires numpy>=1.26, but you have numpy 1.23.5 which is incompatible.\n",
            "albumentations 2.0.5 requires numpy>=1.24.4, but you have numpy 1.23.5 which is incompatible.\n",
            "treescope 0.1.9 requires numpy>=1.25.2, but you have numpy 1.23.5 which is incompatible.\n",
            "tf-keras 2.18.0 requires tensorflow<2.19,>=2.18, but you have tensorflow 2.12.0 which is incompatible.\n",
            "grpcio-status 1.71.0 requires protobuf<6.0dev,>=5.26.1, but you have protobuf 4.25.6 which is incompatible.\n",
            "albucore 0.0.23 requires numpy>=1.24.4, but you have numpy 1.23.5 which is incompatible.\n",
            "orbax-checkpoint 0.11.10 requires jax>=0.5.0, but you have jax 0.4.30 which is incompatible.\n",
            "imbalanced-learn 0.13.0 requires numpy<3,>=1.24.3, but you have numpy 1.23.5 which is incompatible.\u001b[0m\u001b[31m\n",
            "\u001b[0mSuccessfully installed gast-0.4.0 google-auth-oauthlib-1.0.0 jax-0.4.30 jaxlib-0.4.30 keras-2.12.0 numpy-1.23.5 protobuf-4.25.6 tensorboard-2.12.3 tensorflow-2.12.0 tensorflow-estimator-2.12.0 wrapt-1.14.1\n"
          ]
        },
        {
          "output_type": "display_data",
          "data": {
            "application/vnd.colab-display-data+json": {
              "pip_warning": {
                "packages": [
                  "numpy"
                ]
              },
              "id": "7aa32aedc0e4466581758c511dc8cbc5"
            }
          },
          "metadata": {}
        }
      ],
      "source": [
        "!pip install tensorflow==2.12.0"
      ]
    },
    {
      "cell_type": "code",
      "source": [
        "!pip install scikeras==0.12.0"
      ],
      "metadata": {
        "colab": {
          "base_uri": "https://localhost:8080/"
        },
        "collapsed": true,
        "id": "s42K9EQ3n2U3",
        "outputId": "a412007c-8354-4df1-8333-90db41e60c60"
      },
      "execution_count": null,
      "outputs": [
        {
          "output_type": "stream",
          "name": "stdout",
          "text": [
            "Requirement already satisfied: scikeras==0.12.0 in /usr/local/lib/python3.11/dist-packages (0.12.0)\n",
            "Requirement already satisfied: packaging>=0.21 in /usr/local/lib/python3.11/dist-packages (from scikeras==0.12.0) (24.2)\n",
            "Requirement already satisfied: scikit-learn>=1.0.0 in /usr/local/lib/python3.11/dist-packages (from scikeras==0.12.0) (1.6.1)\n",
            "Requirement already satisfied: numpy>=1.19.5 in /usr/local/lib/python3.11/dist-packages (from scikit-learn>=1.0.0->scikeras==0.12.0) (1.23.5)\n",
            "Requirement already satisfied: scipy>=1.6.0 in /usr/local/lib/python3.11/dist-packages (from scikit-learn>=1.0.0->scikeras==0.12.0) (1.14.1)\n",
            "Requirement already satisfied: joblib>=1.2.0 in /usr/local/lib/python3.11/dist-packages (from scikit-learn>=1.0.0->scikeras==0.12.0) (1.4.2)\n",
            "Requirement already satisfied: threadpoolctl>=3.1.0 in /usr/local/lib/python3.11/dist-packages (from scikit-learn>=1.0.0->scikeras==0.12.0) (3.6.0)\n"
          ]
        }
      ]
    },
    {
      "cell_type": "code",
      "source": [
        "!pip uninstall -y scikit-learn"
      ],
      "metadata": {
        "colab": {
          "base_uri": "https://localhost:8080/"
        },
        "collapsed": true,
        "id": "Bc2yaffBqSpV",
        "outputId": "0eda6edc-63ac-4185-90fc-7dc33e643156"
      },
      "execution_count": null,
      "outputs": [
        {
          "output_type": "stream",
          "name": "stdout",
          "text": [
            "Found existing installation: scikit-learn 1.6.1\n",
            "Uninstalling scikit-learn-1.6.1:\n",
            "  Successfully uninstalled scikit-learn-1.6.1\n"
          ]
        }
      ]
    },
    {
      "cell_type": "code",
      "source": [
        "!pip install scikit-learn==1.3.1"
      ],
      "metadata": {
        "colab": {
          "base_uri": "https://localhost:8080/"
        },
        "collapsed": true,
        "id": "44zI_XIJqXfC",
        "outputId": "7842425e-c275-4eed-ec73-48f8272c711a"
      },
      "execution_count": null,
      "outputs": [
        {
          "output_type": "stream",
          "name": "stdout",
          "text": [
            "Collecting scikit-learn==1.3.1\n",
            "  Downloading scikit_learn-1.3.1-cp311-cp311-manylinux_2_17_x86_64.manylinux2014_x86_64.whl.metadata (11 kB)\n",
            "Requirement already satisfied: numpy<2.0,>=1.17.3 in /usr/local/lib/python3.11/dist-packages (from scikit-learn==1.3.1) (1.23.5)\n",
            "Requirement already satisfied: scipy>=1.5.0 in /usr/local/lib/python3.11/dist-packages (from scikit-learn==1.3.1) (1.14.1)\n",
            "Requirement already satisfied: joblib>=1.1.1 in /usr/local/lib/python3.11/dist-packages (from scikit-learn==1.3.1) (1.4.2)\n",
            "Requirement already satisfied: threadpoolctl>=2.0.0 in /usr/local/lib/python3.11/dist-packages (from scikit-learn==1.3.1) (3.6.0)\n",
            "Downloading scikit_learn-1.3.1-cp311-cp311-manylinux_2_17_x86_64.manylinux2014_x86_64.whl (10.9 MB)\n",
            "\u001b[2K   \u001b[90m━━━━━━━━━━━━━━━━━━━━━━━━━━━━━━━━━━━━━━━━\u001b[0m \u001b[32m10.9/10.9 MB\u001b[0m \u001b[31m28.1 MB/s\u001b[0m eta \u001b[36m0:00:00\u001b[0m\n",
            "\u001b[?25hInstalling collected packages: scikit-learn\n",
            "\u001b[31mERROR: pip's dependency resolver does not currently take into account all the packages that are installed. This behaviour is the source of the following dependency conflicts.\n",
            "imbalanced-learn 0.13.0 requires numpy<3,>=1.24.3, but you have numpy 1.23.5 which is incompatible.\n",
            "imbalanced-learn 0.13.0 requires scikit-learn<2,>=1.3.2, but you have scikit-learn 1.3.1 which is incompatible.\u001b[0m\u001b[31m\n",
            "\u001b[0mSuccessfully installed scikit-learn-1.3.1\n"
          ]
        }
      ]
    },
    {
      "cell_type": "code",
      "source": [
        "import tensorflow as tf\n",
        "import sklearn\n",
        "\n",
        "print(\"TensorFlow:\", tf.__version__)\n",
        "print(\"Scikit-learn:\", sklearn.__version__)\n",
        "print(\"Keras location:\", tf.keras.__file__)"
      ],
      "metadata": {
        "colab": {
          "base_uri": "https://localhost:8080/"
        },
        "id": "3izDN5as02oc",
        "outputId": "8a15e1b1-7748-4d6d-9214-a574f60c94e3"
      },
      "execution_count": null,
      "outputs": [
        {
          "output_type": "stream",
          "name": "stdout",
          "text": [
            "TensorFlow: 2.12.0\n",
            "Scikit-learn: 1.3.1\n",
            "Keras location: /usr/local/lib/python3.11/dist-packages/keras/api/_v2/keras/__init__.py\n"
          ]
        }
      ]
    },
    {
      "cell_type": "markdown",
      "source": [],
      "metadata": {
        "id": "bbG0DKKw9W3u"
      }
    },
    {
      "cell_type": "markdown",
      "source": [
        "# Glass Type Classification and NLP on Amazon Kindle Reviews\n",
        "\n",
        "## Introduction\n",
        "This notebook addresses the assessment task of classifying glass types using a simple neural network and applying NLP techniques to clean and classify product reviews from the Amazon Kindle Store. The project is divided into two main parts:\n",
        "\n",
        "1. Classification of Glass Types using a Simple Neural Network\n",
        "2. Natural Language Processing on Amazon Kindle Store Reviews\n",
        "3. Classification of ratings on Amazon Kindle Store Reviews\n",
        "4. Enhancing Customer Support using Open API LLM\n",
        "\n"
      ],
      "metadata": {
        "id": "WMbcn5G7ymmS"
      }
    },
    {
      "cell_type": "markdown",
      "source": [
        "## Part 1: Glass Type Classification"
      ],
      "metadata": {
        "id": "BZWiG0RWypnL"
      }
    },
    {
      "cell_type": "markdown",
      "source": [
        "### Import Libraries & DataSet"
      ],
      "metadata": {
        "id": "qjFtL2cPP7rf"
      }
    },
    {
      "cell_type": "code",
      "source": [
        "# Basic Libraries\n",
        "import numpy as np\n",
        "import pandas as pd\n",
        "import matplotlib.pyplot as plt\n",
        "import seaborn as sns\n",
        "\n",
        "# Data Preprocessing & Model Selection\n",
        "from sklearn.model_selection import train_test_split, GridSearchCV, cross_val_score\n",
        "from sklearn.preprocessing import StandardScaler\n",
        "\n",
        "# Machine Learning Models\n",
        "from tensorflow.keras.models import Sequential\n",
        "from tensorflow.keras.layers import Input, Dense, Dropout\n",
        "from scikeras.wrappers import KerasClassifier\n",
        "\n",
        "# Model Evaluation Metrics\n",
        "from sklearn.metrics import classification_report, confusion_matrix, accuracy_score\n",
        "\n",
        "# Google Colab-Specific Utilities (Optional if you're using Jupyter locally)\n",
        "from google.colab import files  #"
      ],
      "metadata": {
        "id": "AXRjX_lSPpo4"
      },
      "execution_count": null,
      "outputs": []
    },
    {
      "cell_type": "code",
      "source": [
        "# Load dataset\n",
        "glass_data = pd.read_csv(\"glass_data.csv\")"
      ],
      "metadata": {
        "id": "NjXRZHRwQFj4"
      },
      "execution_count": null,
      "outputs": []
    },
    {
      "cell_type": "markdown",
      "source": [
        "The dataset containing glass data will be loaded using Pandas."
      ],
      "metadata": {
        "id": "Quur2OyEnjf-"
      }
    },
    {
      "cell_type": "markdown",
      "source": [
        "### Load and Explore Dataset"
      ],
      "metadata": {
        "id": "m_uFDEWwIbuf"
      }
    },
    {
      "cell_type": "markdown",
      "source": [
        "#### Display basic information about the dataset"
      ],
      "metadata": {
        "id": "4lJvq6sjz31u"
      }
    },
    {
      "cell_type": "code",
      "source": [
        "glass_data.info()\n",
        "glass_data.describe()\n",
        "glass_data.head()"
      ],
      "metadata": {
        "id": "CE21Wnuoz8m6",
        "colab": {
          "base_uri": "https://localhost:8080/"
        },
        "outputId": "7e049d3d-b8e7-4c91-94bb-56e7fb58be82"
      },
      "execution_count": null,
      "outputs": [
        {
          "output_type": "stream",
          "name": "stdout",
          "text": [
            "<class 'pandas.core.frame.DataFrame'>\n",
            "RangeIndex: 214 entries, 0 to 213\n",
            "Data columns (total 11 columns):\n",
            " #   Column  Non-Null Count  Dtype  \n",
            "---  ------  --------------  -----  \n",
            " 0   id      214 non-null    int64  \n",
            " 1   ri      214 non-null    float64\n",
            " 2   na      214 non-null    float64\n",
            " 3   mg      214 non-null    float64\n",
            " 4   al      214 non-null    float64\n",
            " 5   si      214 non-null    float64\n",
            " 6   k       214 non-null    float64\n",
            " 7   ca      214 non-null    float64\n",
            " 8   ba      214 non-null    float64\n",
            " 9   fe      214 non-null    float64\n",
            " 10  type    214 non-null    int64  \n",
            "dtypes: float64(9), int64(2)\n",
            "memory usage: 18.5 KB\n"
          ]
        },
        {
          "output_type": "execute_result",
          "data": {
            "text/plain": [
              "   id       ri     na    mg    al     si     k    ca   ba   fe  type\n",
              "0   1  1.52101  13.64  4.49  1.10  71.78  0.06  8.75  0.0  0.0     1\n",
              "1   2  1.51761  13.89  3.60  1.36  72.73  0.48  7.83  0.0  0.0     1\n",
              "2   3  1.51618  13.53  3.55  1.54  72.99  0.39  7.78  0.0  0.0     1\n",
              "3   4  1.51766  13.21  3.69  1.29  72.61  0.57  8.22  0.0  0.0     1\n",
              "4   5  1.51742  13.27  3.62  1.24  73.08  0.55  8.07  0.0  0.0     1"
            ],
            "text/html": [
              "\n",
              "  <div id=\"df-6dd00c45-6b74-4af2-b28b-12e75d8eb75a\" class=\"colab-df-container\">\n",
              "    <div>\n",
              "<style scoped>\n",
              "    .dataframe tbody tr th:only-of-type {\n",
              "        vertical-align: middle;\n",
              "    }\n",
              "\n",
              "    .dataframe tbody tr th {\n",
              "        vertical-align: top;\n",
              "    }\n",
              "\n",
              "    .dataframe thead th {\n",
              "        text-align: right;\n",
              "    }\n",
              "</style>\n",
              "<table border=\"1\" class=\"dataframe\">\n",
              "  <thead>\n",
              "    <tr style=\"text-align: right;\">\n",
              "      <th></th>\n",
              "      <th>id</th>\n",
              "      <th>ri</th>\n",
              "      <th>na</th>\n",
              "      <th>mg</th>\n",
              "      <th>al</th>\n",
              "      <th>si</th>\n",
              "      <th>k</th>\n",
              "      <th>ca</th>\n",
              "      <th>ba</th>\n",
              "      <th>fe</th>\n",
              "      <th>type</th>\n",
              "    </tr>\n",
              "  </thead>\n",
              "  <tbody>\n",
              "    <tr>\n",
              "      <th>0</th>\n",
              "      <td>1</td>\n",
              "      <td>1.52101</td>\n",
              "      <td>13.64</td>\n",
              "      <td>4.49</td>\n",
              "      <td>1.10</td>\n",
              "      <td>71.78</td>\n",
              "      <td>0.06</td>\n",
              "      <td>8.75</td>\n",
              "      <td>0.0</td>\n",
              "      <td>0.0</td>\n",
              "      <td>1</td>\n",
              "    </tr>\n",
              "    <tr>\n",
              "      <th>1</th>\n",
              "      <td>2</td>\n",
              "      <td>1.51761</td>\n",
              "      <td>13.89</td>\n",
              "      <td>3.60</td>\n",
              "      <td>1.36</td>\n",
              "      <td>72.73</td>\n",
              "      <td>0.48</td>\n",
              "      <td>7.83</td>\n",
              "      <td>0.0</td>\n",
              "      <td>0.0</td>\n",
              "      <td>1</td>\n",
              "    </tr>\n",
              "    <tr>\n",
              "      <th>2</th>\n",
              "      <td>3</td>\n",
              "      <td>1.51618</td>\n",
              "      <td>13.53</td>\n",
              "      <td>3.55</td>\n",
              "      <td>1.54</td>\n",
              "      <td>72.99</td>\n",
              "      <td>0.39</td>\n",
              "      <td>7.78</td>\n",
              "      <td>0.0</td>\n",
              "      <td>0.0</td>\n",
              "      <td>1</td>\n",
              "    </tr>\n",
              "    <tr>\n",
              "      <th>3</th>\n",
              "      <td>4</td>\n",
              "      <td>1.51766</td>\n",
              "      <td>13.21</td>\n",
              "      <td>3.69</td>\n",
              "      <td>1.29</td>\n",
              "      <td>72.61</td>\n",
              "      <td>0.57</td>\n",
              "      <td>8.22</td>\n",
              "      <td>0.0</td>\n",
              "      <td>0.0</td>\n",
              "      <td>1</td>\n",
              "    </tr>\n",
              "    <tr>\n",
              "      <th>4</th>\n",
              "      <td>5</td>\n",
              "      <td>1.51742</td>\n",
              "      <td>13.27</td>\n",
              "      <td>3.62</td>\n",
              "      <td>1.24</td>\n",
              "      <td>73.08</td>\n",
              "      <td>0.55</td>\n",
              "      <td>8.07</td>\n",
              "      <td>0.0</td>\n",
              "      <td>0.0</td>\n",
              "      <td>1</td>\n",
              "    </tr>\n",
              "  </tbody>\n",
              "</table>\n",
              "</div>\n",
              "    <div class=\"colab-df-buttons\">\n",
              "\n",
              "  <div class=\"colab-df-container\">\n",
              "    <button class=\"colab-df-convert\" onclick=\"convertToInteractive('df-6dd00c45-6b74-4af2-b28b-12e75d8eb75a')\"\n",
              "            title=\"Convert this dataframe to an interactive table.\"\n",
              "            style=\"display:none;\">\n",
              "\n",
              "  <svg xmlns=\"http://www.w3.org/2000/svg\" height=\"24px\" viewBox=\"0 -960 960 960\">\n",
              "    <path d=\"M120-120v-720h720v720H120Zm60-500h600v-160H180v160Zm220 220h160v-160H400v160Zm0 220h160v-160H400v160ZM180-400h160v-160H180v160Zm440 0h160v-160H620v160ZM180-180h160v-160H180v160Zm440 0h160v-160H620v160Z\"/>\n",
              "  </svg>\n",
              "    </button>\n",
              "\n",
              "  <style>\n",
              "    .colab-df-container {\n",
              "      display:flex;\n",
              "      gap: 12px;\n",
              "    }\n",
              "\n",
              "    .colab-df-convert {\n",
              "      background-color: #E8F0FE;\n",
              "      border: none;\n",
              "      border-radius: 50%;\n",
              "      cursor: pointer;\n",
              "      display: none;\n",
              "      fill: #1967D2;\n",
              "      height: 32px;\n",
              "      padding: 0 0 0 0;\n",
              "      width: 32px;\n",
              "    }\n",
              "\n",
              "    .colab-df-convert:hover {\n",
              "      background-color: #E2EBFA;\n",
              "      box-shadow: 0px 1px 2px rgba(60, 64, 67, 0.3), 0px 1px 3px 1px rgba(60, 64, 67, 0.15);\n",
              "      fill: #174EA6;\n",
              "    }\n",
              "\n",
              "    .colab-df-buttons div {\n",
              "      margin-bottom: 4px;\n",
              "    }\n",
              "\n",
              "    [theme=dark] .colab-df-convert {\n",
              "      background-color: #3B4455;\n",
              "      fill: #D2E3FC;\n",
              "    }\n",
              "\n",
              "    [theme=dark] .colab-df-convert:hover {\n",
              "      background-color: #434B5C;\n",
              "      box-shadow: 0px 1px 3px 1px rgba(0, 0, 0, 0.15);\n",
              "      filter: drop-shadow(0px 1px 2px rgba(0, 0, 0, 0.3));\n",
              "      fill: #FFFFFF;\n",
              "    }\n",
              "  </style>\n",
              "\n",
              "    <script>\n",
              "      const buttonEl =\n",
              "        document.querySelector('#df-6dd00c45-6b74-4af2-b28b-12e75d8eb75a button.colab-df-convert');\n",
              "      buttonEl.style.display =\n",
              "        google.colab.kernel.accessAllowed ? 'block' : 'none';\n",
              "\n",
              "      async function convertToInteractive(key) {\n",
              "        const element = document.querySelector('#df-6dd00c45-6b74-4af2-b28b-12e75d8eb75a');\n",
              "        const dataTable =\n",
              "          await google.colab.kernel.invokeFunction('convertToInteractive',\n",
              "                                                    [key], {});\n",
              "        if (!dataTable) return;\n",
              "\n",
              "        const docLinkHtml = 'Like what you see? Visit the ' +\n",
              "          '<a target=\"_blank\" href=https://colab.research.google.com/notebooks/data_table.ipynb>data table notebook</a>'\n",
              "          + ' to learn more about interactive tables.';\n",
              "        element.innerHTML = '';\n",
              "        dataTable['output_type'] = 'display_data';\n",
              "        await google.colab.output.renderOutput(dataTable, element);\n",
              "        const docLink = document.createElement('div');\n",
              "        docLink.innerHTML = docLinkHtml;\n",
              "        element.appendChild(docLink);\n",
              "      }\n",
              "    </script>\n",
              "  </div>\n",
              "\n",
              "\n",
              "<div id=\"df-b73194bb-8305-4060-8b37-81f9220836c5\">\n",
              "  <button class=\"colab-df-quickchart\" onclick=\"quickchart('df-b73194bb-8305-4060-8b37-81f9220836c5')\"\n",
              "            title=\"Suggest charts\"\n",
              "            style=\"display:none;\">\n",
              "\n",
              "<svg xmlns=\"http://www.w3.org/2000/svg\" height=\"24px\"viewBox=\"0 0 24 24\"\n",
              "     width=\"24px\">\n",
              "    <g>\n",
              "        <path d=\"M19 3H5c-1.1 0-2 .9-2 2v14c0 1.1.9 2 2 2h14c1.1 0 2-.9 2-2V5c0-1.1-.9-2-2-2zM9 17H7v-7h2v7zm4 0h-2V7h2v10zm4 0h-2v-4h2v4z\"/>\n",
              "    </g>\n",
              "</svg>\n",
              "  </button>\n",
              "\n",
              "<style>\n",
              "  .colab-df-quickchart {\n",
              "      --bg-color: #E8F0FE;\n",
              "      --fill-color: #1967D2;\n",
              "      --hover-bg-color: #E2EBFA;\n",
              "      --hover-fill-color: #174EA6;\n",
              "      --disabled-fill-color: #AAA;\n",
              "      --disabled-bg-color: #DDD;\n",
              "  }\n",
              "\n",
              "  [theme=dark] .colab-df-quickchart {\n",
              "      --bg-color: #3B4455;\n",
              "      --fill-color: #D2E3FC;\n",
              "      --hover-bg-color: #434B5C;\n",
              "      --hover-fill-color: #FFFFFF;\n",
              "      --disabled-bg-color: #3B4455;\n",
              "      --disabled-fill-color: #666;\n",
              "  }\n",
              "\n",
              "  .colab-df-quickchart {\n",
              "    background-color: var(--bg-color);\n",
              "    border: none;\n",
              "    border-radius: 50%;\n",
              "    cursor: pointer;\n",
              "    display: none;\n",
              "    fill: var(--fill-color);\n",
              "    height: 32px;\n",
              "    padding: 0;\n",
              "    width: 32px;\n",
              "  }\n",
              "\n",
              "  .colab-df-quickchart:hover {\n",
              "    background-color: var(--hover-bg-color);\n",
              "    box-shadow: 0 1px 2px rgba(60, 64, 67, 0.3), 0 1px 3px 1px rgba(60, 64, 67, 0.15);\n",
              "    fill: var(--button-hover-fill-color);\n",
              "  }\n",
              "\n",
              "  .colab-df-quickchart-complete:disabled,\n",
              "  .colab-df-quickchart-complete:disabled:hover {\n",
              "    background-color: var(--disabled-bg-color);\n",
              "    fill: var(--disabled-fill-color);\n",
              "    box-shadow: none;\n",
              "  }\n",
              "\n",
              "  .colab-df-spinner {\n",
              "    border: 2px solid var(--fill-color);\n",
              "    border-color: transparent;\n",
              "    border-bottom-color: var(--fill-color);\n",
              "    animation:\n",
              "      spin 1s steps(1) infinite;\n",
              "  }\n",
              "\n",
              "  @keyframes spin {\n",
              "    0% {\n",
              "      border-color: transparent;\n",
              "      border-bottom-color: var(--fill-color);\n",
              "      border-left-color: var(--fill-color);\n",
              "    }\n",
              "    20% {\n",
              "      border-color: transparent;\n",
              "      border-left-color: var(--fill-color);\n",
              "      border-top-color: var(--fill-color);\n",
              "    }\n",
              "    30% {\n",
              "      border-color: transparent;\n",
              "      border-left-color: var(--fill-color);\n",
              "      border-top-color: var(--fill-color);\n",
              "      border-right-color: var(--fill-color);\n",
              "    }\n",
              "    40% {\n",
              "      border-color: transparent;\n",
              "      border-right-color: var(--fill-color);\n",
              "      border-top-color: var(--fill-color);\n",
              "    }\n",
              "    60% {\n",
              "      border-color: transparent;\n",
              "      border-right-color: var(--fill-color);\n",
              "    }\n",
              "    80% {\n",
              "      border-color: transparent;\n",
              "      border-right-color: var(--fill-color);\n",
              "      border-bottom-color: var(--fill-color);\n",
              "    }\n",
              "    90% {\n",
              "      border-color: transparent;\n",
              "      border-bottom-color: var(--fill-color);\n",
              "    }\n",
              "  }\n",
              "</style>\n",
              "\n",
              "  <script>\n",
              "    async function quickchart(key) {\n",
              "      const quickchartButtonEl =\n",
              "        document.querySelector('#' + key + ' button');\n",
              "      quickchartButtonEl.disabled = true;  // To prevent multiple clicks.\n",
              "      quickchartButtonEl.classList.add('colab-df-spinner');\n",
              "      try {\n",
              "        const charts = await google.colab.kernel.invokeFunction(\n",
              "            'suggestCharts', [key], {});\n",
              "      } catch (error) {\n",
              "        console.error('Error during call to suggestCharts:', error);\n",
              "      }\n",
              "      quickchartButtonEl.classList.remove('colab-df-spinner');\n",
              "      quickchartButtonEl.classList.add('colab-df-quickchart-complete');\n",
              "    }\n",
              "    (() => {\n",
              "      let quickchartButtonEl =\n",
              "        document.querySelector('#df-b73194bb-8305-4060-8b37-81f9220836c5 button');\n",
              "      quickchartButtonEl.style.display =\n",
              "        google.colab.kernel.accessAllowed ? 'block' : 'none';\n",
              "    })();\n",
              "  </script>\n",
              "</div>\n",
              "\n",
              "    </div>\n",
              "  </div>\n"
            ],
            "application/vnd.google.colaboratory.intrinsic+json": {
              "type": "dataframe",
              "variable_name": "glass_data",
              "summary": "{\n  \"name\": \"glass_data\",\n  \"rows\": 214,\n  \"fields\": [\n    {\n      \"column\": \"id\",\n      \"properties\": {\n        \"dtype\": \"number\",\n        \"std\": 61,\n        \"min\": 1,\n        \"max\": 214,\n        \"num_unique_values\": 214,\n        \"samples\": [\n          10,\n          198,\n          67\n        ],\n        \"semantic_type\": \"\",\n        \"description\": \"\"\n      }\n    },\n    {\n      \"column\": \"ri\",\n      \"properties\": {\n        \"dtype\": \"number\",\n        \"std\": 0.0030368637393854334,\n        \"min\": 1.51115,\n        \"max\": 1.53393,\n        \"num_unique_values\": 178,\n        \"samples\": [\n          1.51966,\n          1.51808,\n          1.51969\n        ],\n        \"semantic_type\": \"\",\n        \"description\": \"\"\n      }\n    },\n    {\n      \"column\": \"na\",\n      \"properties\": {\n        \"dtype\": \"number\",\n        \"std\": 0.8166035557149829,\n        \"min\": 10.73,\n        \"max\": 17.38,\n        \"num_unique_values\": 142,\n        \"samples\": [\n          14.38,\n          13.02,\n          13.83\n        ],\n        \"semantic_type\": \"\",\n        \"description\": \"\"\n      }\n    },\n    {\n      \"column\": \"mg\",\n      \"properties\": {\n        \"dtype\": \"number\",\n        \"std\": 1.4424078448704414,\n        \"min\": 0.0,\n        \"max\": 4.49,\n        \"num_unique_values\": 94,\n        \"samples\": [\n          3.86,\n          3.47,\n          2.9\n        ],\n        \"semantic_type\": \"\",\n        \"description\": \"\"\n      }\n    },\n    {\n      \"column\": \"al\",\n      \"properties\": {\n        \"dtype\": \"number\",\n        \"std\": 0.49926964560048454,\n        \"min\": 0.29,\n        \"max\": 3.5,\n        \"num_unique_values\": 118,\n        \"samples\": [\n          1.48,\n          1.65,\n          1.24\n        ],\n        \"semantic_type\": \"\",\n        \"description\": \"\"\n      }\n    },\n    {\n      \"column\": \"si\",\n      \"properties\": {\n        \"dtype\": \"number\",\n        \"std\": 0.7745457947651124,\n        \"min\": 69.81,\n        \"max\": 75.41,\n        \"num_unique_values\": 133,\n        \"samples\": [\n          72.22,\n          73.06,\n          71.81\n        ],\n        \"semantic_type\": \"\",\n        \"description\": \"\"\n      }\n    },\n    {\n      \"column\": \"k\",\n      \"properties\": {\n        \"dtype\": \"number\",\n        \"std\": 0.6521918455589802,\n        \"min\": 0.0,\n        \"max\": 6.21,\n        \"num_unique_values\": 65,\n        \"samples\": [\n          0.47,\n          0.31,\n          0.06\n        ],\n        \"semantic_type\": \"\",\n        \"description\": \"\"\n      }\n    },\n    {\n      \"column\": \"ca\",\n      \"properties\": {\n        \"dtype\": \"number\",\n        \"std\": 1.4231534872813945,\n        \"min\": 5.43,\n        \"max\": 16.19,\n        \"num_unique_values\": 143,\n        \"samples\": [\n          12.5,\n          8.52,\n          11.52\n        ],\n        \"semantic_type\": \"\",\n        \"description\": \"\"\n      }\n    },\n    {\n      \"column\": \"ba\",\n      \"properties\": {\n        \"dtype\": \"number\",\n        \"std\": 0.4972192605997036,\n        \"min\": 0.0,\n        \"max\": 3.15,\n        \"num_unique_values\": 34,\n        \"samples\": [\n          0.64,\n          0.61,\n          1.55\n        ],\n        \"semantic_type\": \"\",\n        \"description\": \"\"\n      }\n    },\n    {\n      \"column\": \"fe\",\n      \"properties\": {\n        \"dtype\": \"number\",\n        \"std\": 0.09743870063650086,\n        \"min\": 0.0,\n        \"max\": 0.51,\n        \"num_unique_values\": 32,\n        \"samples\": [\n          0.51,\n          0.03,\n          0.21\n        ],\n        \"semantic_type\": \"\",\n        \"description\": \"\"\n      }\n    },\n    {\n      \"column\": \"type\",\n      \"properties\": {\n        \"dtype\": \"number\",\n        \"std\": 2,\n        \"min\": 1,\n        \"max\": 7,\n        \"num_unique_values\": 6,\n        \"samples\": [\n          1,\n          2,\n          7\n        ],\n        \"semantic_type\": \"\",\n        \"description\": \"\"\n      }\n    }\n  ]\n}"
            }
          },
          "metadata": {},
          "execution_count": 8
        }
      ]
    },
    {
      "cell_type": "markdown",
      "source": [
        "#### Why display the basic data?\n",
        "Understanding the data before modeling is important.\n",
        "I inspected the dataset for basic information, including data types, missing values, and statistical summaries. This helped m,e decide what preprocessing steps i needed to do."
      ],
      "metadata": {
        "id": "iH0VDKD6AWyC"
      }
    },
    {
      "cell_type": "markdown",
      "source": [
        "#### Check for missing values"
      ],
      "metadata": {
        "id": "kwHgsi-Dz91q"
      }
    },
    {
      "cell_type": "code",
      "source": [
        "glass_data.isnull().sum()"
      ],
      "metadata": {
        "id": "5D9SCj4S0BAd",
        "colab": {
          "base_uri": "https://localhost:8080/"
        },
        "outputId": "c566da34-a591-4b14-aa40-e0b1bf2cfe99"
      },
      "execution_count": null,
      "outputs": [
        {
          "output_type": "execute_result",
          "data": {
            "text/plain": [
              "id      0\n",
              "ri      0\n",
              "na      0\n",
              "mg      0\n",
              "al      0\n",
              "si      0\n",
              "k       0\n",
              "ca      0\n",
              "ba      0\n",
              "fe      0\n",
              "type    0\n",
              "dtype: int64"
            ],
            "text/html": [
              "<div>\n",
              "<style scoped>\n",
              "    .dataframe tbody tr th:only-of-type {\n",
              "        vertical-align: middle;\n",
              "    }\n",
              "\n",
              "    .dataframe tbody tr th {\n",
              "        vertical-align: top;\n",
              "    }\n",
              "\n",
              "    .dataframe thead th {\n",
              "        text-align: right;\n",
              "    }\n",
              "</style>\n",
              "<table border=\"1\" class=\"dataframe\">\n",
              "  <thead>\n",
              "    <tr style=\"text-align: right;\">\n",
              "      <th></th>\n",
              "      <th>0</th>\n",
              "    </tr>\n",
              "  </thead>\n",
              "  <tbody>\n",
              "    <tr>\n",
              "      <th>id</th>\n",
              "      <td>0</td>\n",
              "    </tr>\n",
              "    <tr>\n",
              "      <th>ri</th>\n",
              "      <td>0</td>\n",
              "    </tr>\n",
              "    <tr>\n",
              "      <th>na</th>\n",
              "      <td>0</td>\n",
              "    </tr>\n",
              "    <tr>\n",
              "      <th>mg</th>\n",
              "      <td>0</td>\n",
              "    </tr>\n",
              "    <tr>\n",
              "      <th>al</th>\n",
              "      <td>0</td>\n",
              "    </tr>\n",
              "    <tr>\n",
              "      <th>si</th>\n",
              "      <td>0</td>\n",
              "    </tr>\n",
              "    <tr>\n",
              "      <th>k</th>\n",
              "      <td>0</td>\n",
              "    </tr>\n",
              "    <tr>\n",
              "      <th>ca</th>\n",
              "      <td>0</td>\n",
              "    </tr>\n",
              "    <tr>\n",
              "      <th>ba</th>\n",
              "      <td>0</td>\n",
              "    </tr>\n",
              "    <tr>\n",
              "      <th>fe</th>\n",
              "      <td>0</td>\n",
              "    </tr>\n",
              "    <tr>\n",
              "      <th>type</th>\n",
              "      <td>0</td>\n",
              "    </tr>\n",
              "  </tbody>\n",
              "</table>\n",
              "</div><br><label><b>dtype:</b> int64</label>"
            ]
          },
          "metadata": {},
          "execution_count": 9
        }
      ]
    },
    {
      "cell_type": "markdown",
      "source": [
        "### Preprocess Data"
      ],
      "metadata": {
        "id": "Wg7kyrdYIg-H"
      }
    },
    {
      "cell_type": "markdown",
      "source": [
        "#### Encoding target variable"
      ],
      "metadata": {
        "id": "ZL36iBp20Cd0"
      }
    },
    {
      "cell_type": "code",
      "source": [
        "y = glass_data.iloc[:, -1].astype('category').cat.codes"
      ],
      "metadata": {
        "id": "dbdrOzkr0EcZ"
      },
      "execution_count": null,
      "outputs": []
    },
    {
      "cell_type": "markdown",
      "source": [
        "#### Splitting features and labels"
      ],
      "metadata": {
        "id": "74Fhv4GB0NRq"
      }
    },
    {
      "cell_type": "code",
      "source": [
        "X = glass_data.iloc[:, :-1]\n",
        "y = glass_data.iloc[:, -1].astype('category').cat.codes"
      ],
      "metadata": {
        "id": "i2mP8lp60Op4"
      },
      "execution_count": null,
      "outputs": []
    },
    {
      "cell_type": "markdown",
      "source": [
        "#### Normalize the data"
      ],
      "metadata": {
        "id": "903JGlkr0QJi"
      }
    },
    {
      "cell_type": "code",
      "source": [
        "scaler = StandardScaler()\n",
        "X_scaled = scaler.fit_transform(X)"
      ],
      "metadata": {
        "id": "432I1o-T98GM"
      },
      "execution_count": null,
      "outputs": []
    },
    {
      "cell_type": "markdown",
      "source": [
        "#### Split data into training and testing sets"
      ],
      "metadata": {
        "id": "NW1nFoUt0UZ-"
      }
    },
    {
      "cell_type": "code",
      "source": [
        "X_train, X_test, y_train, y_test = train_test_split(X_scaled, y, test_size=0.2, random_state=42)"
      ],
      "metadata": {
        "id": "fkutyhnU0T-y"
      },
      "execution_count": null,
      "outputs": []
    },
    {
      "cell_type": "markdown",
      "source": [
        "#### Save and download the cleaned data"
      ],
      "metadata": {
        "id": "faoZRgTrkdDc"
      }
    },
    {
      "cell_type": "code",
      "source": [
        "glass_data.to_csv(\"cleaned_glass_data.csv\", index=False)"
      ],
      "metadata": {
        "id": "Q9re58Gjkg8N"
      },
      "execution_count": null,
      "outputs": []
    },
    {
      "cell_type": "code",
      "source": [
        "files.download(\"cleaned_glass_data.csv\")"
      ],
      "metadata": {
        "colab": {
          "base_uri": "https://localhost:8080/"
        },
        "id": "iknq96EEkkw_",
        "outputId": "68ff4cdc-d6f6-43bf-d0f5-90382df98182"
      },
      "execution_count": null,
      "outputs": [
        {
          "output_type": "display_data",
          "data": {
            "text/plain": [
              "<IPython.core.display.Javascript object>"
            ],
            "application/javascript": [
              "\n",
              "    async function download(id, filename, size) {\n",
              "      if (!google.colab.kernel.accessAllowed) {\n",
              "        return;\n",
              "      }\n",
              "      const div = document.createElement('div');\n",
              "      const label = document.createElement('label');\n",
              "      label.textContent = `Downloading \"${filename}\": `;\n",
              "      div.appendChild(label);\n",
              "      const progress = document.createElement('progress');\n",
              "      progress.max = size;\n",
              "      div.appendChild(progress);\n",
              "      document.body.appendChild(div);\n",
              "\n",
              "      const buffers = [];\n",
              "      let downloaded = 0;\n",
              "\n",
              "      const channel = await google.colab.kernel.comms.open(id);\n",
              "      // Send a message to notify the kernel that we're ready.\n",
              "      channel.send({})\n",
              "\n",
              "      for await (const message of channel.messages) {\n",
              "        // Send a message to notify the kernel that we're ready.\n",
              "        channel.send({})\n",
              "        if (message.buffers) {\n",
              "          for (const buffer of message.buffers) {\n",
              "            buffers.push(buffer);\n",
              "            downloaded += buffer.byteLength;\n",
              "            progress.value = downloaded;\n",
              "          }\n",
              "        }\n",
              "      }\n",
              "      const blob = new Blob(buffers, {type: 'application/binary'});\n",
              "      const a = document.createElement('a');\n",
              "      a.href = window.URL.createObjectURL(blob);\n",
              "      a.download = filename;\n",
              "      div.appendChild(a);\n",
              "      a.click();\n",
              "      div.remove();\n",
              "    }\n",
              "  "
            ]
          },
          "metadata": {}
        },
        {
          "output_type": "display_data",
          "data": {
            "text/plain": [
              "<IPython.core.display.Javascript object>"
            ],
            "application/javascript": [
              "download(\"download_d58ef960-fe2d-49cd-bfa0-88ea7170eac6\", \"cleaned_glass_data.csv\", 11399)"
            ]
          },
          "metadata": {}
        }
      ]
    },
    {
      "cell_type": "markdown",
      "source": [
        "### Define the Model"
      ],
      "metadata": {
        "id": "Dx3K4LiiTNyV"
      }
    },
    {
      "cell_type": "code",
      "source": [
        "def create_glass_model(optimizer='adam', dropout_rate=0.3, units=128, input_shape=9, output_units=6):\n",
        "    model = Sequential()\n",
        "    model.add(Dense(units, activation='relu', input_shape=(input_shape,)))\n",
        "    model.add(Dropout(dropout_rate))\n",
        "    model.add(Dense(units // 2, activation='relu'))\n",
        "    model.add(Dropout(dropout_rate))\n",
        "    model.add(Dense(output_units, activation='softmax'))\n",
        "\n",
        "    model.compile(optimizer=optimizer,\n",
        "                  loss='sparse_categorical_crossentropy',\n",
        "                  metrics=['accuracy'])\n",
        "    return model"
      ],
      "metadata": {
        "id": "vLxTsQ4eTQqJ"
      },
      "execution_count": null,
      "outputs": []
    },
    {
      "cell_type": "markdown",
      "source": [
        "### Hyperparameter Optimization"
      ],
      "metadata": {
        "id": "fcCIaNzqTkVt"
      }
    },
    {
      "cell_type": "markdown",
      "source": [
        "####  Define the Hyperparameter Grid"
      ],
      "metadata": {
        "id": "kouWk4d6ToZF"
      }
    },
    {
      "cell_type": "code",
      "source": [
        "param_grid_glass = {\n",
        "    'batch_size': [32],\n",
        "    'epochs': [50],\n",
        "    'optimizer': ['adam'],\n",
        "    'dropout_rate': [0.2, 0.3],\n",
        "    'units': [64, 128]\n",
        "}"
      ],
      "metadata": {
        "id": "BJqwBZ1TTnoO"
      },
      "execution_count": null,
      "outputs": []
    },
    {
      "cell_type": "markdown",
      "source": [
        "#### Wrap the Glass Model"
      ],
      "metadata": {
        "id": "OEBIsEVJTtdh"
      }
    },
    {
      "cell_type": "code",
      "source": [
        "model_glass = KerasClassifier(\n",
        "    model=create_glass_model,\n",
        "    optimizer='adam',\n",
        "    dropout_rate=0.3,\n",
        "    units=128,\n",
        "    input_shape=X_train.shape[1],\n",
        "    output_units=len(np.unique(y_train)),\n",
        "    epochs=50,\n",
        "    batch_size=32,\n",
        "    verbose=0\n",
        ")"
      ],
      "metadata": {
        "id": "fcA7_yVxTvew"
      },
      "execution_count": null,
      "outputs": []
    },
    {
      "cell_type": "markdown",
      "source": [
        "#### Grid Search"
      ],
      "metadata": {
        "id": "YFQTeu04utUw"
      }
    },
    {
      "cell_type": "code",
      "source": [
        "grid_glass = GridSearchCV(estimator=model_glass, param_grid=param_grid_glass, cv=3, verbose=1, n_jobs=1)"
      ],
      "metadata": {
        "id": "G5FzsegSuzRa"
      },
      "execution_count": null,
      "outputs": []
    },
    {
      "cell_type": "code",
      "source": [
        "grid_result_glass = grid_glass.fit(X_train, y_train)"
      ],
      "metadata": {
        "colab": {
          "base_uri": "https://localhost:8080/"
        },
        "id": "mv62dSJDDy0-",
        "outputId": "574ad3c6-dfaf-4b76-be0a-509991adfe3d"
      },
      "execution_count": null,
      "outputs": [
        {
          "output_type": "stream",
          "name": "stdout",
          "text": [
            "Fitting 3 folds for each of 4 candidates, totalling 12 fits\n"
          ]
        },
        {
          "output_type": "stream",
          "name": "stderr",
          "text": [
            "WARNING:tensorflow:5 out of the last 9 calls to <function Model.make_predict_function.<locals>.predict_function at 0x7abda4a144a0> triggered tf.function retracing. Tracing is expensive and the excessive number of tracings could be due to (1) creating @tf.function repeatedly in a loop, (2) passing tensors with different shapes, (3) passing Python objects instead of tensors. For (1), please define your @tf.function outside of the loop. For (2), @tf.function has reduce_retracing=True option that can avoid unnecessary retracing. For (3), please refer to https://www.tensorflow.org/guide/function#controlling_retracing and https://www.tensorflow.org/api_docs/python/tf/function for  more details.\n",
            "WARNING:tensorflow:6 out of the last 11 calls to <function Model.make_predict_function.<locals>.predict_function at 0x7abd99622200> triggered tf.function retracing. Tracing is expensive and the excessive number of tracings could be due to (1) creating @tf.function repeatedly in a loop, (2) passing tensors with different shapes, (3) passing Python objects instead of tensors. For (1), please define your @tf.function outside of the loop. For (2), @tf.function has reduce_retracing=True option that can avoid unnecessary retracing. For (3), please refer to https://www.tensorflow.org/guide/function#controlling_retracing and https://www.tensorflow.org/api_docs/python/tf/function for  more details.\n"
          ]
        }
      ]
    },
    {
      "cell_type": "markdown",
      "source": [
        "#### Best Parameters\n"
      ],
      "metadata": {
        "id": "Sx-aZ1gluxpy"
      }
    },
    {
      "cell_type": "code",
      "source": [
        "print(f\"Best: {grid_result_glass.best_score_} using {grid_result_glass.best_params_}\")"
      ],
      "metadata": {
        "id": "HakWM_2o2pFd",
        "colab": {
          "base_uri": "https://localhost:8080/"
        },
        "outputId": "aba31300-a939-4f5b-b98b-d9372f4c204a"
      },
      "execution_count": null,
      "outputs": [
        {
          "output_type": "stream",
          "name": "stdout",
          "text": [
            "Best: 0.9064327485380117 using {'batch_size': 32, 'dropout_rate': 0.2, 'epochs': 50, 'optimizer': 'adam', 'units': 128}\n"
          ]
        }
      ]
    },
    {
      "cell_type": "markdown",
      "source": [
        "### Interpreting the Results\n"
      ],
      "metadata": {
        "id": "sssGxehkjVvj"
      }
    },
    {
      "cell_type": "markdown",
      "source": [
        "#### Make predictions on the tes set"
      ],
      "metadata": {
        "id": "wD750A3HqQMc"
      }
    },
    {
      "cell_type": "code",
      "source": [
        "y_pred = grid_result_glass.predict(X_test)"
      ],
      "metadata": {
        "id": "Ka--kXfzqVIn"
      },
      "execution_count": null,
      "outputs": []
    },
    {
      "cell_type": "markdown",
      "source": [
        "#### Print accuracy"
      ],
      "metadata": {
        "id": "nkhAFk14qy4-"
      }
    },
    {
      "cell_type": "code",
      "source": [
        "print(\"Test Accuracy:\", accuracy_score(y_test, y_pred))"
      ],
      "metadata": {
        "colab": {
          "base_uri": "https://localhost:8080/"
        },
        "id": "4vt7JDzYq2pv",
        "outputId": "203e2182-f046-4cae-eaf4-d2905306baac"
      },
      "execution_count": null,
      "outputs": [
        {
          "output_type": "stream",
          "name": "stdout",
          "text": [
            "Test Accuracy: 0.9302325581395349\n"
          ]
        }
      ]
    },
    {
      "cell_type": "markdown",
      "source": [
        "#### Print classification report"
      ],
      "metadata": {
        "id": "Jhe2B_2Fq4-C"
      }
    },
    {
      "cell_type": "code",
      "source": [
        "print(\"\\nClassification Report:\\n\", classification_report(y_test, y_pred))"
      ],
      "metadata": {
        "colab": {
          "base_uri": "https://localhost:8080/"
        },
        "id": "nDuRG5Fdq9be",
        "outputId": "5779f610-5c64-46a4-ff65-4368a91e6b52"
      },
      "execution_count": null,
      "outputs": [
        {
          "output_type": "stream",
          "name": "stdout",
          "text": [
            "\n",
            "Classification Report:\n",
            "               precision    recall  f1-score   support\n",
            "\n",
            "           0       1.00      1.00      1.00        11\n",
            "           1       0.88      1.00      0.93        14\n",
            "           2       1.00      1.00      1.00         3\n",
            "           3       1.00      0.50      0.67         4\n",
            "           4       1.00      0.67      0.80         3\n",
            "           5       0.89      1.00      0.94         8\n",
            "\n",
            "    accuracy                           0.93        43\n",
            "   macro avg       0.96      0.86      0.89        43\n",
            "weighted avg       0.94      0.93      0.92        43\n",
            "\n"
          ]
        }
      ]
    },
    {
      "cell_type": "markdown",
      "source": [
        "#### Generate confusion matrix and plot it"
      ],
      "metadata": {
        "id": "JH24jloyq-hT"
      }
    },
    {
      "cell_type": "code",
      "source": [
        "cm = confusion_matrix(y_test, y_pred)\n",
        "sns.heatmap(cm, annot=True, fmt='d', cmap='Blues')\n",
        "plt.title(\"Confusion Matrix - Glass Type Classification\")\n",
        "plt.xlabel(\"Predicted\")\n",
        "plt.ylabel(\"Actual\")\n",
        "plt.show()"
      ],
      "metadata": {
        "colab": {
          "base_uri": "https://localhost:8080/"
        },
        "id": "GdmK53IvrBCJ",
        "outputId": "cfd7cd20-93d2-4f73-f247-d994886adeed"
      },
      "execution_count": null,
      "outputs": [
        {
          "output_type": "display_data",
          "data": {
            "text/plain": [
              "<Figure size 640x480 with 2 Axes>"
            ],
            "image/png": "[encoded data removed]"
          },
          "metadata": {}
        }
      ]
    },
    {
      "cell_type": "markdown",
      "source": [
        "#### Summary"
      ],
      "metadata": {
        "id": "tyXEQLQF1xOm"
      }
    },
    {
      "cell_type": "markdown",
      "source": [
        "The model worked wel. It got high test accuracy and only making a few mistakes. The confusion matrix and classification report show that the neural network got most of the glass types right, but there was a few mix-ups between similar ones.\n",
        "This just means that the model was able to learn patterns in the data. These tools are commonly used in machine learning to check how well models are doing (Ahmed, 2025a; Ahmed, 2025d)."
      ],
      "metadata": {
        "id": "IPnJoyBt1vRZ"
      }
    },
    {
      "cell_type": "markdown",
      "source": [
        "## Part 2: Data Cleaning with Natural Language Processing (NLP)\n"
      ],
      "metadata": {
        "id": "J4GaOfbtmVKT"
      }
    },
    {
      "cell_type": "markdown",
      "source": [
        "### Import Libraries & DataSet"
      ],
      "metadata": {
        "id": "XETa1C-HmfkG"
      }
    },
    {
      "cell_type": "markdown",
      "source": [
        "### Installing NLTK Packages"
      ],
      "metadata": {
        "id": "30O1M3hu2YZ7"
      }
    },
    {
      "cell_type": "code",
      "source": [
        "import nltk\n",
        "nltk.download('punkt_tab')\n",
        "nltk.download('stopwords')\n",
        "nltk.download('wordnet')"
      ],
      "metadata": {
        "id": "RQ-H8UJF2dk2",
        "colab": {
          "base_uri": "https://localhost:8080/"
        },
        "outputId": "17a3e6e4-b22c-49dc-d752-05eea327537d"
      },
      "execution_count": null,
      "outputs": [
        {
          "output_type": "stream",
          "name": "stderr",
          "text": [
            "[nltk_data] Downloading package punkt_tab to /root/nltk_data...\n",
            "[nltk_data]   Unzipping tokenizers/punkt_tab.zip.\n",
            "[nltk_data] Downloading package stopwords to /root/nltk_data...\n",
            "[nltk_data]   Unzipping corpora/stopwords.zip.\n",
            "[nltk_data] Downloading package wordnet to /root/nltk_data...\n"
          ]
        },
        {
          "output_type": "execute_result",
          "data": {
            "text/plain": [
              "True"
            ]
          },
          "metadata": {},
          "execution_count": 26
        }
      ]
    },
    {
      "cell_type": "markdown",
      "source": [
        "**Why Do We Need These Downloads?**\n",
        "\n",
        "\n",
        "\n",
        "1. **Punkt**:\n",
        "\n",
        "\n",
        "Used for tokenization (splitting text into words or sentences).\n",
        "Essential for functions like `word_tokenize()` which break down a text into individual words.\n",
        "\n",
        "  \n",
        "2.   **Stopwords**:\n",
        "\n",
        "\n",
        "Contains a list of common words that are often removed during text preprocessing, such as \"and\", \"the\", \"is\".\n",
        "Helps in eliminating words that do not contribute significantly to the meaning of the text.\n",
        "\n",
        "3. **Wordnet**:\n",
        "\n",
        "\n",
        "A lexical database of English, useful for lemmatization (reducing words to their base or root form). Essential for `WordNetLemmatizer()` to work."
      ],
      "metadata": {
        "id": "5_ZwLG1A1LP_"
      }
    },
    {
      "cell_type": "markdown",
      "source": [
        "#### Setting NLTK Data Path"
      ],
      "metadata": {
        "id": "fL2Mapti49sb"
      }
    },
    {
      "cell_type": "code",
      "source": [
        "import os\n",
        "nltk.data.path.append('/usr/share/nltk_data')"
      ],
      "metadata": {
        "id": "bOvwRTvL497Z"
      },
      "execution_count": null,
      "outputs": []
    },
    {
      "cell_type": "markdown",
      "source": [
        "**Why Set the NLTK Data Path?**\n",
        "\n",
        "1. Colab Environment Issue:\n",
        "<br>\n",
        "In Google Colab often doesn't automatically set the path where NLTK looks for data so NLTK sometimes struggles to locate the downloaded data files.\n",
        "\n",
        "\n",
        "2. Specifying the Path Manually:\n",
        "<br>\n",
        "\n",
        "The line `os.environ['NLTK_DATA'] = '/usr/share/nltk_data'` explicitly tells Python where to find the NLTK data. This ensures that NLTK functions like word_tokenize() and stopword removal work without errors.\n",
        "\n",
        "**Why This Path Specifically**:\n",
        "<br>\n",
        "\n",
        "I used `download_dir='/usr/share/nltk_data'` when downloading NLTK data.\n",
        "Setting the environment variable to this path matches where the data was stored, avoiding the \"Resource not found\" error."
      ],
      "metadata": {
        "id": "HtPRIguQ5RJP"
      }
    },
    {
      "cell_type": "markdown",
      "source": [
        "#### Importing Required Libraries"
      ],
      "metadata": {
        "id": "BIPaWrJy2rFg"
      }
    },
    {
      "cell_type": "code",
      "source": [
        "import pandas as pd\n",
        "from nltk.corpus import stopwords\n",
        "from nltk.tokenize import word_tokenize\n",
        "from nltk.stem import WordNetLemmatizer\n",
        "import re"
      ],
      "metadata": {
        "id": "21nCywDIogmD"
      },
      "execution_count": null,
      "outputs": []
    },
    {
      "cell_type": "code",
      "source": [
        "# Load dataset\n",
        "all_kindle_review = pd.read_csv(\"all_kindle_review.csv\")"
      ],
      "metadata": {
        "id": "HG4rKFdGokRO"
      },
      "execution_count": null,
      "outputs": []
    },
    {
      "cell_type": "markdown",
      "source": [
        "The dataset containing Amazon Kindle Store product reviews (from May 1996 to July 2014) will be loaded using Pandas."
      ],
      "metadata": {
        "id": "XxOmKVhRoxbl"
      }
    },
    {
      "cell_type": "markdown",
      "source": [
        "#### Display basic information about the dataset"
      ],
      "metadata": {
        "id": "gywchl1Btbh0"
      }
    },
    {
      "cell_type": "code",
      "source": [
        "all_kindle_review.info()"
      ],
      "metadata": {
        "id": "XT0MvG-2tgw-",
        "colab": {
          "base_uri": "https://localhost:8080/"
        },
        "outputId": "26d620b0-690a-4ea9-b794-c77e595a4970"
      },
      "execution_count": null,
      "outputs": [
        {
          "output_type": "stream",
          "name": "stdout",
          "text": [
            "<class 'pandas.core.frame.DataFrame'>\n",
            "RangeIndex: 12000 entries, 0 to 11999\n",
            "Data columns (total 11 columns):\n",
            " #   Column          Non-Null Count  Dtype \n",
            "---  ------          --------------  ----- \n",
            " 0   Unnamed: 0.1    12000 non-null  int64 \n",
            " 1   Unnamed: 0      12000 non-null  int64 \n",
            " 2   asin            12000 non-null  object\n",
            " 3   helpful         12000 non-null  object\n",
            " 4   rating          12000 non-null  int64 \n",
            " 5   reviewText      12000 non-null  object\n",
            " 6   reviewTime      12000 non-null  object\n",
            " 7   reviewerID      12000 non-null  object\n",
            " 8   reviewerName    11962 non-null  object\n",
            " 9   summary         11998 non-null  object\n",
            " 10  unixReviewTime  12000 non-null  int64 \n",
            "dtypes: int64(4), object(7)\n",
            "memory usage: 1.0+ MB\n"
          ]
        }
      ]
    },
    {
      "cell_type": "code",
      "source": [
        "all_kindle_review.head()"
      ],
      "metadata": {
        "id": "EhDhFAnVALYe",
        "colab": {
          "base_uri": "https://localhost:8080/"
        },
        "outputId": "95202ef5-e2d2-4c8b-99c6-99292777aa01"
      },
      "execution_count": null,
      "outputs": [
        {
          "output_type": "execute_result",
          "data": {
            "text/plain": [
              "   Unnamed: 0.1  Unnamed: 0        asin  helpful  rating  \\\n",
              "0             0       11539  B0033UV8HI  [8, 10]       3   \n",
              "1             1        5957  B002HJV4DE   [1, 1]       5   \n",
              "2             2        9146  B002ZG96I4   [0, 0]       3   \n",
              "3             3        7038  B002QHWOEU   [1, 3]       3   \n",
              "4             4        1776  B001A06VJ8   [0, 1]       4   \n",
              "\n",
              "                                          reviewText   reviewTime  \\\n",
              "0  Jace Rankin may be short, but he's nothing to ...   09 2, 2010   \n",
              "1  Great short read.  I didn't want to put it dow...   10 8, 2013   \n",
              "2  I'll start by saying this is the first of four...  04 11, 2014   \n",
              "3  Aggie is Angela Lansbury who carries pocketboo...   07 5, 2014   \n",
              "4  I did not expect this type of book to be in li...  12 31, 2012   \n",
              "\n",
              "       reviewerID  reviewerName                   summary  unixReviewTime  \n",
              "0  A3HHXRELK8BHQG        Ridley  Entertaining But Average      1283385600  \n",
              "1  A2RGNZ0TRF578I  Holly Butler   Terrific menage scenes!      1381190400  \n",
              "2  A3S0H2HV6U1I7F       Merissa          Snapdragon Alley      1397174400  \n",
              "3   AC4OQW3GZ919J    Cleargrace    very light murder cozy      1404518400  \n",
              "4  A3C9V987IQHOQD      Rjostler                      Book      1356912000  "
            ],
            "text/html": [
              "\n",
              "  <div id=\"df-3035bbb9-d088-45e5-addd-e3214ab1a1f0\" class=\"colab-df-container\">\n",
              "    <div>\n",
              "<style scoped>\n",
              "    .dataframe tbody tr th:only-of-type {\n",
              "        vertical-align: middle;\n",
              "    }\n",
              "\n",
              "    .dataframe tbody tr th {\n",
              "        vertical-align: top;\n",
              "    }\n",
              "\n",
              "    .dataframe thead th {\n",
              "        text-align: right;\n",
              "    }\n",
              "</style>\n",
              "<table border=\"1\" class=\"dataframe\">\n",
              "  <thead>\n",
              "    <tr style=\"text-align: right;\">\n",
              "      <th></th>\n",
              "      <th>Unnamed: 0.1</th>\n",
              "      <th>Unnamed: 0</th>\n",
              "      <th>asin</th>\n",
              "      <th>helpful</th>\n",
              "      <th>rating</th>\n",
              "      <th>reviewText</th>\n",
              "      <th>reviewTime</th>\n",
              "      <th>reviewerID</th>\n",
              "      <th>reviewerName</th>\n",
              "      <th>summary</th>\n",
              "      <th>unixReviewTime</th>\n",
              "    </tr>\n",
              "  </thead>\n",
              "  <tbody>\n",
              "    <tr>\n",
              "      <th>0</th>\n",
              "      <td>0</td>\n",
              "      <td>11539</td>\n",
              "      <td>B0033UV8HI</td>\n",
              "      <td>[8, 10]</td>\n",
              "      <td>3</td>\n",
              "      <td>Jace Rankin may be short, but he's nothing to ...</td>\n",
              "      <td>09 2, 2010</td>\n",
              "      <td>A3HHXRELK8BHQG</td>\n",
              "      <td>Ridley</td>\n",
              "      <td>Entertaining But Average</td>\n",
              "      <td>1283385600</td>\n",
              "    </tr>\n",
              "    <tr>\n",
              "      <th>1</th>\n",
              "      <td>1</td>\n",
              "      <td>5957</td>\n",
              "      <td>B002HJV4DE</td>\n",
              "      <td>[1, 1]</td>\n",
              "      <td>5</td>\n",
              "      <td>Great short read.  I didn't want to put it dow...</td>\n",
              "      <td>10 8, 2013</td>\n",
              "      <td>A2RGNZ0TRF578I</td>\n",
              "      <td>Holly Butler</td>\n",
              "      <td>Terrific menage scenes!</td>\n",
              "      <td>1381190400</td>\n",
              "    </tr>\n",
              "    <tr>\n",
              "      <th>2</th>\n",
              "      <td>2</td>\n",
              "      <td>9146</td>\n",
              "      <td>B002ZG96I4</td>\n",
              "      <td>[0, 0]</td>\n",
              "      <td>3</td>\n",
              "      <td>I'll start by saying this is the first of four...</td>\n",
              "      <td>04 11, 2014</td>\n",
              "      <td>A3S0H2HV6U1I7F</td>\n",
              "      <td>Merissa</td>\n",
              "      <td>Snapdragon Alley</td>\n",
              "      <td>1397174400</td>\n",
              "    </tr>\n",
              "    <tr>\n",
              "      <th>3</th>\n",
              "      <td>3</td>\n",
              "      <td>7038</td>\n",
              "      <td>B002QHWOEU</td>\n",
              "      <td>[1, 3]</td>\n",
              "      <td>3</td>\n",
              "      <td>Aggie is Angela Lansbury who carries pocketboo...</td>\n",
              "      <td>07 5, 2014</td>\n",
              "      <td>AC4OQW3GZ919J</td>\n",
              "      <td>Cleargrace</td>\n",
              "      <td>very light murder cozy</td>\n",
              "      <td>1404518400</td>\n",
              "    </tr>\n",
              "    <tr>\n",
              "      <th>4</th>\n",
              "      <td>4</td>\n",
              "      <td>1776</td>\n",
              "      <td>B001A06VJ8</td>\n",
              "      <td>[0, 1]</td>\n",
              "      <td>4</td>\n",
              "      <td>I did not expect this type of book to be in li...</td>\n",
              "      <td>12 31, 2012</td>\n",
              "      <td>A3C9V987IQHOQD</td>\n",
              "      <td>Rjostler</td>\n",
              "      <td>Book</td>\n",
              "      <td>1356912000</td>\n",
              "    </tr>\n",
              "  </tbody>\n",
              "</table>\n",
              "</div>\n",
              "    <div class=\"colab-df-buttons\">\n",
              "\n",
              "  <div class=\"colab-df-container\">\n",
              "    <button class=\"colab-df-convert\" onclick=\"convertToInteractive('df-3035bbb9-d088-45e5-addd-e3214ab1a1f0')\"\n",
              "            title=\"Convert this dataframe to an interactive table.\"\n",
              "            style=\"display:none;\">\n",
              "\n",
              "  <svg xmlns=\"http://www.w3.org/2000/svg\" height=\"24px\" viewBox=\"0 -960 960 960\">\n",
              "    <path d=\"M120-120v-720h720v720H120Zm60-500h600v-160H180v160Zm220 220h160v-160H400v160Zm0 220h160v-160H400v160ZM180-400h160v-160H180v160Zm440 0h160v-160H620v160ZM180-180h160v-160H180v160Zm440 0h160v-160H620v160Z\"/>\n",
              "  </svg>\n",
              "    </button>\n",
              "\n",
              "  <style>\n",
              "    .colab-df-container {\n",
              "      display:flex;\n",
              "      gap: 12px;\n",
              "    }\n",
              "\n",
              "    .colab-df-convert {\n",
              "      background-color: #E8F0FE;\n",
              "      border: none;\n",
              "      border-radius: 50%;\n",
              "      cursor: pointer;\n",
              "      display: none;\n",
              "      fill: #1967D2;\n",
              "      height: 32px;\n",
              "      padding: 0 0 0 0;\n",
              "      width: 32px;\n",
              "    }\n",
              "\n",
              "    .colab-df-convert:hover {\n",
              "      background-color: #E2EBFA;\n",
              "      box-shadow: 0px 1px 2px rgba(60, 64, 67, 0.3), 0px 1px 3px 1px rgba(60, 64, 67, 0.15);\n",
              "      fill: #174EA6;\n",
              "    }\n",
              "\n",
              "    .colab-df-buttons div {\n",
              "      margin-bottom: 4px;\n",
              "    }\n",
              "\n",
              "    [theme=dark] .colab-df-convert {\n",
              "      background-color: #3B4455;\n",
              "      fill: #D2E3FC;\n",
              "    }\n",
              "\n",
              "    [theme=dark] .colab-df-convert:hover {\n",
              "      background-color: #434B5C;\n",
              "      box-shadow: 0px 1px 3px 1px rgba(0, 0, 0, 0.15);\n",
              "      filter: drop-shadow(0px 1px 2px rgba(0, 0, 0, 0.3));\n",
              "      fill: #FFFFFF;\n",
              "    }\n",
              "  </style>\n",
              "\n",
              "    <script>\n",
              "      const buttonEl =\n",
              "        document.querySelector('#df-3035bbb9-d088-45e5-addd-e3214ab1a1f0 button.colab-df-convert');\n",
              "      buttonEl.style.display =\n",
              "        google.colab.kernel.accessAllowed ? 'block' : 'none';\n",
              "\n",
              "      async function convertToInteractive(key) {\n",
              "        const element = document.querySelector('#df-3035bbb9-d088-45e5-addd-e3214ab1a1f0');\n",
              "        const dataTable =\n",
              "          await google.colab.kernel.invokeFunction('convertToInteractive',\n",
              "                                                    [key], {});\n",
              "        if (!dataTable) return;\n",
              "\n",
              "        const docLinkHtml = 'Like what you see? Visit the ' +\n",
              "          '<a target=\"_blank\" href=https://colab.research.google.com/notebooks/data_table.ipynb>data table notebook</a>'\n",
              "          + ' to learn more about interactive tables.';\n",
              "        element.innerHTML = '';\n",
              "        dataTable['output_type'] = 'display_data';\n",
              "        await google.colab.output.renderOutput(dataTable, element);\n",
              "        const docLink = document.createElement('div');\n",
              "        docLink.innerHTML = docLinkHtml;\n",
              "        element.appendChild(docLink);\n",
              "      }\n",
              "    </script>\n",
              "  </div>\n",
              "\n",
              "\n",
              "<div id=\"df-acfbaf2a-3b05-47e4-a922-4f7ec939724f\">\n",
              "  <button class=\"colab-df-quickchart\" onclick=\"quickchart('df-acfbaf2a-3b05-47e4-a922-4f7ec939724f')\"\n",
              "            title=\"Suggest charts\"\n",
              "            style=\"display:none;\">\n",
              "\n",
              "<svg xmlns=\"http://www.w3.org/2000/svg\" height=\"24px\"viewBox=\"0 0 24 24\"\n",
              "     width=\"24px\">\n",
              "    <g>\n",
              "        <path d=\"M19 3H5c-1.1 0-2 .9-2 2v14c0 1.1.9 2 2 2h14c1.1 0 2-.9 2-2V5c0-1.1-.9-2-2-2zM9 17H7v-7h2v7zm4 0h-2V7h2v10zm4 0h-2v-4h2v4z\"/>\n",
              "    </g>\n",
              "</svg>\n",
              "  </button>\n",
              "\n",
              "<style>\n",
              "  .colab-df-quickchart {\n",
              "      --bg-color: #E8F0FE;\n",
              "      --fill-color: #1967D2;\n",
              "      --hover-bg-color: #E2EBFA;\n",
              "      --hover-fill-color: #174EA6;\n",
              "      --disabled-fill-color: #AAA;\n",
              "      --disabled-bg-color: #DDD;\n",
              "  }\n",
              "\n",
              "  [theme=dark] .colab-df-quickchart {\n",
              "      --bg-color: #3B4455;\n",
              "      --fill-color: #D2E3FC;\n",
              "      --hover-bg-color: #434B5C;\n",
              "      --hover-fill-color: #FFFFFF;\n",
              "      --disabled-bg-color: #3B4455;\n",
              "      --disabled-fill-color: #666;\n",
              "  }\n",
              "\n",
              "  .colab-df-quickchart {\n",
              "    background-color: var(--bg-color);\n",
              "    border: none;\n",
              "    border-radius: 50%;\n",
              "    cursor: pointer;\n",
              "    display: none;\n",
              "    fill: var(--fill-color);\n",
              "    height: 32px;\n",
              "    padding: 0;\n",
              "    width: 32px;\n",
              "  }\n",
              "\n",
              "  .colab-df-quickchart:hover {\n",
              "    background-color: var(--hover-bg-color);\n",
              "    box-shadow: 0 1px 2px rgba(60, 64, 67, 0.3), 0 1px 3px 1px rgba(60, 64, 67, 0.15);\n",
              "    fill: var(--button-hover-fill-color);\n",
              "  }\n",
              "\n",
              "  .colab-df-quickchart-complete:disabled,\n",
              "  .colab-df-quickchart-complete:disabled:hover {\n",
              "    background-color: var(--disabled-bg-color);\n",
              "    fill: var(--disabled-fill-color);\n",
              "    box-shadow: none;\n",
              "  }\n",
              "\n",
              "  .colab-df-spinner {\n",
              "    border: 2px solid var(--fill-color);\n",
              "    border-color: transparent;\n",
              "    border-bottom-color: var(--fill-color);\n",
              "    animation:\n",
              "      spin 1s steps(1) infinite;\n",
              "  }\n",
              "\n",
              "  @keyframes spin {\n",
              "    0% {\n",
              "      border-color: transparent;\n",
              "      border-bottom-color: var(--fill-color);\n",
              "      border-left-color: var(--fill-color);\n",
              "    }\n",
              "    20% {\n",
              "      border-color: transparent;\n",
              "      border-left-color: var(--fill-color);\n",
              "      border-top-color: var(--fill-color);\n",
              "    }\n",
              "    30% {\n",
              "      border-color: transparent;\n",
              "      border-left-color: var(--fill-color);\n",
              "      border-top-color: var(--fill-color);\n",
              "      border-right-color: var(--fill-color);\n",
              "    }\n",
              "    40% {\n",
              "      border-color: transparent;\n",
              "      border-right-color: var(--fill-color);\n",
              "      border-top-color: var(--fill-color);\n",
              "    }\n",
              "    60% {\n",
              "      border-color: transparent;\n",
              "      border-right-color: var(--fill-color);\n",
              "    }\n",
              "    80% {\n",
              "      border-color: transparent;\n",
              "      border-right-color: var(--fill-color);\n",
              "      border-bottom-color: var(--fill-color);\n",
              "    }\n",
              "    90% {\n",
              "      border-color: transparent;\n",
              "      border-bottom-color: var(--fill-color);\n",
              "    }\n",
              "  }\n",
              "</style>\n",
              "\n",
              "  <script>\n",
              "    async function quickchart(key) {\n",
              "      const quickchartButtonEl =\n",
              "        document.querySelector('#' + key + ' button');\n",
              "      quickchartButtonEl.disabled = true;  // To prevent multiple clicks.\n",
              "      quickchartButtonEl.classList.add('colab-df-spinner');\n",
              "      try {\n",
              "        const charts = await google.colab.kernel.invokeFunction(\n",
              "            'suggestCharts', [key], {});\n",
              "      } catch (error) {\n",
              "        console.error('Error during call to suggestCharts:', error);\n",
              "      }\n",
              "      quickchartButtonEl.classList.remove('colab-df-spinner');\n",
              "      quickchartButtonEl.classList.add('colab-df-quickchart-complete');\n",
              "    }\n",
              "    (() => {\n",
              "      let quickchartButtonEl =\n",
              "        document.querySelector('#df-acfbaf2a-3b05-47e4-a922-4f7ec939724f button');\n",
              "      quickchartButtonEl.style.display =\n",
              "        google.colab.kernel.accessAllowed ? 'block' : 'none';\n",
              "    })();\n",
              "  </script>\n",
              "</div>\n",
              "\n",
              "    </div>\n",
              "  </div>\n"
            ],
            "application/vnd.google.colaboratory.intrinsic+json": {
              "type": "dataframe",
              "variable_name": "all_kindle_review",
              "summary": "{\n  \"name\": \"all_kindle_review\",\n  \"rows\": 12000,\n  \"fields\": [\n    {\n      \"column\": \"Unnamed: 0.1\",\n      \"properties\": {\n        \"dtype\": \"number\",\n        \"std\": 3464,\n        \"min\": 0,\n        \"max\": 11999,\n        \"num_unique_values\": 12000,\n        \"samples\": [\n          1935,\n          6494,\n          1720\n        ],\n        \"semantic_type\": \"\",\n        \"description\": \"\"\n      }\n    },\n    {\n      \"column\": \"Unnamed: 0\",\n      \"properties\": {\n        \"dtype\": \"number\",\n        \"std\": 10502,\n        \"min\": 0,\n        \"max\": 47770,\n        \"num_unique_values\": 12000,\n        \"samples\": [\n          14172,\n          26105,\n          11888\n        ],\n        \"semantic_type\": \"\",\n        \"description\": \"\"\n      }\n    },\n    {\n      \"column\": \"asin\",\n      \"properties\": {\n        \"dtype\": \"category\",\n        \"num_unique_values\": 2114,\n        \"samples\": [\n          \"B00309SCW6\",\n          \"B00381B94O\",\n          \"B00332F4YE\"\n        ],\n        \"semantic_type\": \"\",\n        \"description\": \"\"\n      }\n    },\n    {\n      \"column\": \"helpful\",\n      \"properties\": {\n        \"dtype\": \"category\",\n        \"num_unique_values\": 393,\n        \"samples\": [\n          \"[7, 12]\",\n          \"[36, 43]\",\n          \"[13, 15]\"\n        ],\n        \"semantic_type\": \"\",\n        \"description\": \"\"\n      }\n    },\n    {\n      \"column\": \"rating\",\n      \"properties\": {\n        \"dtype\": \"number\",\n        \"std\": 1,\n        \"min\": 1,\n        \"max\": 5,\n        \"num_unique_values\": 5,\n        \"samples\": [\n          5,\n          1,\n          4\n        ],\n        \"semantic_type\": \"\",\n        \"description\": \"\"\n      }\n    },\n    {\n      \"column\": \"reviewText\",\n      \"properties\": {\n        \"dtype\": \"string\",\n        \"num_unique_values\": 12000,\n        \"samples\": [\n          \"Was a really great read just wish there would have been more of it. Hope to find more by this author.\",\n          \"Nope. I tried. Can't read it. I will take the greatest delight in deleting this from my Kindle. A total waste of time.\",\n          \"The story line just drug on and on. I did not like this book very much and if you are a mystery fan I would not tell you it is worth reading.\"\n        ],\n        \"semantic_type\": \"\",\n        \"description\": \"\"\n      }\n    },\n    {\n      \"column\": \"reviewTime\",\n      \"properties\": {\n        \"dtype\": \"object\",\n        \"num_unique_values\": 1953,\n        \"samples\": [\n          \"12 25, 2011\",\n          \"06 7, 2008\",\n          \"07 14, 2014\"\n        ],\n        \"semantic_type\": \"\",\n        \"description\": \"\"\n      }\n    },\n    {\n      \"column\": \"reviewerID\",\n      \"properties\": {\n        \"dtype\": \"string\",\n        \"num_unique_values\": 7614,\n        \"samples\": [\n          \"A1EKFH7U0YZ02I\",\n          \"A2LNVIYOP4RTO5\",\n          \"A11PZSMLJVJ3WP\"\n        ],\n        \"semantic_type\": \"\",\n        \"description\": \"\"\n      }\n    },\n    {\n      \"column\": \"reviewerName\",\n      \"properties\": {\n        \"dtype\": \"string\",\n        \"num_unique_values\": 6735,\n        \"samples\": [\n          \"Sandra \\\"Sam\\\"\",\n          \"Amazon Customer \\\"fulltimer\\\"\",\n          \"M. M. Robinson \\\"voracious reader\\\"\"\n        ],\n        \"semantic_type\": \"\",\n        \"description\": \"\"\n      }\n    },\n    {\n      \"column\": \"summary\",\n      \"properties\": {\n        \"dtype\": \"string\",\n        \"num_unique_values\": 10126,\n        \"samples\": [\n          \"She wasn't the only one, redeemed.\",\n          \"You Get What You Pay For\",\n          \"What a misleading title\"\n        ],\n        \"semantic_type\": \"\",\n        \"description\": \"\"\n      }\n    },\n    {\n      \"column\": \"unixReviewTime\",\n      \"properties\": {\n        \"dtype\": \"number\",\n        \"std\": 43693742,\n        \"min\": 960249600,\n        \"max\": 1405814400,\n        \"num_unique_values\": 1953,\n        \"samples\": [\n          1324771200,\n          1212796800,\n          1405296000\n        ],\n        \"semantic_type\": \"\",\n        \"description\": \"\"\n      }\n    }\n  ]\n}"
            }
          },
          "metadata": {},
          "execution_count": 31
        }
      ]
    },
    {
      "cell_type": "code",
      "source": [
        "all_kindle_review.describe()"
      ],
      "metadata": {
        "id": "b146Tpm6AH_A",
        "colab": {
          "base_uri": "https://localhost:8080/"
        },
        "outputId": "0d25f47c-0349-45ca-e6c2-9c61d6645988"
      },
      "execution_count": null,
      "outputs": [
        {
          "output_type": "execute_result",
          "data": {
            "text/plain": [
              "       Unnamed: 0.1    Unnamed: 0        rating  unixReviewTime\n",
              "count   12000.00000  12000.000000  12000.000000    1.200000e+04\n",
              "mean     5999.50000  10024.275667      3.250000    1.344537e+09\n",
              "std      3464.24595  10502.233123      1.421619    4.369374e+07\n",
              "min         0.00000      0.000000      1.000000    9.602496e+08\n",
              "25%      2999.75000   2999.750000      2.000000    1.316218e+09\n",
              "50%      5999.50000   5999.500000      3.500000    1.356826e+09\n",
              "75%      8999.25000  12475.750000      4.250000    1.376870e+09\n",
              "max     11999.00000  47770.000000      5.000000    1.405814e+09"
            ],
            "text/html": [
              "\n",
              "  <div id=\"df-26c13e2a-f2df-42bb-a96e-328a81e65916\" class=\"colab-df-container\">\n",
              "    <div>\n",
              "<style scoped>\n",
              "    .dataframe tbody tr th:only-of-type {\n",
              "        vertical-align: middle;\n",
              "    }\n",
              "\n",
              "    .dataframe tbody tr th {\n",
              "        vertical-align: top;\n",
              "    }\n",
              "\n",
              "    .dataframe thead th {\n",
              "        text-align: right;\n",
              "    }\n",
              "</style>\n",
              "<table border=\"1\" class=\"dataframe\">\n",
              "  <thead>\n",
              "    <tr style=\"text-align: right;\">\n",
              "      <th></th>\n",
              "      <th>Unnamed: 0.1</th>\n",
              "      <th>Unnamed: 0</th>\n",
              "      <th>rating</th>\n",
              "      <th>unixReviewTime</th>\n",
              "    </tr>\n",
              "  </thead>\n",
              "  <tbody>\n",
              "    <tr>\n",
              "      <th>count</th>\n",
              "      <td>12000.00000</td>\n",
              "      <td>12000.000000</td>\n",
              "      <td>12000.000000</td>\n",
              "      <td>1.200000e+04</td>\n",
              "    </tr>\n",
              "    <tr>\n",
              "      <th>mean</th>\n",
              "      <td>5999.50000</td>\n",
              "      <td>10024.275667</td>\n",
              "      <td>3.250000</td>\n",
              "      <td>1.344537e+09</td>\n",
              "    </tr>\n",
              "    <tr>\n",
              "      <th>std</th>\n",
              "      <td>3464.24595</td>\n",
              "      <td>10502.233123</td>\n",
              "      <td>1.421619</td>\n",
              "      <td>4.369374e+07</td>\n",
              "    </tr>\n",
              "    <tr>\n",
              "      <th>min</th>\n",
              "      <td>0.00000</td>\n",
              "      <td>0.000000</td>\n",
              "      <td>1.000000</td>\n",
              "      <td>9.602496e+08</td>\n",
              "    </tr>\n",
              "    <tr>\n",
              "      <th>25%</th>\n",
              "      <td>2999.75000</td>\n",
              "      <td>2999.750000</td>\n",
              "      <td>2.000000</td>\n",
              "      <td>1.316218e+09</td>\n",
              "    </tr>\n",
              "    <tr>\n",
              "      <th>50%</th>\n",
              "      <td>5999.50000</td>\n",
              "      <td>5999.500000</td>\n",
              "      <td>3.500000</td>\n",
              "      <td>1.356826e+09</td>\n",
              "    </tr>\n",
              "    <tr>\n",
              "      <th>75%</th>\n",
              "      <td>8999.25000</td>\n",
              "      <td>12475.750000</td>\n",
              "      <td>4.250000</td>\n",
              "      <td>1.376870e+09</td>\n",
              "    </tr>\n",
              "    <tr>\n",
              "      <th>max</th>\n",
              "      <td>11999.00000</td>\n",
              "      <td>47770.000000</td>\n",
              "      <td>5.000000</td>\n",
              "      <td>1.405814e+09</td>\n",
              "    </tr>\n",
              "  </tbody>\n",
              "</table>\n",
              "</div>\n",
              "    <div class=\"colab-df-buttons\">\n",
              "\n",
              "  <div class=\"colab-df-container\">\n",
              "    <button class=\"colab-df-convert\" onclick=\"convertToInteractive('df-26c13e2a-f2df-42bb-a96e-328a81e65916')\"\n",
              "            title=\"Convert this dataframe to an interactive table.\"\n",
              "            style=\"display:none;\">\n",
              "\n",
              "  <svg xmlns=\"http://www.w3.org/2000/svg\" height=\"24px\" viewBox=\"0 -960 960 960\">\n",
              "    <path d=\"M120-120v-720h720v720H120Zm60-500h600v-160H180v160Zm220 220h160v-160H400v160Zm0 220h160v-160H400v160ZM180-400h160v-160H180v160Zm440 0h160v-160H620v160ZM180-180h160v-160H180v160Zm440 0h160v-160H620v160Z\"/>\n",
              "  </svg>\n",
              "    </button>\n",
              "\n",
              "  <style>\n",
              "    .colab-df-container {\n",
              "      display:flex;\n",
              "      gap: 12px;\n",
              "    }\n",
              "\n",
              "    .colab-df-convert {\n",
              "      background-color: #E8F0FE;\n",
              "      border: none;\n",
              "      border-radius: 50%;\n",
              "      cursor: pointer;\n",
              "      display: none;\n",
              "      fill: #1967D2;\n",
              "      height: 32px;\n",
              "      padding: 0 0 0 0;\n",
              "      width: 32px;\n",
              "    }\n",
              "\n",
              "    .colab-df-convert:hover {\n",
              "      background-color: #E2EBFA;\n",
              "      box-shadow: 0px 1px 2px rgba(60, 64, 67, 0.3), 0px 1px 3px 1px rgba(60, 64, 67, 0.15);\n",
              "      fill: #174EA6;\n",
              "    }\n",
              "\n",
              "    .colab-df-buttons div {\n",
              "      margin-bottom: 4px;\n",
              "    }\n",
              "\n",
              "    [theme=dark] .colab-df-convert {\n",
              "      background-color: #3B4455;\n",
              "      fill: #D2E3FC;\n",
              "    }\n",
              "\n",
              "    [theme=dark] .colab-df-convert:hover {\n",
              "      background-color: #434B5C;\n",
              "      box-shadow: 0px 1px 3px 1px rgba(0, 0, 0, 0.15);\n",
              "      filter: drop-shadow(0px 1px 2px rgba(0, 0, 0, 0.3));\n",
              "      fill: #FFFFFF;\n",
              "    }\n",
              "  </style>\n",
              "\n",
              "    <script>\n",
              "      const buttonEl =\n",
              "        document.querySelector('#df-26c13e2a-f2df-42bb-a96e-328a81e65916 button.colab-df-convert');\n",
              "      buttonEl.style.display =\n",
              "        google.colab.kernel.accessAllowed ? 'block' : 'none';\n",
              "\n",
              "      async function convertToInteractive(key) {\n",
              "        const element = document.querySelector('#df-26c13e2a-f2df-42bb-a96e-328a81e65916');\n",
              "        const dataTable =\n",
              "          await google.colab.kernel.invokeFunction('convertToInteractive',\n",
              "                                                    [key], {});\n",
              "        if (!dataTable) return;\n",
              "\n",
              "        const docLinkHtml = 'Like what you see? Visit the ' +\n",
              "          '<a target=\"_blank\" href=https://colab.research.google.com/notebooks/data_table.ipynb>data table notebook</a>'\n",
              "          + ' to learn more about interactive tables.';\n",
              "        element.innerHTML = '';\n",
              "        dataTable['output_type'] = 'display_data';\n",
              "        await google.colab.output.renderOutput(dataTable, element);\n",
              "        const docLink = document.createElement('div');\n",
              "        docLink.innerHTML = docLinkHtml;\n",
              "        element.appendChild(docLink);\n",
              "      }\n",
              "    </script>\n",
              "  </div>\n",
              "\n",
              "\n",
              "<div id=\"df-4943967b-4379-4703-b921-7010cc09ab62\">\n",
              "  <button class=\"colab-df-quickchart\" onclick=\"quickchart('df-4943967b-4379-4703-b921-7010cc09ab62')\"\n",
              "            title=\"Suggest charts\"\n",
              "            style=\"display:none;\">\n",
              "\n",
              "<svg xmlns=\"http://www.w3.org/2000/svg\" height=\"24px\"viewBox=\"0 0 24 24\"\n",
              "     width=\"24px\">\n",
              "    <g>\n",
              "        <path d=\"M19 3H5c-1.1 0-2 .9-2 2v14c0 1.1.9 2 2 2h14c1.1 0 2-.9 2-2V5c0-1.1-.9-2-2-2zM9 17H7v-7h2v7zm4 0h-2V7h2v10zm4 0h-2v-4h2v4z\"/>\n",
              "    </g>\n",
              "</svg>\n",
              "  </button>\n",
              "\n",
              "<style>\n",
              "  .colab-df-quickchart {\n",
              "      --bg-color: #E8F0FE;\n",
              "      --fill-color: #1967D2;\n",
              "      --hover-bg-color: #E2EBFA;\n",
              "      --hover-fill-color: #174EA6;\n",
              "      --disabled-fill-color: #AAA;\n",
              "      --disabled-bg-color: #DDD;\n",
              "  }\n",
              "\n",
              "  [theme=dark] .colab-df-quickchart {\n",
              "      --bg-color: #3B4455;\n",
              "      --fill-color: #D2E3FC;\n",
              "      --hover-bg-color: #434B5C;\n",
              "      --hover-fill-color: #FFFFFF;\n",
              "      --disabled-bg-color: #3B4455;\n",
              "      --disabled-fill-color: #666;\n",
              "  }\n",
              "\n",
              "  .colab-df-quickchart {\n",
              "    background-color: var(--bg-color);\n",
              "    border: none;\n",
              "    border-radius: 50%;\n",
              "    cursor: pointer;\n",
              "    display: none;\n",
              "    fill: var(--fill-color);\n",
              "    height: 32px;\n",
              "    padding: 0;\n",
              "    width: 32px;\n",
              "  }\n",
              "\n",
              "  .colab-df-quickchart:hover {\n",
              "    background-color: var(--hover-bg-color);\n",
              "    box-shadow: 0 1px 2px rgba(60, 64, 67, 0.3), 0 1px 3px 1px rgba(60, 64, 67, 0.15);\n",
              "    fill: var(--button-hover-fill-color);\n",
              "  }\n",
              "\n",
              "  .colab-df-quickchart-complete:disabled,\n",
              "  .colab-df-quickchart-complete:disabled:hover {\n",
              "    background-color: var(--disabled-bg-color);\n",
              "    fill: var(--disabled-fill-color);\n",
              "    box-shadow: none;\n",
              "  }\n",
              "\n",
              "  .colab-df-spinner {\n",
              "    border: 2px solid var(--fill-color);\n",
              "    border-color: transparent;\n",
              "    border-bottom-color: var(--fill-color);\n",
              "    animation:\n",
              "      spin 1s steps(1) infinite;\n",
              "  }\n",
              "\n",
              "  @keyframes spin {\n",
              "    0% {\n",
              "      border-color: transparent;\n",
              "      border-bottom-color: var(--fill-color);\n",
              "      border-left-color: var(--fill-color);\n",
              "    }\n",
              "    20% {\n",
              "      border-color: transparent;\n",
              "      border-left-color: var(--fill-color);\n",
              "      border-top-color: var(--fill-color);\n",
              "    }\n",
              "    30% {\n",
              "      border-color: transparent;\n",
              "      border-left-color: var(--fill-color);\n",
              "      border-top-color: var(--fill-color);\n",
              "      border-right-color: var(--fill-color);\n",
              "    }\n",
              "    40% {\n",
              "      border-color: transparent;\n",
              "      border-right-color: var(--fill-color);\n",
              "      border-top-color: var(--fill-color);\n",
              "    }\n",
              "    60% {\n",
              "      border-color: transparent;\n",
              "      border-right-color: var(--fill-color);\n",
              "    }\n",
              "    80% {\n",
              "      border-color: transparent;\n",
              "      border-right-color: var(--fill-color);\n",
              "      border-bottom-color: var(--fill-color);\n",
              "    }\n",
              "    90% {\n",
              "      border-color: transparent;\n",
              "      border-bottom-color: var(--fill-color);\n",
              "    }\n",
              "  }\n",
              "</style>\n",
              "\n",
              "  <script>\n",
              "    async function quickchart(key) {\n",
              "      const quickchartButtonEl =\n",
              "        document.querySelector('#' + key + ' button');\n",
              "      quickchartButtonEl.disabled = true;  // To prevent multiple clicks.\n",
              "      quickchartButtonEl.classList.add('colab-df-spinner');\n",
              "      try {\n",
              "        const charts = await google.colab.kernel.invokeFunction(\n",
              "            'suggestCharts', [key], {});\n",
              "      } catch (error) {\n",
              "        console.error('Error during call to suggestCharts:', error);\n",
              "      }\n",
              "      quickchartButtonEl.classList.remove('colab-df-spinner');\n",
              "      quickchartButtonEl.classList.add('colab-df-quickchart-complete');\n",
              "    }\n",
              "    (() => {\n",
              "      let quickchartButtonEl =\n",
              "        document.querySelector('#df-4943967b-4379-4703-b921-7010cc09ab62 button');\n",
              "      quickchartButtonEl.style.display =\n",
              "        google.colab.kernel.accessAllowed ? 'block' : 'none';\n",
              "    })();\n",
              "  </script>\n",
              "</div>\n",
              "\n",
              "    </div>\n",
              "  </div>\n"
            ],
            "application/vnd.google.colaboratory.intrinsic+json": {
              "type": "dataframe",
              "summary": "{\n  \"name\": \"all_kindle_review\",\n  \"rows\": 8,\n  \"fields\": [\n    {\n      \"column\": \"Unnamed: 0.1\",\n      \"properties\": {\n        \"dtype\": \"number\",\n        \"std\": 4324.639089616687,\n        \"min\": 0.0,\n        \"max\": 12000.0,\n        \"num_unique_values\": 7,\n        \"samples\": [\n          12000.0,\n          5999.5,\n          8999.25\n        ],\n        \"semantic_type\": \"\",\n        \"description\": \"\"\n      }\n    },\n    {\n      \"column\": \"Unnamed: 0\",\n      \"properties\": {\n        \"dtype\": \"number\",\n        \"std\": 14845.455011175629,\n        \"min\": 0.0,\n        \"max\": 47770.0,\n        \"num_unique_values\": 8,\n        \"samples\": [\n          10024.275666666666,\n          5999.5,\n          12000.0\n        ],\n        \"semantic_type\": \"\",\n        \"description\": \"\"\n      }\n    },\n    {\n      \"column\": \"rating\",\n      \"properties\": {\n        \"dtype\": \"number\",\n        \"std\": 4241.60946386175,\n        \"min\": 1.0,\n        \"max\": 12000.0,\n        \"num_unique_values\": 8,\n        \"samples\": [\n          3.25,\n          3.5,\n          12000.0\n        ],\n        \"semantic_type\": \"\",\n        \"description\": \"\"\n      }\n    },\n    {\n      \"column\": \"unixReviewTime\",\n      \"properties\": {\n        \"dtype\": \"number\",\n        \"std\": 605218609.3263704,\n        \"min\": 12000.0,\n        \"max\": 1405814400.0,\n        \"num_unique_values\": 8,\n        \"samples\": [\n          1344536949.6,\n          1356825600.0,\n          12000.0\n        ],\n        \"semantic_type\": \"\",\n        \"description\": \"\"\n      }\n    }\n  ]\n}"
            }
          },
          "metadata": {},
          "execution_count": 32
        }
      ]
    },
    {
      "cell_type": "markdown",
      "source": [],
      "metadata": {
        "id": "r9xH9DyNQtsA"
      }
    },
    {
      "cell_type": "markdown",
      "source": [
        "### Data Cleaning"
      ],
      "metadata": {
        "id": "jPO7Deb6Lhyz"
      }
    },
    {
      "cell_type": "markdown",
      "source": [
        "#### Basic data cleaning\n"
      ],
      "metadata": {
        "id": "uCqBwFdnjNhu"
      }
    },
    {
      "cell_type": "markdown",
      "source": [
        "##### Check for duplicates"
      ],
      "metadata": {
        "id": "p-z_sgHjMmRY"
      }
    },
    {
      "cell_type": "code",
      "source": [
        "if all_kindle_review.duplicated().sum() > 0:\n",
        "    print(\"Duplicate Rows Preview:\")\n",
        "    print(all_kindle_review[all_kindle_review.duplicated()].head())\n",
        "else:\n",
        "    print(\"No duplicate rows found.\")\n",
        "\n",
        "print(f'Number of duplicate rows: {all_kindle_review.duplicated().sum()}')"
      ],
      "metadata": {
        "id": "iPsJzQdAM8VD",
        "colab": {
          "base_uri": "https://localhost:8080/"
        },
        "outputId": "6888fa02-e7fe-4c15-cdfa-a06e6776de45"
      },
      "execution_count": null,
      "outputs": [
        {
          "output_type": "stream",
          "name": "stdout",
          "text": [
            "No duplicate rows found.\n",
            "Number of duplicate rows: 0\n"
          ]
        }
      ]
    },
    {
      "cell_type": "markdown",
      "source": [
        "**Why view the duplicates?**\n",
        "\n",
        "By making myself check for fully duplicated rows, I maintain data quality and remove redundancies. Printing a few examples of duplicate rows before removing them helps verify their nature and determine whether they should be kept or discarded.\n"
      ],
      "metadata": {
        "id": "kxxPI-ERTRw8"
      }
    },
    {
      "cell_type": "markdown",
      "source": [],
      "metadata": {
        "id": "eGWilOzcSCRO"
      }
    },
    {
      "cell_type": "markdown",
      "source": [
        "##### Remove duplicate rows"
      ],
      "metadata": {
        "id": "kOUDEyn3LmrZ"
      }
    },
    {
      "cell_type": "code",
      "source": [
        "all_kindle_review = all_kindle_review.drop_duplicates()\n",
        "print(f'Number of duplicates removed: {all_kindle_review.shape[0]}')"
      ],
      "metadata": {
        "id": "kIsweyQdLxRt",
        "colab": {
          "base_uri": "https://localhost:8080/"
        },
        "outputId": "19c1182c-56f7-44de-b49a-85597689d36b"
      },
      "execution_count": null,
      "outputs": [
        {
          "output_type": "stream",
          "name": "stdout",
          "text": [
            "Number of duplicates removed: 12000\n"
          ]
        }
      ]
    },
    {
      "cell_type": "markdown",
      "source": [
        "**Why remove duplicates?**\n",
        "\n",
        "This step is crucial for maintaining the accuracy of the model, as duplicate data can cause bias in training. According to Ahmed (2025a), maintaining data quality is essential to ensure reliable classification outcomes. and not skewed by repeated entries. This step is crucial for maintaining the accuracy of the model, as duplicate data can cause bias in training.\n"
      ],
      "metadata": {
        "id": "dTceRBrkao99"
      }
    },
    {
      "cell_type": "markdown",
      "source": [
        "##### Check for missing values"
      ],
      "metadata": {
        "id": "I4KWMuURX1oV"
      }
    },
    {
      "cell_type": "code",
      "source": [
        "print('Missing values per column:')\n",
        "print(all_kindle_review.isnull().sum())"
      ],
      "metadata": {
        "id": "7dga4mjGX4uP",
        "colab": {
          "base_uri": "https://localhost:8080/"
        },
        "outputId": "0c53fa82-1fa0-4255-9cb0-d2d381d8c4a8"
      },
      "execution_count": null,
      "outputs": [
        {
          "output_type": "stream",
          "name": "stdout",
          "text": [
            "Missing values per column:\n",
            "Unnamed: 0.1       0\n",
            "Unnamed: 0         0\n",
            "asin               0\n",
            "helpful            0\n",
            "rating             0\n",
            "reviewText         0\n",
            "reviewTime         0\n",
            "reviewerID         0\n",
            "reviewerName      38\n",
            "summary            2\n",
            "unixReviewTime     0\n",
            "dtype: int64\n"
          ]
        }
      ]
    },
    {
      "cell_type": "markdown",
      "source": [
        "**Why identify the missing values?**\n",
        "\n",
        "I do this to make sure data gaps do NOT affect model performance.\n",
        "\n",
        "Missing data can negatively impact my model training and evaluation which would lead to inaccurate predictions. So by determining the number of missing values per column, I can make an informed decision on how to handle them. I can do this by filling, dropping, or imputing so that the final dataset I use for training is complete and reliable.\n",
        "\n",
        "Identifying missing values is essential to maintain data quality. Missing data can reduce data quality, affecting model performance. According to Ahmed (2025a), collecting labeled data and performing feature engineering are crucial for effective classification. Additionally, Ahmed (2025c) emphasizes that predictive analytics relies on accurate historical data, and data gaps can lead to unreliable outcomes. Therefore, I make sure to assess and address missing values to keep my dataset consistent and high-quality."
      ],
      "metadata": {
        "id": "hdXXIwUiSe2M"
      }
    },
    {
      "cell_type": "markdown",
      "source": [
        "##### Fill in missing data"
      ],
      "metadata": {
        "id": "lNgtDUKjYLSR"
      }
    },
    {
      "cell_type": "markdown",
      "source": [
        "###### Fill in missing reviewerName with Unknown"
      ],
      "metadata": {
        "id": "DKLMvhGuYhAR"
      }
    },
    {
      "cell_type": "code",
      "source": [
        "all_kindle_review[\"reviewerName\"].fillna(\"Unknown\")"
      ],
      "metadata": {
        "id": "-zJdQkbVYVA4",
        "colab": {
          "base_uri": "https://localhost:8080/",
          "height": 459
        },
        "outputId": "5f788b16-7f08-47ca-b00b-d07a146e5cee"
      },
      "execution_count": null,
      "outputs": [
        {
          "output_type": "execute_result",
          "data": {
            "text/plain": [
              "0                               Ridley\n",
              "1                         Holly Butler\n",
              "2                              Merissa\n",
              "3                           Cleargrace\n",
              "4                             Rjostler\n",
              "                     ...              \n",
              "11995                    lisa jon jung\n",
              "11996                          TerryLP\n",
              "11997                          hwilson\n",
              "11998    Allison A. Slater \"Gryphon50\"\n",
              "11999                        Dafna Yee\n",
              "Name: reviewerName, Length: 12000, dtype: object"
            ],
            "text/html": [
              "<div>\n",
              "<style scoped>\n",
              "    .dataframe tbody tr th:only-of-type {\n",
              "        vertical-align: middle;\n",
              "    }\n",
              "\n",
              "    .dataframe tbody tr th {\n",
              "        vertical-align: top;\n",
              "    }\n",
              "\n",
              "    .dataframe thead th {\n",
              "        text-align: right;\n",
              "    }\n",
              "</style>\n",
              "<table border=\"1\" class=\"dataframe\">\n",
              "  <thead>\n",
              "    <tr style=\"text-align: right;\">\n",
              "      <th></th>\n",
              "      <th>reviewerName</th>\n",
              "    </tr>\n",
              "  </thead>\n",
              "  <tbody>\n",
              "    <tr>\n",
              "      <th>0</th>\n",
              "      <td>Ridley</td>\n",
              "    </tr>\n",
              "    <tr>\n",
              "      <th>1</th>\n",
              "      <td>Holly Butler</td>\n",
              "    </tr>\n",
              "    <tr>\n",
              "      <th>2</th>\n",
              "      <td>Merissa</td>\n",
              "    </tr>\n",
              "    <tr>\n",
              "      <th>3</th>\n",
              "      <td>Cleargrace</td>\n",
              "    </tr>\n",
              "    <tr>\n",
              "      <th>4</th>\n",
              "      <td>Rjostler</td>\n",
              "    </tr>\n",
              "    <tr>\n",
              "      <th>...</th>\n",
              "      <td>...</td>\n",
              "    </tr>\n",
              "    <tr>\n",
              "      <th>11995</th>\n",
              "      <td>lisa jon jung</td>\n",
              "    </tr>\n",
              "    <tr>\n",
              "      <th>11996</th>\n",
              "      <td>TerryLP</td>\n",
              "    </tr>\n",
              "    <tr>\n",
              "      <th>11997</th>\n",
              "      <td>hwilson</td>\n",
              "    </tr>\n",
              "    <tr>\n",
              "      <th>11998</th>\n",
              "      <td>Allison A. Slater \"Gryphon50\"</td>\n",
              "    </tr>\n",
              "    <tr>\n",
              "      <th>11999</th>\n",
              "      <td>Dafna Yee</td>\n",
              "    </tr>\n",
              "  </tbody>\n",
              "</table>\n",
              "<p>12000 rows × 1 columns</p>\n",
              "</div><br><label><b>dtype:</b> object</label>"
            ]
          },
          "metadata": {},
          "execution_count": 36
        }
      ]
    },
    {
      "cell_type": "markdown",
      "source": [
        "###### Fill missing summary with \"No summary\""
      ],
      "metadata": {
        "id": "s3QUVyeEYoxM"
      }
    },
    {
      "cell_type": "code",
      "source": [
        "all_kindle_review[\"summary\"].fillna(\"No summary\")"
      ],
      "metadata": {
        "id": "8Y1qIkXAYqVi",
        "colab": {
          "base_uri": "https://localhost:8080/",
          "height": 459
        },
        "outputId": "366165aa-137e-46ad-a2a7-b9fbbecbd461"
      },
      "execution_count": null,
      "outputs": [
        {
          "output_type": "execute_result",
          "data": {
            "text/plain": [
              "0                                 Entertaining But Average\n",
              "1                                  Terrific menage scenes!\n",
              "2                                         Snapdragon Alley\n",
              "3                                   very light murder cozy\n",
              "4                                                     Book\n",
              "                               ...                        \n",
              "11995                                                 jena\n",
              "11996                                  Peacekeepers Series\n",
              "11997                                      a little creepy\n",
              "11998                                          didn't work\n",
              "11999    If you like BDSM with a touch of romance, this...\n",
              "Name: summary, Length: 12000, dtype: object"
            ],
            "text/html": [
              "<div>\n",
              "<style scoped>\n",
              "    .dataframe tbody tr th:only-of-type {\n",
              "        vertical-align: middle;\n",
              "    }\n",
              "\n",
              "    .dataframe tbody tr th {\n",
              "        vertical-align: top;\n",
              "    }\n",
              "\n",
              "    .dataframe thead th {\n",
              "        text-align: right;\n",
              "    }\n",
              "</style>\n",
              "<table border=\"1\" class=\"dataframe\">\n",
              "  <thead>\n",
              "    <tr style=\"text-align: right;\">\n",
              "      <th></th>\n",
              "      <th>summary</th>\n",
              "    </tr>\n",
              "  </thead>\n",
              "  <tbody>\n",
              "    <tr>\n",
              "      <th>0</th>\n",
              "      <td>Entertaining But Average</td>\n",
              "    </tr>\n",
              "    <tr>\n",
              "      <th>1</th>\n",
              "      <td>Terrific menage scenes!</td>\n",
              "    </tr>\n",
              "    <tr>\n",
              "      <th>2</th>\n",
              "      <td>Snapdragon Alley</td>\n",
              "    </tr>\n",
              "    <tr>\n",
              "      <th>3</th>\n",
              "      <td>very light murder cozy</td>\n",
              "    </tr>\n",
              "    <tr>\n",
              "      <th>4</th>\n",
              "      <td>Book</td>\n",
              "    </tr>\n",
              "    <tr>\n",
              "      <th>...</th>\n",
              "      <td>...</td>\n",
              "    </tr>\n",
              "    <tr>\n",
              "      <th>11995</th>\n",
              "      <td>jena</td>\n",
              "    </tr>\n",
              "    <tr>\n",
              "      <th>11996</th>\n",
              "      <td>Peacekeepers Series</td>\n",
              "    </tr>\n",
              "    <tr>\n",
              "      <th>11997</th>\n",
              "      <td>a little creepy</td>\n",
              "    </tr>\n",
              "    <tr>\n",
              "      <th>11998</th>\n",
              "      <td>didn't work</td>\n",
              "    </tr>\n",
              "    <tr>\n",
              "      <th>11999</th>\n",
              "      <td>If you like BDSM with a touch of romance, this...</td>\n",
              "    </tr>\n",
              "  </tbody>\n",
              "</table>\n",
              "<p>12000 rows × 1 columns</p>\n",
              "</div><br><label><b>dtype:</b> object</label>"
            ]
          },
          "metadata": {},
          "execution_count": 37
        }
      ]
    },
    {
      "cell_type": "markdown",
      "source": [
        "**Why fill in missing names and summaries?**\n",
        "\n",
        "I do this to to avoid issues during text processing and model training."
      ],
      "metadata": {
        "id": "3FvZjvdFRxdn"
      }
    },
    {
      "cell_type": "markdown",
      "source": [
        "##### Removing HTML tags"
      ],
      "metadata": {
        "id": "j58MevSRXtkw"
      }
    },
    {
      "cell_type": "code",
      "source": [
        "def remove_html_tags(text):\n",
        "    return re.sub(r'<.*?>', '', text)"
      ],
      "metadata": {
        "id": "3G8Yd2qRXw1r"
      },
      "execution_count": null,
      "outputs": []
    },
    {
      "cell_type": "markdown",
      "source": [
        "##### Removing URLs"
      ],
      "metadata": {
        "id": "F_FgSnfmX4c4"
      }
    },
    {
      "cell_type": "code",
      "source": [
        "def remove_urls(text):\n",
        "    return re.sub(r'http\\S+|www\\S+|https\\S+', '', text)"
      ],
      "metadata": {
        "id": "vANVAyQsX03I"
      },
      "execution_count": null,
      "outputs": []
    },
    {
      "cell_type": "markdown",
      "source": [
        "##### Removing non-ASCII characters"
      ],
      "metadata": {
        "id": "uCgXiJD5X7t4"
      }
    },
    {
      "cell_type": "code",
      "source": [
        "def remove_non_ascii(text):\n",
        "    return re.sub(r'[^\\x00-\\x7F]+', '', text)"
      ],
      "metadata": {
        "id": "cwYFenwuX-c1"
      },
      "execution_count": null,
      "outputs": []
    },
    {
      "cell_type": "markdown",
      "source": [
        "##### Normalizing whitespace"
      ],
      "metadata": {
        "id": "55inyFNhYQUj"
      }
    },
    {
      "cell_type": "code",
      "source": [
        "def normalize_whitespace(text):\n",
        "    return re.sub(r'\\s+', ' ', text).strip()"
      ],
      "metadata": {
        "id": "wMhta7SzYT4T"
      },
      "execution_count": null,
      "outputs": []
    },
    {
      "cell_type": "markdown",
      "source": [
        "##### Applying basic cleaning steps"
      ],
      "metadata": {
        "id": "2zSYz9ynYWsX"
      }
    },
    {
      "cell_type": "code",
      "source": [
        "all_kindle_review['cleaned_review'] = all_kindle_review['reviewText'].apply(remove_html_tags).apply(remove_urls)\n",
        "all_kindle_review['cleaned_review'] = all_kindle_review['cleaned_review'].apply(remove_non_ascii)\n",
        "all_kindle_review['cleaned_review'] = all_kindle_review['cleaned_review'].apply(normalize_whitespace)"
      ],
      "metadata": {
        "id": "jd97hRk2YYoF"
      },
      "execution_count": null,
      "outputs": []
    },
    {
      "cell_type": "markdown",
      "source": [
        "##### Displaying cleaned data"
      ],
      "metadata": {
        "id": "8UqnJRHuYcSe"
      }
    },
    {
      "cell_type": "code",
      "source": [
        "print(all_kindle_review[['reviewText', 'cleaned_review']].head())"
      ],
      "metadata": {
        "id": "CcpwQsGDYepl",
        "colab": {
          "base_uri": "https://localhost:8080/"
        },
        "outputId": "2d064260-aa22-414b-ee1a-e48daee28d0e"
      },
      "execution_count": null,
      "outputs": [
        {
          "output_type": "stream",
          "name": "stdout",
          "text": [
            "                                          reviewText  \\\n",
            "0  Jace Rankin may be short, but he's nothing to ...   \n",
            "1  Great short read.  I didn't want to put it dow...   \n",
            "2  I'll start by saying this is the first of four...   \n",
            "3  Aggie is Angela Lansbury who carries pocketboo...   \n",
            "4  I did not expect this type of book to be in li...   \n",
            "\n",
            "                                      cleaned_review  \n",
            "0  Jace Rankin may be short, but he's nothing to ...  \n",
            "1  Great short read. I didn't want to put it down...  \n",
            "2  I'll start by saying this is the first of four...  \n",
            "3  Aggie is Angela Lansbury who carries pocketboo...  \n",
            "4  I did not expect this type of book to be in li...  \n"
          ]
        }
      ]
    },
    {
      "cell_type": "markdown",
      "source": [
        "#### Text processing & Enhanced Text Cleaning Function"
      ],
      "metadata": {
        "id": "pS4FjME6iJGA"
      }
    },
    {
      "cell_type": "markdown",
      "source": [
        "##### Text Preprocessing"
      ],
      "metadata": {
        "id": "b6mi3AkHYu44"
      }
    },
    {
      "cell_type": "code",
      "source": [
        "def preprocess_text(text):\n",
        "    tokens = word_tokenize(text)\n",
        "    tokens = [word for word in tokens if word.isalpha()]\n",
        "    tokens = [word for word in tokens if word not in stopwords.words('english')]\n",
        "    lemmatizer = WordNetLemmatizer()\n",
        "    tokens = [lemmatizer.lemmatize(word) for word in tokens]\n",
        "    return ' '.join(tokens)"
      ],
      "metadata": {
        "id": "91EgpLxXYw6a"
      },
      "execution_count": null,
      "outputs": []
    },
    {
      "cell_type": "markdown",
      "source": [
        "**Why do this?**\n",
        "\n",
        "Text preprocessing ensures uniformity, reduces noise, and prepares textual data for analysis by normalizing word forms.\n",
        "\n",
        "This process is crucial for sentiment analysis and classification tasks, as it improves model performance by reducing variability in text data (Ahmed, 2025b)., reduces noise, and prepares textual data for analysis by normalizing word forms.\n"
      ],
      "metadata": {
        "id": "DSwfIEUxR6H3"
      }
    },
    {
      "cell_type": "markdown",
      "source": [
        "##### Apply text preprocessing"
      ],
      "metadata": {
        "id": "4TOYIUr2Yy83"
      }
    },
    {
      "cell_type": "code",
      "source": [
        "all_kindle_review['preprocessed_review'] = all_kindle_review['reviewText'].apply(preprocess_text)\n",
        "print('Text preprocessing completed.')"
      ],
      "metadata": {
        "id": "OfQYRbaTY075",
        "colab": {
          "base_uri": "https://localhost:8080/"
        },
        "outputId": "e132c9d7-faf4-45f8-dfb2-98e3a35b9153"
      },
      "execution_count": null,
      "outputs": [
        {
          "output_type": "stream",
          "name": "stdout",
          "text": [
            "Text preprocessing completed.\n"
          ]
        }
      ]
    },
    {
      "cell_type": "markdown",
      "source": [
        "**Why do I apply text prepocessing?**\n",
        "\n",
        "I preprocess the text to be absolutely sure of the uniformity and reduce noise in the data. This step involves tokenizing the text, removing non-alphabetic tokens, filtering out stopwords, and applying lemmatization. Preprocessing the text in this way enhances model performance by making the input data consistent and structured. According to Ahmed (2025b), text normalization is crucial for sentiment analysis and classification tasks, because it reduces variability and improves accuracy."
      ],
      "metadata": {
        "id": "SiGRMR3xb4de"
      }
    },
    {
      "cell_type": "markdown",
      "source": [
        "##### Enhanced Text Cleaning Function"
      ],
      "metadata": {
        "id": "HJDCvhEspDlN"
      }
    },
    {
      "cell_type": "code",
      "source": [
        "def clean_text(text):\n",
        "    text = text.lower()\n",
        "    text = re.sub(r'[^a-zA-Z\\s]', '', text)\n",
        "    tokens = word_tokenize(text)\n",
        "    tokens = [word for word in tokens if word not in stopwords.words('english')]\n",
        "    lemmatizer = WordNetLemmatizer()\n",
        "    tokens = [lemmatizer.lemmatize(word) for word in tokens]\n",
        "    return ' '.join(tokens)"
      ],
      "metadata": {
        "id": "VcwVpdBEopJ-"
      },
      "execution_count": null,
      "outputs": []
    },
    {
      "cell_type": "markdown",
      "source": [
        "**Why Enhanced Text Cleaning Function?**\n",
        "\n",
        "The function clean_text is defined to automate the text cleaning process. It combines multiple steps (lowercasing, removing punctuation, tokenization, stopword removal, and lemmatization) into a single operation to ensure consistency and efficiency in data preprocessing. This modular approach is advantageous for processing large datasets, as it can be directly applied to the text column using the apply function in Pandas."
      ],
      "metadata": {
        "id": "B46y1JCmBPku"
      }
    },
    {
      "cell_type": "markdown",
      "source": [
        "##### Apply the Enhanced Text Cleaning Function"
      ],
      "metadata": {
        "id": "P1LYzdVPe43h"
      }
    },
    {
      "cell_type": "code",
      "source": [
        "all_kindle_review['cleaned_review'] = all_kindle_review['reviewText'].apply(clean_text)\n",
        "print('Enhanced text cleaning completed.')"
      ],
      "metadata": {
        "id": "eUv6yNuzfAOD",
        "colab": {
          "base_uri": "https://localhost:8080/"
        },
        "outputId": "a8f7c48b-af50-4171-d618-34b92d030b44"
      },
      "execution_count": null,
      "outputs": [
        {
          "output_type": "stream",
          "name": "stdout",
          "text": [
            "Enhanced text cleaning completed.\n"
          ]
        }
      ]
    },
    {
      "cell_type": "markdown",
      "source": [
        "**Why use both text preprocessing anf enhanced text cleaning?**\n",
        "\n",
        "While the basic `preprocess_text` function only keeps alphabetic tokens and removes stopwords, the more advanced `clean_text` function carries out additional steps like lowercasing and punctuation removal. Which is why keeping both allows me more flexibility."
      ],
      "metadata": {
        "id": "faL2aNmuV-xi"
      }
    },
    {
      "cell_type": "markdown",
      "source": [
        "##### Display results of text preprocessing anf enhanced text cleaning"
      ],
      "metadata": {
        "id": "KJeuXU56V3Xu"
      }
    },
    {
      "cell_type": "code",
      "source": [
        "display(all_kindle_review[['reviewText', 'preprocessed_review', 'cleaned_review']].head())"
      ],
      "metadata": {
        "id": "eExmG11EV8y2",
        "colab": {
          "base_uri": "https://localhost:8080/",
          "height": 206
        },
        "outputId": "754fe67e-fc53-4ac4-b8d1-0678fdd10a6c"
      },
      "execution_count": null,
      "outputs": [
        {
          "output_type": "display_data",
          "data": {
            "text/plain": [
              "                                          reviewText  \\\n",
              "0  Jace Rankin may be short, but he's nothing to ...   \n",
              "1  Great short read.  I didn't want to put it dow...   \n",
              "2  I'll start by saying this is the first of four...   \n",
              "3  Aggie is Angela Lansbury who carries pocketboo...   \n",
              "4  I did not expect this type of book to be in li...   \n",
              "\n",
              "                                 preprocessed_review  \\\n",
              "0  Jace Rankin may short nothing mess man hauled ...   \n",
              "1  Great short read I want put I read one sitting...   \n",
              "2  I start saying first four book I expecting con...   \n",
              "3  Aggie Angela Lansbury carry pocketbook instead...   \n",
              "4  I expect type book library pleased find price ...   \n",
              "\n",
              "                                      cleaned_review  \n",
              "0  jace rankin may short he nothing mess man haul...  \n",
              "1  great short read didnt want put read one sitti...  \n",
              "2  ill start saying first four book wasnt expecti...  \n",
              "3  aggie angela lansbury carry pocketbook instead...  \n",
              "4  expect type book library pleased find price right  "
            ],
            "text/html": [
              "\n",
              "  <div id=\"df-59af326d-3c06-4124-8197-821399de4934\" class=\"colab-df-container\">\n",
              "    <div>\n",
              "<style scoped>\n",
              "    .dataframe tbody tr th:only-of-type {\n",
              "        vertical-align: middle;\n",
              "    }\n",
              "\n",
              "    .dataframe tbody tr th {\n",
              "        vertical-align: top;\n",
              "    }\n",
              "\n",
              "    .dataframe thead th {\n",
              "        text-align: right;\n",
              "    }\n",
              "</style>\n",
              "<table border=\"1\" class=\"dataframe\">\n",
              "  <thead>\n",
              "    <tr style=\"text-align: right;\">\n",
              "      <th></th>\n",
              "      <th>reviewText</th>\n",
              "      <th>preprocessed_review</th>\n",
              "      <th>cleaned_review</th>\n",
              "    </tr>\n",
              "  </thead>\n",
              "  <tbody>\n",
              "    <tr>\n",
              "      <th>0</th>\n",
              "      <td>Jace Rankin may be short, but he's nothing to ...</td>\n",
              "      <td>Jace Rankin may short nothing mess man hauled ...</td>\n",
              "      <td>jace rankin may short he nothing mess man haul...</td>\n",
              "    </tr>\n",
              "    <tr>\n",
              "      <th>1</th>\n",
              "      <td>Great short read.  I didn't want to put it dow...</td>\n",
              "      <td>Great short read I want put I read one sitting...</td>\n",
              "      <td>great short read didnt want put read one sitti...</td>\n",
              "    </tr>\n",
              "    <tr>\n",
              "      <th>2</th>\n",
              "      <td>I'll start by saying this is the first of four...</td>\n",
              "      <td>I start saying first four book I expecting con...</td>\n",
              "      <td>ill start saying first four book wasnt expecti...</td>\n",
              "    </tr>\n",
              "    <tr>\n",
              "      <th>3</th>\n",
              "      <td>Aggie is Angela Lansbury who carries pocketboo...</td>\n",
              "      <td>Aggie Angela Lansbury carry pocketbook instead...</td>\n",
              "      <td>aggie angela lansbury carry pocketbook instead...</td>\n",
              "    </tr>\n",
              "    <tr>\n",
              "      <th>4</th>\n",
              "      <td>I did not expect this type of book to be in li...</td>\n",
              "      <td>I expect type book library pleased find price ...</td>\n",
              "      <td>expect type book library pleased find price right</td>\n",
              "    </tr>\n",
              "  </tbody>\n",
              "</table>\n",
              "</div>\n",
              "    <div class=\"colab-df-buttons\">\n",
              "\n",
              "  <div class=\"colab-df-container\">\n",
              "    <button class=\"colab-df-convert\" onclick=\"convertToInteractive('df-59af326d-3c06-4124-8197-821399de4934')\"\n",
              "            title=\"Convert this dataframe to an interactive table.\"\n",
              "            style=\"display:none;\">\n",
              "\n",
              "  <svg xmlns=\"http://www.w3.org/2000/svg\" height=\"24px\" viewBox=\"0 -960 960 960\">\n",
              "    <path d=\"M120-120v-720h720v720H120Zm60-500h600v-160H180v160Zm220 220h160v-160H400v160Zm0 220h160v-160H400v160ZM180-400h160v-160H180v160Zm440 0h160v-160H620v160ZM180-180h160v-160H180v160Zm440 0h160v-160H620v160Z\"/>\n",
              "  </svg>\n",
              "    </button>\n",
              "\n",
              "  <style>\n",
              "    .colab-df-container {\n",
              "      display:flex;\n",
              "      gap: 12px;\n",
              "    }\n",
              "\n",
              "    .colab-df-convert {\n",
              "      background-color: #E8F0FE;\n",
              "      border: none;\n",
              "      border-radius: 50%;\n",
              "      cursor: pointer;\n",
              "      display: none;\n",
              "      fill: #1967D2;\n",
              "      height: 32px;\n",
              "      padding: 0 0 0 0;\n",
              "      width: 32px;\n",
              "    }\n",
              "\n",
              "    .colab-df-convert:hover {\n",
              "      background-color: #E2EBFA;\n",
              "      box-shadow: 0px 1px 2px rgba(60, 64, 67, 0.3), 0px 1px 3px 1px rgba(60, 64, 67, 0.15);\n",
              "      fill: #174EA6;\n",
              "    }\n",
              "\n",
              "    .colab-df-buttons div {\n",
              "      margin-bottom: 4px;\n",
              "    }\n",
              "\n",
              "    [theme=dark] .colab-df-convert {\n",
              "      background-color: #3B4455;\n",
              "      fill: #D2E3FC;\n",
              "    }\n",
              "\n",
              "    [theme=dark] .colab-df-convert:hover {\n",
              "      background-color: #434B5C;\n",
              "      box-shadow: 0px 1px 3px 1px rgba(0, 0, 0, 0.15);\n",
              "      filter: drop-shadow(0px 1px 2px rgba(0, 0, 0, 0.3));\n",
              "      fill: #FFFFFF;\n",
              "    }\n",
              "  </style>\n",
              "\n",
              "    <script>\n",
              "      const buttonEl =\n",
              "        document.querySelector('#df-59af326d-3c06-4124-8197-821399de4934 button.colab-df-convert');\n",
              "      buttonEl.style.display =\n",
              "        google.colab.kernel.accessAllowed ? 'block' : 'none';\n",
              "\n",
              "      async function convertToInteractive(key) {\n",
              "        const element = document.querySelector('#df-59af326d-3c06-4124-8197-821399de4934');\n",
              "        const dataTable =\n",
              "          await google.colab.kernel.invokeFunction('convertToInteractive',\n",
              "                                                    [key], {});\n",
              "        if (!dataTable) return;\n",
              "\n",
              "        const docLinkHtml = 'Like what you see? Visit the ' +\n",
              "          '<a target=\"_blank\" href=https://colab.research.google.com/notebooks/data_table.ipynb>data table notebook</a>'\n",
              "          + ' to learn more about interactive tables.';\n",
              "        element.innerHTML = '';\n",
              "        dataTable['output_type'] = 'display_data';\n",
              "        await google.colab.output.renderOutput(dataTable, element);\n",
              "        const docLink = document.createElement('div');\n",
              "        docLink.innerHTML = docLinkHtml;\n",
              "        element.appendChild(docLink);\n",
              "      }\n",
              "    </script>\n",
              "  </div>\n",
              "\n",
              "\n",
              "<div id=\"df-86950a8e-6fdf-40c2-a521-a54dad9607ee\">\n",
              "  <button class=\"colab-df-quickchart\" onclick=\"quickchart('df-86950a8e-6fdf-40c2-a521-a54dad9607ee')\"\n",
              "            title=\"Suggest charts\"\n",
              "            style=\"display:none;\">\n",
              "\n",
              "<svg xmlns=\"http://www.w3.org/2000/svg\" height=\"24px\"viewBox=\"0 0 24 24\"\n",
              "     width=\"24px\">\n",
              "    <g>\n",
              "        <path d=\"M19 3H5c-1.1 0-2 .9-2 2v14c0 1.1.9 2 2 2h14c1.1 0 2-.9 2-2V5c0-1.1-.9-2-2-2zM9 17H7v-7h2v7zm4 0h-2V7h2v10zm4 0h-2v-4h2v4z\"/>\n",
              "    </g>\n",
              "</svg>\n",
              "  </button>\n",
              "\n",
              "<style>\n",
              "  .colab-df-quickchart {\n",
              "      --bg-color: #E8F0FE;\n",
              "      --fill-color: #1967D2;\n",
              "      --hover-bg-color: #E2EBFA;\n",
              "      --hover-fill-color: #174EA6;\n",
              "      --disabled-fill-color: #AAA;\n",
              "      --disabled-bg-color: #DDD;\n",
              "  }\n",
              "\n",
              "  [theme=dark] .colab-df-quickchart {\n",
              "      --bg-color: #3B4455;\n",
              "      --fill-color: #D2E3FC;\n",
              "      --hover-bg-color: #434B5C;\n",
              "      --hover-fill-color: #FFFFFF;\n",
              "      --disabled-bg-color: #3B4455;\n",
              "      --disabled-fill-color: #666;\n",
              "  }\n",
              "\n",
              "  .colab-df-quickchart {\n",
              "    background-color: var(--bg-color);\n",
              "    border: none;\n",
              "    border-radius: 50%;\n",
              "    cursor: pointer;\n",
              "    display: none;\n",
              "    fill: var(--fill-color);\n",
              "    height: 32px;\n",
              "    padding: 0;\n",
              "    width: 32px;\n",
              "  }\n",
              "\n",
              "  .colab-df-quickchart:hover {\n",
              "    background-color: var(--hover-bg-color);\n",
              "    box-shadow: 0 1px 2px rgba(60, 64, 67, 0.3), 0 1px 3px 1px rgba(60, 64, 67, 0.15);\n",
              "    fill: var(--button-hover-fill-color);\n",
              "  }\n",
              "\n",
              "  .colab-df-quickchart-complete:disabled,\n",
              "  .colab-df-quickchart-complete:disabled:hover {\n",
              "    background-color: var(--disabled-bg-color);\n",
              "    fill: var(--disabled-fill-color);\n",
              "    box-shadow: none;\n",
              "  }\n",
              "\n",
              "  .colab-df-spinner {\n",
              "    border: 2px solid var(--fill-color);\n",
              "    border-color: transparent;\n",
              "    border-bottom-color: var(--fill-color);\n",
              "    animation:\n",
              "      spin 1s steps(1) infinite;\n",
              "  }\n",
              "\n",
              "  @keyframes spin {\n",
              "    0% {\n",
              "      border-color: transparent;\n",
              "      border-bottom-color: var(--fill-color);\n",
              "      border-left-color: var(--fill-color);\n",
              "    }\n",
              "    20% {\n",
              "      border-color: transparent;\n",
              "      border-left-color: var(--fill-color);\n",
              "      border-top-color: var(--fill-color);\n",
              "    }\n",
              "    30% {\n",
              "      border-color: transparent;\n",
              "      border-left-color: var(--fill-color);\n",
              "      border-top-color: var(--fill-color);\n",
              "      border-right-color: var(--fill-color);\n",
              "    }\n",
              "    40% {\n",
              "      border-color: transparent;\n",
              "      border-right-color: var(--fill-color);\n",
              "      border-top-color: var(--fill-color);\n",
              "    }\n",
              "    60% {\n",
              "      border-color: transparent;\n",
              "      border-right-color: var(--fill-color);\n",
              "    }\n",
              "    80% {\n",
              "      border-color: transparent;\n",
              "      border-right-color: var(--fill-color);\n",
              "      border-bottom-color: var(--fill-color);\n",
              "    }\n",
              "    90% {\n",
              "      border-color: transparent;\n",
              "      border-bottom-color: var(--fill-color);\n",
              "    }\n",
              "  }\n",
              "</style>\n",
              "\n",
              "  <script>\n",
              "    async function quickchart(key) {\n",
              "      const quickchartButtonEl =\n",
              "        document.querySelector('#' + key + ' button');\n",
              "      quickchartButtonEl.disabled = true;  // To prevent multiple clicks.\n",
              "      quickchartButtonEl.classList.add('colab-df-spinner');\n",
              "      try {\n",
              "        const charts = await google.colab.kernel.invokeFunction(\n",
              "            'suggestCharts', [key], {});\n",
              "      } catch (error) {\n",
              "        console.error('Error during call to suggestCharts:', error);\n",
              "      }\n",
              "      quickchartButtonEl.classList.remove('colab-df-spinner');\n",
              "      quickchartButtonEl.classList.add('colab-df-quickchart-complete');\n",
              "    }\n",
              "    (() => {\n",
              "      let quickchartButtonEl =\n",
              "        document.querySelector('#df-86950a8e-6fdf-40c2-a521-a54dad9607ee button');\n",
              "      quickchartButtonEl.style.display =\n",
              "        google.colab.kernel.accessAllowed ? 'block' : 'none';\n",
              "    })();\n",
              "  </script>\n",
              "</div>\n",
              "\n",
              "    </div>\n",
              "  </div>\n"
            ],
            "application/vnd.google.colaboratory.intrinsic+json": {
              "type": "dataframe",
              "summary": "{\n  \"name\": \"display(all_kindle_review[['reviewText', 'preprocessed_review', 'cleaned_review']]\",\n  \"rows\": 5,\n  \"fields\": [\n    {\n      \"column\": \"reviewText\",\n      \"properties\": {\n        \"dtype\": \"string\",\n        \"num_unique_values\": 5,\n        \"samples\": [\n          \"Great short read.  I didn't want to put it down so I read it all in one sitting.  The sex scenes were great between the two males and one female character...a bit surprising - I never thought you could do that!  I learned something new and really enjoyed reading this book!  This is a great way to get all hot and bothered and take advantage of your significant other(s)!\",\n          \"I did not expect this type of book to be in library was pleased to find it price was right\",\n          \"I'll start by saying this is the first of four books so I wasn't expecting it to &#34;conclude&#34;. It centers on 3 children, Alex and his younger brother Argus, and Alex's friend, Sapphire. They find a name on a bus map that they can't find and so the mystery starts. Well written with good character development although lots of room still for more.It's quite a short book so I will be moving onto book 2 swiftly.\"\n        ],\n        \"semantic_type\": \"\",\n        \"description\": \"\"\n      }\n    },\n    {\n      \"column\": \"preprocessed_review\",\n      \"properties\": {\n        \"dtype\": \"string\",\n        \"num_unique_values\": 5,\n        \"samples\": [\n          \"Great short read I want put I read one sitting The sex scene great two male one female character bit surprising I never thought could I learned something new really enjoyed reading book This great way get hot bothered take advantage significant\",\n          \"I expect type book library pleased find price right\",\n          \"I start saying first four book I expecting conclude It center child Alex younger brother Argus Alex friend Sapphire They find name bus map ca find mystery start Well written good character development although lot room still quite short book I moving onto book swiftly\"\n        ],\n        \"semantic_type\": \"\",\n        \"description\": \"\"\n      }\n    },\n    {\n      \"column\": \"cleaned_review\",\n      \"properties\": {\n        \"dtype\": \"string\",\n        \"num_unique_values\": 5,\n        \"samples\": [\n          \"great short read didnt want put read one sitting sex scene great two male one female charactera bit surprising never thought could learned something new really enjoyed reading book great way get hot bothered take advantage significant others\",\n          \"expect type book library pleased find price right\",\n          \"ill start saying first four book wasnt expecting conclude center child alex younger brother argus alexs friend sapphire find name bus map cant find mystery start well written good character development although lot room still moreits quite short book moving onto book swiftly\"\n        ],\n        \"semantic_type\": \"\",\n        \"description\": \"\"\n      }\n    }\n  ]\n}"
            }
          },
          "metadata": {}
        }
      ]
    },
    {
      "cell_type": "markdown",
      "source": [
        "### Display final cleaned data"
      ],
      "metadata": {
        "id": "aZdgExYUK2cH"
      }
    },
    {
      "cell_type": "code",
      "source": [
        "print(\"Final cleaned data after basic and enhanced text cleaning:\")\n",
        "display(all_kindle_review[['reviewText', 'cleaned_review', 'preprocessed_review']].head())"
      ],
      "metadata": {
        "id": "7DFj6Dp2ZOpW",
        "colab": {
          "base_uri": "https://localhost:8080/",
          "height": 224
        },
        "outputId": "d8e11e64-8a89-4c3a-9558-7e475edc95c7"
      },
      "execution_count": null,
      "outputs": [
        {
          "output_type": "stream",
          "name": "stdout",
          "text": [
            "Final cleaned data after basic and enhanced text cleaning:\n"
          ]
        },
        {
          "output_type": "display_data",
          "data": {
            "text/plain": [
              "                                          reviewText  \\\n",
              "0  Jace Rankin may be short, but he's nothing to ...   \n",
              "1  Great short read.  I didn't want to put it dow...   \n",
              "2  I'll start by saying this is the first of four...   \n",
              "3  Aggie is Angela Lansbury who carries pocketboo...   \n",
              "4  I did not expect this type of book to be in li...   \n",
              "\n",
              "                                      cleaned_review  \\\n",
              "0  jace rankin may short he nothing mess man haul...   \n",
              "1  great short read didnt want put read one sitti...   \n",
              "2  ill start saying first four book wasnt expecti...   \n",
              "3  aggie angela lansbury carry pocketbook instead...   \n",
              "4  expect type book library pleased find price right   \n",
              "\n",
              "                                 preprocessed_review  \n",
              "0  Jace Rankin may short nothing mess man hauled ...  \n",
              "1  Great short read I want put I read one sitting...  \n",
              "2  I start saying first four book I expecting con...  \n",
              "3  Aggie Angela Lansbury carry pocketbook instead...  \n",
              "4  I expect type book library pleased find price ...  "
            ],
            "text/html": [
              "\n",
              "  <div id=\"df-91e877d2-d842-404f-985d-bac26038f575\" class=\"colab-df-container\">\n",
              "    <div>\n",
              "<style scoped>\n",
              "    .dataframe tbody tr th:only-of-type {\n",
              "        vertical-align: middle;\n",
              "    }\n",
              "\n",
              "    .dataframe tbody tr th {\n",
              "        vertical-align: top;\n",
              "    }\n",
              "\n",
              "    .dataframe thead th {\n",
              "        text-align: right;\n",
              "    }\n",
              "</style>\n",
              "<table border=\"1\" class=\"dataframe\">\n",
              "  <thead>\n",
              "    <tr style=\"text-align: right;\">\n",
              "      <th></th>\n",
              "      <th>reviewText</th>\n",
              "      <th>cleaned_review</th>\n",
              "      <th>preprocessed_review</th>\n",
              "    </tr>\n",
              "  </thead>\n",
              "  <tbody>\n",
              "    <tr>\n",
              "      <th>0</th>\n",
              "      <td>Jace Rankin may be short, but he's nothing to ...</td>\n",
              "      <td>jace rankin may short he nothing mess man haul...</td>\n",
              "      <td>Jace Rankin may short nothing mess man hauled ...</td>\n",
              "    </tr>\n",
              "    <tr>\n",
              "      <th>1</th>\n",
              "      <td>Great short read.  I didn't want to put it dow...</td>\n",
              "      <td>great short read didnt want put read one sitti...</td>\n",
              "      <td>Great short read I want put I read one sitting...</td>\n",
              "    </tr>\n",
              "    <tr>\n",
              "      <th>2</th>\n",
              "      <td>I'll start by saying this is the first of four...</td>\n",
              "      <td>ill start saying first four book wasnt expecti...</td>\n",
              "      <td>I start saying first four book I expecting con...</td>\n",
              "    </tr>\n",
              "    <tr>\n",
              "      <th>3</th>\n",
              "      <td>Aggie is Angela Lansbury who carries pocketboo...</td>\n",
              "      <td>aggie angela lansbury carry pocketbook instead...</td>\n",
              "      <td>Aggie Angela Lansbury carry pocketbook instead...</td>\n",
              "    </tr>\n",
              "    <tr>\n",
              "      <th>4</th>\n",
              "      <td>I did not expect this type of book to be in li...</td>\n",
              "      <td>expect type book library pleased find price right</td>\n",
              "      <td>I expect type book library pleased find price ...</td>\n",
              "    </tr>\n",
              "  </tbody>\n",
              "</table>\n",
              "</div>\n",
              "    <div class=\"colab-df-buttons\">\n",
              "\n",
              "  <div class=\"colab-df-container\">\n",
              "    <button class=\"colab-df-convert\" onclick=\"convertToInteractive('df-91e877d2-d842-404f-985d-bac26038f575')\"\n",
              "            title=\"Convert this dataframe to an interactive table.\"\n",
              "            style=\"display:none;\">\n",
              "\n",
              "  <svg xmlns=\"http://www.w3.org/2000/svg\" height=\"24px\" viewBox=\"0 -960 960 960\">\n",
              "    <path d=\"M120-120v-720h720v720H120Zm60-500h600v-160H180v160Zm220 220h160v-160H400v160Zm0 220h160v-160H400v160ZM180-400h160v-160H180v160Zm440 0h160v-160H620v160ZM180-180h160v-160H180v160Zm440 0h160v-160H620v160Z\"/>\n",
              "  </svg>\n",
              "    </button>\n",
              "\n",
              "  <style>\n",
              "    .colab-df-container {\n",
              "      display:flex;\n",
              "      gap: 12px;\n",
              "    }\n",
              "\n",
              "    .colab-df-convert {\n",
              "      background-color: #E8F0FE;\n",
              "      border: none;\n",
              "      border-radius: 50%;\n",
              "      cursor: pointer;\n",
              "      display: none;\n",
              "      fill: #1967D2;\n",
              "      height: 32px;\n",
              "      padding: 0 0 0 0;\n",
              "      width: 32px;\n",
              "    }\n",
              "\n",
              "    .colab-df-convert:hover {\n",
              "      background-color: #E2EBFA;\n",
              "      box-shadow: 0px 1px 2px rgba(60, 64, 67, 0.3), 0px 1px 3px 1px rgba(60, 64, 67, 0.15);\n",
              "      fill: #174EA6;\n",
              "    }\n",
              "\n",
              "    .colab-df-buttons div {\n",
              "      margin-bottom: 4px;\n",
              "    }\n",
              "\n",
              "    [theme=dark] .colab-df-convert {\n",
              "      background-color: #3B4455;\n",
              "      fill: #D2E3FC;\n",
              "    }\n",
              "\n",
              "    [theme=dark] .colab-df-convert:hover {\n",
              "      background-color: #434B5C;\n",
              "      box-shadow: 0px 1px 3px 1px rgba(0, 0, 0, 0.15);\n",
              "      filter: drop-shadow(0px 1px 2px rgba(0, 0, 0, 0.3));\n",
              "      fill: #FFFFFF;\n",
              "    }\n",
              "  </style>\n",
              "\n",
              "    <script>\n",
              "      const buttonEl =\n",
              "        document.querySelector('#df-91e877d2-d842-404f-985d-bac26038f575 button.colab-df-convert');\n",
              "      buttonEl.style.display =\n",
              "        google.colab.kernel.accessAllowed ? 'block' : 'none';\n",
              "\n",
              "      async function convertToInteractive(key) {\n",
              "        const element = document.querySelector('#df-91e877d2-d842-404f-985d-bac26038f575');\n",
              "        const dataTable =\n",
              "          await google.colab.kernel.invokeFunction('convertToInteractive',\n",
              "                                                    [key], {});\n",
              "        if (!dataTable) return;\n",
              "\n",
              "        const docLinkHtml = 'Like what you see? Visit the ' +\n",
              "          '<a target=\"_blank\" href=https://colab.research.google.com/notebooks/data_table.ipynb>data table notebook</a>'\n",
              "          + ' to learn more about interactive tables.';\n",
              "        element.innerHTML = '';\n",
              "        dataTable['output_type'] = 'display_data';\n",
              "        await google.colab.output.renderOutput(dataTable, element);\n",
              "        const docLink = document.createElement('div');\n",
              "        docLink.innerHTML = docLinkHtml;\n",
              "        element.appendChild(docLink);\n",
              "      }\n",
              "    </script>\n",
              "  </div>\n",
              "\n",
              "\n",
              "<div id=\"df-b1efc868-6d0d-4dd5-8a4b-310779ace0e6\">\n",
              "  <button class=\"colab-df-quickchart\" onclick=\"quickchart('df-b1efc868-6d0d-4dd5-8a4b-310779ace0e6')\"\n",
              "            title=\"Suggest charts\"\n",
              "            style=\"display:none;\">\n",
              "\n",
              "<svg xmlns=\"http://www.w3.org/2000/svg\" height=\"24px\"viewBox=\"0 0 24 24\"\n",
              "     width=\"24px\">\n",
              "    <g>\n",
              "        <path d=\"M19 3H5c-1.1 0-2 .9-2 2v14c0 1.1.9 2 2 2h14c1.1 0 2-.9 2-2V5c0-1.1-.9-2-2-2zM9 17H7v-7h2v7zm4 0h-2V7h2v10zm4 0h-2v-4h2v4z\"/>\n",
              "    </g>\n",
              "</svg>\n",
              "  </button>\n",
              "\n",
              "<style>\n",
              "  .colab-df-quickchart {\n",
              "      --bg-color: #E8F0FE;\n",
              "      --fill-color: #1967D2;\n",
              "      --hover-bg-color: #E2EBFA;\n",
              "      --hover-fill-color: #174EA6;\n",
              "      --disabled-fill-color: #AAA;\n",
              "      --disabled-bg-color: #DDD;\n",
              "  }\n",
              "\n",
              "  [theme=dark] .colab-df-quickchart {\n",
              "      --bg-color: #3B4455;\n",
              "      --fill-color: #D2E3FC;\n",
              "      --hover-bg-color: #434B5C;\n",
              "      --hover-fill-color: #FFFFFF;\n",
              "      --disabled-bg-color: #3B4455;\n",
              "      --disabled-fill-color: #666;\n",
              "  }\n",
              "\n",
              "  .colab-df-quickchart {\n",
              "    background-color: var(--bg-color);\n",
              "    border: none;\n",
              "    border-radius: 50%;\n",
              "    cursor: pointer;\n",
              "    display: none;\n",
              "    fill: var(--fill-color);\n",
              "    height: 32px;\n",
              "    padding: 0;\n",
              "    width: 32px;\n",
              "  }\n",
              "\n",
              "  .colab-df-quickchart:hover {\n",
              "    background-color: var(--hover-bg-color);\n",
              "    box-shadow: 0 1px 2px rgba(60, 64, 67, 0.3), 0 1px 3px 1px rgba(60, 64, 67, 0.15);\n",
              "    fill: var(--button-hover-fill-color);\n",
              "  }\n",
              "\n",
              "  .colab-df-quickchart-complete:disabled,\n",
              "  .colab-df-quickchart-complete:disabled:hover {\n",
              "    background-color: var(--disabled-bg-color);\n",
              "    fill: var(--disabled-fill-color);\n",
              "    box-shadow: none;\n",
              "  }\n",
              "\n",
              "  .colab-df-spinner {\n",
              "    border: 2px solid var(--fill-color);\n",
              "    border-color: transparent;\n",
              "    border-bottom-color: var(--fill-color);\n",
              "    animation:\n",
              "      spin 1s steps(1) infinite;\n",
              "  }\n",
              "\n",
              "  @keyframes spin {\n",
              "    0% {\n",
              "      border-color: transparent;\n",
              "      border-bottom-color: var(--fill-color);\n",
              "      border-left-color: var(--fill-color);\n",
              "    }\n",
              "    20% {\n",
              "      border-color: transparent;\n",
              "      border-left-color: var(--fill-color);\n",
              "      border-top-color: var(--fill-color);\n",
              "    }\n",
              "    30% {\n",
              "      border-color: transparent;\n",
              "      border-left-color: var(--fill-color);\n",
              "      border-top-color: var(--fill-color);\n",
              "      border-right-color: var(--fill-color);\n",
              "    }\n",
              "    40% {\n",
              "      border-color: transparent;\n",
              "      border-right-color: var(--fill-color);\n",
              "      border-top-color: var(--fill-color);\n",
              "    }\n",
              "    60% {\n",
              "      border-color: transparent;\n",
              "      border-right-color: var(--fill-color);\n",
              "    }\n",
              "    80% {\n",
              "      border-color: transparent;\n",
              "      border-right-color: var(--fill-color);\n",
              "      border-bottom-color: var(--fill-color);\n",
              "    }\n",
              "    90% {\n",
              "      border-color: transparent;\n",
              "      border-bottom-color: var(--fill-color);\n",
              "    }\n",
              "  }\n",
              "</style>\n",
              "\n",
              "  <script>\n",
              "    async function quickchart(key) {\n",
              "      const quickchartButtonEl =\n",
              "        document.querySelector('#' + key + ' button');\n",
              "      quickchartButtonEl.disabled = true;  // To prevent multiple clicks.\n",
              "      quickchartButtonEl.classList.add('colab-df-spinner');\n",
              "      try {\n",
              "        const charts = await google.colab.kernel.invokeFunction(\n",
              "            'suggestCharts', [key], {});\n",
              "      } catch (error) {\n",
              "        console.error('Error during call to suggestCharts:', error);\n",
              "      }\n",
              "      quickchartButtonEl.classList.remove('colab-df-spinner');\n",
              "      quickchartButtonEl.classList.add('colab-df-quickchart-complete');\n",
              "    }\n",
              "    (() => {\n",
              "      let quickchartButtonEl =\n",
              "        document.querySelector('#df-b1efc868-6d0d-4dd5-8a4b-310779ace0e6 button');\n",
              "      quickchartButtonEl.style.display =\n",
              "        google.colab.kernel.accessAllowed ? 'block' : 'none';\n",
              "    })();\n",
              "  </script>\n",
              "</div>\n",
              "\n",
              "    </div>\n",
              "  </div>\n"
            ],
            "application/vnd.google.colaboratory.intrinsic+json": {
              "type": "dataframe",
              "summary": "{\n  \"name\": \"display(all_kindle_review[['reviewText', 'cleaned_review', 'preprocessed_review']]\",\n  \"rows\": 5,\n  \"fields\": [\n    {\n      \"column\": \"reviewText\",\n      \"properties\": {\n        \"dtype\": \"string\",\n        \"num_unique_values\": 5,\n        \"samples\": [\n          \"Great short read.  I didn't want to put it down so I read it all in one sitting.  The sex scenes were great between the two males and one female character...a bit surprising - I never thought you could do that!  I learned something new and really enjoyed reading this book!  This is a great way to get all hot and bothered and take advantage of your significant other(s)!\",\n          \"I did not expect this type of book to be in library was pleased to find it price was right\",\n          \"I'll start by saying this is the first of four books so I wasn't expecting it to &#34;conclude&#34;. It centers on 3 children, Alex and his younger brother Argus, and Alex's friend, Sapphire. They find a name on a bus map that they can't find and so the mystery starts. Well written with good character development although lots of room still for more.It's quite a short book so I will be moving onto book 2 swiftly.\"\n        ],\n        \"semantic_type\": \"\",\n        \"description\": \"\"\n      }\n    },\n    {\n      \"column\": \"cleaned_review\",\n      \"properties\": {\n        \"dtype\": \"string\",\n        \"num_unique_values\": 5,\n        \"samples\": [\n          \"great short read didnt want put read one sitting sex scene great two male one female charactera bit surprising never thought could learned something new really enjoyed reading book great way get hot bothered take advantage significant others\",\n          \"expect type book library pleased find price right\",\n          \"ill start saying first four book wasnt expecting conclude center child alex younger brother argus alexs friend sapphire find name bus map cant find mystery start well written good character development although lot room still moreits quite short book moving onto book swiftly\"\n        ],\n        \"semantic_type\": \"\",\n        \"description\": \"\"\n      }\n    },\n    {\n      \"column\": \"preprocessed_review\",\n      \"properties\": {\n        \"dtype\": \"string\",\n        \"num_unique_values\": 5,\n        \"samples\": [\n          \"Great short read I want put I read one sitting The sex scene great two male one female character bit surprising I never thought could I learned something new really enjoyed reading book This great way get hot bothered take advantage significant\",\n          \"I expect type book library pleased find price right\",\n          \"I start saying first four book I expecting conclude It center child Alex younger brother Argus Alex friend Sapphire They find name bus map ca find mystery start Well written good character development although lot room still quite short book I moving onto book swiftly\"\n        ],\n        \"semantic_type\": \"\",\n        \"description\": \"\"\n      }\n    }\n  ]\n}"
            }
          },
          "metadata": {}
        }
      ]
    },
    {
      "cell_type": "markdown",
      "source": [
        "### Provide the justification of chosen methods along with citation.\n"
      ],
      "metadata": {
        "id": "n7yer2dSlH6h"
      }
    },
    {
      "cell_type": "markdown",
      "source": [
        "I cleaned and processed the Amazon Kindle Store product reviews to get better data quality for sentiment analysis. First thing I did was check for duplicates and removed them to make sure the data wasn't biased. I then filled in missing values to avoid issues when building the model (Ahmed, 2025a). After that, I did basic cleaning to remove unwanted HTML tags, URLs, and non-ASCII characters. I also applied advanced text processing to make the text uniform, including converting to lowercase, removing punctuation, tokenizing, eliminating stopwords, and lemmatizing words (Ahmed, 2025b). This combination of cleaning methods helps reduce noise and makes the text more consistent, which improves model accuracy."
      ],
      "metadata": {
        "id": "Idzf8TWwlMSt"
      }
    },
    {
      "cell_type": "markdown",
      "source": [
        "## Part 3: Classification of Ratings on Amazon Kindle Store Reviews\n",
        "\n",
        "\n",
        "\n"
      ],
      "metadata": {
        "id": "o6Q5Og4tLDSm"
      }
    },
    {
      "cell_type": "markdown",
      "source": [
        "#### Display basic information about the dataset"
      ],
      "metadata": {
        "id": "g3UBZ47qLX92"
      }
    },
    {
      "cell_type": "code",
      "source": [
        "print(\"Dataset information after cleaning:\")\n",
        "print(all_kindle_review.info())"
      ],
      "metadata": {
        "id": "i0OcQSW_LX93",
        "colab": {
          "base_uri": "https://localhost:8080/"
        },
        "outputId": "408dae98-bf20-42b2-d64c-ae2bf6adfa25"
      },
      "execution_count": null,
      "outputs": [
        {
          "output_type": "stream",
          "name": "stdout",
          "text": [
            "Dataset information after cleaning:\n",
            "<class 'pandas.core.frame.DataFrame'>\n",
            "RangeIndex: 12000 entries, 0 to 11999\n",
            "Data columns (total 13 columns):\n",
            " #   Column               Non-Null Count  Dtype \n",
            "---  ------               --------------  ----- \n",
            " 0   Unnamed: 0.1         12000 non-null  int64 \n",
            " 1   Unnamed: 0           12000 non-null  int64 \n",
            " 2   asin                 12000 non-null  object\n",
            " 3   helpful              12000 non-null  object\n",
            " 4   rating               12000 non-null  int64 \n",
            " 5   reviewText           12000 non-null  object\n",
            " 6   reviewTime           12000 non-null  object\n",
            " 7   reviewerID           12000 non-null  object\n",
            " 8   reviewerName         11962 non-null  object\n",
            " 9   summary              11998 non-null  object\n",
            " 10  unixReviewTime       12000 non-null  int64 \n",
            " 11  cleaned_review       12000 non-null  object\n",
            " 12  preprocessed_review  12000 non-null  object\n",
            "dtypes: int64(4), object(9)\n",
            "memory usage: 1.2+ MB\n",
            "None\n"
          ]
        }
      ]
    },
    {
      "cell_type": "markdown",
      "source": [
        "#### Why display the  basic information?\n",
        "I do this to understand the structure, data types, and completeness of the dataset"
      ],
      "metadata": {
        "id": "UJP2aFoNOcAs"
      }
    },
    {
      "cell_type": "markdown",
      "source": [
        "### Classification Model - Simple Neural Network"
      ],
      "metadata": {
        "id": "x4ILYb_3KUz6"
      }
    },
    {
      "cell_type": "markdown",
      "source": [
        "#### import libraries"
      ],
      "metadata": {
        "id": "fSMOYuQoKnOy"
      }
    },
    {
      "cell_type": "code",
      "source": [
        "from sklearn.feature_extraction.text import TfidfVectorizer"
      ],
      "metadata": {
        "id": "6UknkHc7KoCB"
      },
      "execution_count": null,
      "outputs": []
    },
    {
      "cell_type": "markdown",
      "source": [
        "**Why import TfidfVectorizer?**\n",
        "\n",
        "TfidfVectorizer transforms text data into numerical vectors by calculating the term frequency-inverse document frequency (TF-IDF) of words. This technique highlights important words while reducing the impact of common words, which improves model accuracy and interpretation."
      ],
      "metadata": {
        "id": "5QCxstFCul5Y"
      }
    },
    {
      "cell_type": "markdown",
      "source": [
        "#### Prepare the Kindle Data"
      ],
      "metadata": {
        "id": "rFOb6zp_OTdj"
      }
    },
    {
      "cell_type": "code",
      "source": [
        "X_text_kindle = all_kindle_review['cleaned_review']\n",
        "y_kindle = all_kindle_review['rating']"
      ],
      "metadata": {
        "id": "SC3gPU3_OTue"
      },
      "execution_count": null,
      "outputs": []
    },
    {
      "cell_type": "markdown",
      "source": [
        "**Why prepare the Kindle data?**\n",
        "\n",
        "Preparing the Kindle data ensures that the features (X) and labels (y) are properly structured for model training and evaluation. This step ensures consistency in data input."
      ],
      "metadata": {
        "id": "TgaMhxcPyHPM"
      }
    },
    {
      "cell_type": "markdown",
      "source": [
        "#### Split the data into training and testing sets"
      ],
      "metadata": {
        "id": "TR0a4VLpKxEY"
      }
    },
    {
      "cell_type": "code",
      "source": [
        "X_text_train_kindle, X_text_test_kindle, y_train_kindle, y_test_kindle = train_test_split(\n",
        "    X_text_kindle,\n",
        "    y_kindle,\n",
        "    test_size=0.2,\n",
        "    random_state=42\n",
        ")"
      ],
      "metadata": {
        "id": "FvtTaJJIKzkV"
      },
      "execution_count": null,
      "outputs": []
    },
    {
      "cell_type": "markdown",
      "source": [
        "**Why split the data into training and testing sets?**\n",
        "\n",
        "Splitting the data helps evaluate model performance by training on one subset and testing on another. This approach helps detect overfitting and ensures the model generalizes well to new data (Ahmed, 2025c)."
      ],
      "metadata": {
        "id": "vHxZcmOqyKVv"
      }
    },
    {
      "cell_type": "markdown",
      "source": [
        "#### Vectorize the cleaned text"
      ],
      "metadata": {
        "id": "gIJmLaBzKeXO"
      }
    },
    {
      "cell_type": "code",
      "source": [
        "vectorizer_kindle = TfidfVectorizer(max_features=5000)\n",
        "X_train_kindle = vectorizer_kindle.fit_transform(X_text_train_kindle).toarray()\n",
        "X_test_kindle = vectorizer_kindle.transform(X_text_test_kindle).toarray()"
      ],
      "metadata": {
        "id": "UANP51TvKgcV"
      },
      "execution_count": null,
      "outputs": []
    },
    {
      "cell_type": "markdown",
      "source": [
        "**Why vectorize the cleaned text?**\n",
        "\n",
        "Vectorizing the cleaned text transforms it into numerical data that the model can process. TF-IDF helps in weighing words based on their importance, which improves classification accuracy (Ahmed, 2025b)."
      ],
      "metadata": {
        "id": "fWiiL-FGyD6K"
      }
    },
    {
      "cell_type": "markdown",
      "source": [
        "#### Save and download the data"
      ],
      "metadata": {
        "id": "kFzSDYlslevM"
      }
    },
    {
      "cell_type": "code",
      "source": [
        "all_kindle_review.to_csv(\"cleaned_kindle_review.csv\", index=False)"
      ],
      "metadata": {
        "id": "9IvH04aXlj8O"
      },
      "execution_count": null,
      "outputs": []
    },
    {
      "cell_type": "code",
      "source": [
        "files.download(\"cleaned_kindle_review.csv\")"
      ],
      "metadata": {
        "id": "GUbgfiPKllbL",
        "colab": {
          "base_uri": "https://localhost:8080/",
          "height": 17
        },
        "outputId": "84516d3c-80e1-444c-f85c-d238a2bbb1a5"
      },
      "execution_count": null,
      "outputs": [
        {
          "output_type": "display_data",
          "data": {
            "text/plain": [
              "<IPython.core.display.Javascript object>"
            ],
            "application/javascript": [
              "\n",
              "    async function download(id, filename, size) {\n",
              "      if (!google.colab.kernel.accessAllowed) {\n",
              "        return;\n",
              "      }\n",
              "      const div = document.createElement('div');\n",
              "      const label = document.createElement('label');\n",
              "      label.textContent = `Downloading \"${filename}\": `;\n",
              "      div.appendChild(label);\n",
              "      const progress = document.createElement('progress');\n",
              "      progress.max = size;\n",
              "      div.appendChild(progress);\n",
              "      document.body.appendChild(div);\n",
              "\n",
              "      const buffers = [];\n",
              "      let downloaded = 0;\n",
              "\n",
              "      const channel = await google.colab.kernel.comms.open(id);\n",
              "      // Send a message to notify the kernel that we're ready.\n",
              "      channel.send({})\n",
              "\n",
              "      for await (const message of channel.messages) {\n",
              "        // Send a message to notify the kernel that we're ready.\n",
              "        channel.send({})\n",
              "        if (message.buffers) {\n",
              "          for (const buffer of message.buffers) {\n",
              "            buffers.push(buffer);\n",
              "            downloaded += buffer.byteLength;\n",
              "            progress.value = downloaded;\n",
              "          }\n",
              "        }\n",
              "      }\n",
              "      const blob = new Blob(buffers, {type: 'application/binary'});\n",
              "      const a = document.createElement('a');\n",
              "      a.href = window.URL.createObjectURL(blob);\n",
              "      a.download = filename;\n",
              "      div.appendChild(a);\n",
              "      a.click();\n",
              "      div.remove();\n",
              "    }\n",
              "  "
            ]
          },
          "metadata": {}
        },
        {
          "output_type": "display_data",
          "data": {
            "text/plain": [
              "<IPython.core.display.Javascript object>"
            ],
            "application/javascript": [
              "download(\"download_71fe040d-6421-4f2d-9156-f948b5a4119e\", \"cleaned_kindle_review.csv\", 17392871)"
            ]
          },
          "metadata": {}
        }
      ]
    },
    {
      "cell_type": "markdown",
      "source": [
        "**Why download and save here?**\n",
        "\n",
        "Because if I save and download after conversion of one-hot encoded labels to integer format is done for preparing the data for model training. So saving the cleaned data before this step makes sure that I am downloading the **raw, cleaned dataset** anf not the version that is tailored for the neural network model."
      ],
      "metadata": {
        "id": "UR95rXU7lnXG"
      }
    },
    {
      "cell_type": "markdown",
      "source": [
        "#### Build the neural network model"
      ],
      "metadata": {
        "id": "vxmpVj5CK2bE"
      }
    },
    {
      "cell_type": "code",
      "source": [
        "def create_kindle_model(optimizer='adam', dropout_rate=0.3):\n",
        "    model = Sequential()\n",
        "    model.add(Dense(128, activation='relu', input_shape=(5000,)))\n",
        "    model.add(Dropout(dropout_rate))\n",
        "    model.add(Dense(64, activation='relu'))\n",
        "    model.add(Dropout(dropout_rate))\n",
        "    model.add(Dense(6, activation='softmax'))  # Assuming ratings are 0–5\n",
        "    model.compile(optimizer=optimizer, loss='sparse_categorical_crossentropy', metrics=['accuracy'])\n",
        "    return model"
      ],
      "metadata": {
        "id": "hmTZ0Fe_K4Wy"
      },
      "execution_count": null,
      "outputs": []
    },
    {
      "cell_type": "markdown",
      "source": [
        "**Why build a neural network model?**\n",
        "\n",
        "Building a neural network model allows for effective multi-class classification, leveraging hidden layers and activation functions to capture complex patterns in the data. Including dropout regularizes the model and prevents overfitting (Ahmed, 2025d)."
      ],
      "metadata": {
        "id": "UD0HYKw7yxAY"
      }
    },
    {
      "cell_type": "markdown",
      "source": [
        "#### Wrap the model for cross-validation using KerasClssifier"
      ],
      "metadata": {
        "id": "iYiGYZWsK6wO"
      }
    },
    {
      "cell_type": "code",
      "source": [
        "kindle_model = KerasClassifier(model=create_kindle_model, epochs=10, batch_size=32, verbose=1)"
      ],
      "metadata": {
        "id": "t6OCUjLwK9D5"
      },
      "execution_count": null,
      "outputs": []
    },
    {
      "cell_type": "markdown",
      "source": [
        "**Why wrap the model for cross-validation using KerasClssifier?**\n",
        "\n",
        "I used `KerasClassifier` because it makes it easier to connect my neural network with scikit-learn tools like `GridSearchCV` and cross-validation. This helped me test different settings and check how well the model performs without writing a lot of extra code. Ahmed (2025a) talks about how accuracy, precision, and recall are important for checking if a classification model is working well, and Ahmed (2025d) explains that using structured tools like this makes training more reliable.\n"
      ],
      "metadata": {
        "id": "nqqxJGPPzZBx"
      }
    },
    {
      "cell_type": "markdown",
      "source": [
        "#### Train the model"
      ],
      "metadata": {
        "id": "sUWSJid9NYIp"
      }
    },
    {
      "cell_type": "code",
      "source": [
        "kindle_model.fit(X_train_kindle, y_train_kindle, validation_data=(X_test_kindle, y_test_kindle))"
      ],
      "metadata": {
        "id": "F50ktGmUNbFX",
        "collapsed": true,
        "colab": {
          "base_uri": "https://localhost:8080/",
          "height": 599
        },
        "outputId": "6bc02293-03b7-42a9-ae6b-0c3c928dc0a6"
      },
      "execution_count": null,
      "outputs": [
        {
          "output_type": "stream",
          "name": "stdout",
          "text": [
            "Epoch 1/10\n",
            "300/300 [==============================] - 5s 15ms/step - loss: 1.4077 - accuracy: 0.3724 - val_loss: 2.9151 - val_accuracy: 0.2258\n",
            "Epoch 2/10\n",
            "300/300 [==============================] - 4s 14ms/step - loss: 1.0124 - accuracy: 0.5781 - val_loss: 3.3711 - val_accuracy: 0.1825\n",
            "Epoch 3/10\n",
            "300/300 [==============================] - 5s 17ms/step - loss: 0.8000 - accuracy: 0.6859 - val_loss: 3.8233 - val_accuracy: 0.1904\n",
            "Epoch 4/10\n",
            "300/300 [==============================] - 4s 13ms/step - loss: 0.6179 - accuracy: 0.7722 - val_loss: 4.4090 - val_accuracy: 0.1904\n",
            "Epoch 5/10\n",
            "300/300 [==============================] - 4s 12ms/step - loss: 0.4480 - accuracy: 0.8448 - val_loss: 5.1344 - val_accuracy: 0.1942\n",
            "Epoch 6/10\n",
            "300/300 [==============================] - 5s 17ms/step - loss: 0.3253 - accuracy: 0.8914 - val_loss: 5.6347 - val_accuracy: 0.1904\n",
            "Epoch 7/10\n",
            "300/300 [==============================] - 4s 14ms/step - loss: 0.2235 - accuracy: 0.9328 - val_loss: 6.3898 - val_accuracy: 0.1946\n",
            "Epoch 8/10\n",
            "300/300 [==============================] - 5s 15ms/step - loss: 0.1478 - accuracy: 0.9572 - val_loss: 7.0779 - val_accuracy: 0.1979\n",
            "Epoch 9/10\n",
            "300/300 [==============================] - 5s 17ms/step - loss: 0.1008 - accuracy: 0.9734 - val_loss: 7.5570 - val_accuracy: 0.1954\n",
            "Epoch 10/10\n",
            "300/300 [==============================] - 4s 14ms/step - loss: 0.0834 - accuracy: 0.9778 - val_loss: 7.8498 - val_accuracy: 0.1892\n"
          ]
        },
        {
          "output_type": "execute_result",
          "data": {
            "text/plain": [
              "KerasClassifier(\n",
              "\tmodel=<function create_kindle_model at 0x7abd87e1d800>\n",
              "\tbuild_fn=None\n",
              "\twarm_start=False\n",
              "\trandom_state=None\n",
              "\toptimizer=rmsprop\n",
              "\tloss=None\n",
              "\tmetrics=None\n",
              "\tbatch_size=32\n",
              "\tvalidation_batch_size=None\n",
              "\tverbose=1\n",
              "\tcallbacks=None\n",
              "\tvalidation_split=0.0\n",
              "\tshuffle=True\n",
              "\trun_eagerly=False\n",
              "\tepochs=10\n",
              "\tclass_weight=None\n",
              ")"
            ],
            "text/html": [
              "<style>#sk-container-id-1 {color: black;}#sk-container-id-1 pre{padding: 0;}#sk-container-id-1 div.sk-toggleable {background-color: white;}#sk-container-id-1 label.sk-toggleable__label {cursor: pointer;display: block;width: 100%;margin-bottom: 0;padding: 0.3em;box-sizing: border-box;text-align: center;}#sk-container-id-1 label.sk-toggleable__label-arrow:before {content: \"▸\";float: left;margin-right: 0.25em;color: #696969;}#sk-container-id-1 label.sk-toggleable__label-arrow:hover:before {color: black;}#sk-container-id-1 div.sk-estimator:hover label.sk-toggleable__label-arrow:before {color: black;}#sk-container-id-1 div.sk-toggleable__content {max-height: 0;max-width: 0;overflow: hidden;text-align: left;background-color: #f0f8ff;}#sk-container-id-1 div.sk-toggleable__content pre {margin: 0.2em;color: black;border-radius: 0.25em;background-color: #f0f8ff;}#sk-container-id-1 input.sk-toggleable__control:checked~div.sk-toggleable__content {max-height: 200px;max-width: 100%;overflow: auto;}#sk-container-id-1 input.sk-toggleable__control:checked~label.sk-toggleable__label-arrow:before {content: \"▾\";}#sk-container-id-1 div.sk-estimator input.sk-toggleable__control:checked~label.sk-toggleable__label {background-color: #d4ebff;}#sk-container-id-1 div.sk-label input.sk-toggleable__control:checked~label.sk-toggleable__label {background-color: #d4ebff;}#sk-container-id-1 input.sk-hidden--visually {border: 0;clip: rect(1px 1px 1px 1px);clip: rect(1px, 1px, 1px, 1px);height: 1px;margin: -1px;overflow: hidden;padding: 0;position: absolute;width: 1px;}#sk-container-id-1 div.sk-estimator {font-family: monospace;background-color: #f0f8ff;border: 1px dotted black;border-radius: 0.25em;box-sizing: border-box;margin-bottom: 0.5em;}#sk-container-id-1 div.sk-estimator:hover {background-color: #d4ebff;}#sk-container-id-1 div.sk-parallel-item::after {content: \"\";width: 100%;border-bottom: 1px solid gray;flex-grow: 1;}#sk-container-id-1 div.sk-label:hover label.sk-toggleable__label {background-color: #d4ebff;}#sk-container-id-1 div.sk-serial::before {content: \"\";position: absolute;border-left: 1px solid gray;box-sizing: border-box;top: 0;bottom: 0;left: 50%;z-index: 0;}#sk-container-id-1 div.sk-serial {display: flex;flex-direction: column;align-items: center;background-color: white;padding-right: 0.2em;padding-left: 0.2em;position: relative;}#sk-container-id-1 div.sk-item {position: relative;z-index: 1;}#sk-container-id-1 div.sk-parallel {display: flex;align-items: stretch;justify-content: center;background-color: white;position: relative;}#sk-container-id-1 div.sk-item::before, #sk-container-id-1 div.sk-parallel-item::before {content: \"\";position: absolute;border-left: 1px solid gray;box-sizing: border-box;top: 0;bottom: 0;left: 50%;z-index: -1;}#sk-container-id-1 div.sk-parallel-item {display: flex;flex-direction: column;z-index: 1;position: relative;background-color: white;}#sk-container-id-1 div.sk-parallel-item:first-child::after {align-self: flex-end;width: 50%;}#sk-container-id-1 div.sk-parallel-item:last-child::after {align-self: flex-start;width: 50%;}#sk-container-id-1 div.sk-parallel-item:only-child::after {width: 0;}#sk-container-id-1 div.sk-dashed-wrapped {border: 1px dashed gray;margin: 0 0.4em 0.5em 0.4em;box-sizing: border-box;padding-bottom: 0.4em;background-color: white;}#sk-container-id-1 div.sk-label label {font-family: monospace;font-weight: bold;display: inline-block;line-height: 1.2em;}#sk-container-id-1 div.sk-label-container {text-align: center;}#sk-container-id-1 div.sk-container {/* jupyter's `normalize.less` sets `[hidden] { display: none; }` but bootstrap.min.css set `[hidden] { display: none !important; }` so we also need the `!important` here to be able to override the default hidden behavior on the sphinx rendered scikit-learn.org. See: https://github.com/scikit-learn/scikit-learn/issues/21755 */display: inline-block !important;position: relative;}#sk-container-id-1 div.sk-text-repr-fallback {display: none;}</style><div id=\"sk-container-id-1\" class=\"sk-top-container\"><div class=\"sk-text-repr-fallback\"><pre>KerasClassifier(\n",
              "\tmodel=&lt;function create_kindle_model at 0x7abd87e1d800&gt;\n",
              "\tbuild_fn=None\n",
              "\twarm_start=False\n",
              "\trandom_state=None\n",
              "\toptimizer=rmsprop\n",
              "\tloss=None\n",
              "\tmetrics=None\n",
              "\tbatch_size=32\n",
              "\tvalidation_batch_size=None\n",
              "\tverbose=1\n",
              "\tcallbacks=None\n",
              "\tvalidation_split=0.0\n",
              "\tshuffle=True\n",
              "\trun_eagerly=False\n",
              "\tepochs=10\n",
              "\tclass_weight=None\n",
              ")</pre><b>In a Jupyter environment, please rerun this cell to show the HTML representation or trust the notebook. <br />On GitHub, the HTML representation is unable to render, please try loading this page with nbviewer.org.</b></div><div class=\"sk-container\" hidden><div class=\"sk-item\"><div class=\"sk-estimator sk-toggleable\"><input class=\"sk-toggleable__control sk-hidden--visually\" id=\"sk-estimator-id-1\" type=\"checkbox\" checked><label for=\"sk-estimator-id-1\" class=\"sk-toggleable__label sk-toggleable__label-arrow\">KerasClassifier</label><div class=\"sk-toggleable__content\"><pre>KerasClassifier(\n",
              "\tmodel=&lt;function create_kindle_model at 0x7abd87e1d800&gt;\n",
              "\tbuild_fn=None\n",
              "\twarm_start=False\n",
              "\trandom_state=None\n",
              "\toptimizer=rmsprop\n",
              "\tloss=None\n",
              "\tmetrics=None\n",
              "\tbatch_size=32\n",
              "\tvalidation_batch_size=None\n",
              "\tverbose=1\n",
              "\tcallbacks=None\n",
              "\tvalidation_split=0.0\n",
              "\tshuffle=True\n",
              "\trun_eagerly=False\n",
              "\tepochs=10\n",
              "\tclass_weight=None\n",
              ")</pre></div></div></div></div></div>"
            ]
          },
          "metadata": {},
          "execution_count": 59
        }
      ]
    },
    {
      "cell_type": "markdown",
      "source": [
        "**Results from training the model**:\n",
        "\n",
        "```python\n",
        "KerasClassifier(\n",
        "\tmodel=<function create_kindle_model at 0x7f9438b35800>\n",
        "\tbuild_fn=None\n",
        "\twarm_start=False\n",
        "\trandom_state=None\n",
        "\toptimizer=rmsprop\n",
        "\tloss=None\n",
        "\tmetrics=None\n",
        "\tbatch_size=32\n",
        "\tvalidation_batch_size=None\n",
        "\tverbose=1\n",
        "\tcallbacks=None\n",
        "\tvalidation_split=0.0\n",
        "\tshuffle=True\n",
        "\trun_eagerly=False\n",
        "\tepochs=10\n",
        "\tclass_weight=None\n",
        ")\n",
        "```"
      ],
      "metadata": {
        "id": "yT-ulLx-SNuI"
      }
    },
    {
      "cell_type": "markdown",
      "source": [
        "**Why train the model?**\n",
        "\n",
        "Training the model is importat because that is how it learns from the data.\n",
        "I used 10 rounds (called epochs) with the RMSprop optimizer and a batch size of 32 which just means that I trained the model by showing it the data 10 times, using a learning strategy called RMSprop, and then had it learn from 32 reviews at a time. So  when the training is finished, the model should correctly predict the rating about 44% of the time, which isn’t perfect but it does show that it can pick up on some useful patterns.\n",
        "\n",
        "It did better with some ratings like 4 and 5 stars, but not so much with middle ratings like 2 and 3. That shows the training helped it tell apart the clearer cases, but that I still need yo work on the trickier ones.\n",
        "\n",
        "Also, once the model was trained, I could try different settings using GridSearchCV. That helped me figure out which combination (like changing the dropout rate or optimizer) gave the best results. So, training wasn’t just about getting results—it also helped improve the model through testing and fine-tuning."
      ],
      "metadata": {
        "id": "BIn8wjbfzbPC"
      }
    },
    {
      "cell_type": "markdown",
      "source": [
        "#### Evaluate the model"
      ],
      "metadata": {
        "id": "Ll004W5eNdtV"
      }
    },
    {
      "cell_type": "code",
      "source": [
        "y_pred_kindle = kindle_model.predict(X_test_kindle)\n",
        "print(classification_report(y_test_kindle, y_pred_kindle))"
      ],
      "metadata": {
        "id": "bdInEQwmNfzv",
        "colab": {
          "base_uri": "https://localhost:8080/"
        },
        "outputId": "0e320b9d-37a0-43b6-af46-6071ee93d47e"
      },
      "execution_count": null,
      "outputs": [
        {
          "output_type": "stream",
          "name": "stdout",
          "text": [
            "75/75 [==============================] - 0s 4ms/step\n",
            "              precision    recall  f1-score   support\n",
            "\n",
            "           1       0.48      0.51      0.50       404\n",
            "           2       0.37      0.33      0.35       399\n",
            "           3       0.33      0.32      0.33       387\n",
            "           4       0.39      0.43      0.41       587\n",
            "           5       0.56      0.54      0.55       623\n",
            "\n",
            "    accuracy                           0.44      2400\n",
            "   macro avg       0.43      0.43      0.43      2400\n",
            "weighted avg       0.44      0.44      0.44      2400\n",
            "\n"
          ]
        }
      ]
    },
    {
      "cell_type": "markdown",
      "source": [
        "**Why evaluate the model?**\n",
        "\n",
        "Evaluating the model is crucial to understand its performance on unseen data. Metrics such as precision, recall, and F1-score help gauge accuracy and the model's ability to generalize. This process ensures that the model predictions are reliable and accurate (Ahmed, 2025c).\n",
        "\n",
        "The evaluation results show that the model achieved an accuracy of 44% on the test data, indicating moderate performance. Precision and recall values vary significantly among the classes, with some achieving around 53-56% precision and recall (class 0 and 4), while others are considerably lower (e.g., class 2). This discrepancy highlights areas where the model may need further improvement, possibly by tuning hyperparameters or incorporating more features."
      ],
      "metadata": {
        "id": "X7i25vvK0CyT"
      }
    },
    {
      "cell_type": "markdown",
      "source": [
        "### Hyperparameter Optimization with GridSearchCV"
      ],
      "metadata": {
        "id": "mYHpFZOH4Rha"
      }
    },
    {
      "cell_type": "markdown",
      "source": [
        "I already have a model deom building the nerual network `create_model_kindle` and will reuse it."
      ],
      "metadata": {
        "id": "NRUJvaiw58sl"
      }
    },
    {
      "cell_type": "markdown",
      "source": [
        "#### Define the parameter grid"
      ],
      "metadata": {
        "id": "qyaOtsjK6h9a"
      }
    },
    {
      "cell_type": "code",
      "source": [
        "param_grid_kindle = {\n",
        "    'batch_size': [32],\n",
        "    'epochs': [10],\n",
        "    'optimizer': ['adam'],\n",
        "    'model__dropout_rate': [0.3, 0.5]\n",
        "}"
      ],
      "metadata": {
        "id": "yNQ5YD-s6Mzg"
      },
      "execution_count": null,
      "outputs": []
    },
    {
      "cell_type": "markdown",
      "source": [
        "**Why use these para,eters?**\n",
        "\n",
        "The chosen hyperparameters are essential for model training and evaluation:\n",
        "* **Batch Size**: Adjusting the batch size balances memory usage and convergence speed.\n",
        "\n",
        "* **Epochs**: Testing multiple epochs helps find the optimal number of training cycles.\n",
        "\n",
        "* **Optimizer**: Different optimizers (e.g., Adam, SGD) may perform differently based on the dataset.\n",
        "\n",
        "* **Dropout Rate**: Regulates overfitting by randomly dropping neurons during training.\n",
        "\n",
        "These choices are based on common best practices and previous findings in model training (Ahmed, 2025c).\n"
      ],
      "metadata": {
        "id": "rg9ElIRs8eAR"
      }
    },
    {
      "cell_type": "markdown",
      "source": [
        "#### Grid search"
      ],
      "metadata": {
        "id": "_zbwPd6U6nTL"
      }
    },
    {
      "cell_type": "code",
      "source": [
        "grid_kindle = GridSearchCV(estimator=kindle_model, param_grid=param_grid_kindle, scoring='accuracy', cv=3, verbose=1)\n",
        "grid_kindle.fit(X_train_kindle, y_train_kindle)"
      ],
      "metadata": {
        "collapsed": true,
        "id": "RnQG6ve56p_-",
        "colab": {
          "base_uri": "https://localhost:8080/"
        },
        "outputId": "3315d81a-a90a-46de-e818-821bc909d802"
      },
      "execution_count": null,
      "outputs": [
        {
          "output_type": "stream",
          "name": "stdout",
          "text": [
            "Fitting 3 folds for each of 2 candidates, totalling 6 fits\n",
            "Epoch 1/10\n",
            "200/200 [==============================] - 4s 14ms/step - loss: 1.5326 - accuracy: 0.3200\n",
            "Epoch 2/10\n",
            "200/200 [==============================] - 2s 12ms/step - loss: 1.0703 - accuracy: 0.5428\n",
            "Epoch 3/10\n",
            "200/200 [==============================] - 2s 12ms/step - loss: 0.8097 - accuracy: 0.6848\n",
            "Epoch 4/10\n",
            "200/200 [==============================] - 2s 10ms/step - loss: 0.5977 - accuracy: 0.7850\n",
            "Epoch 5/10\n",
            "200/200 [==============================] - 2s 11ms/step - loss: 0.4246 - accuracy: 0.8628\n",
            "Epoch 6/10\n",
            "200/200 [==============================] - 2s 11ms/step - loss: 0.2898 - accuracy: 0.9089\n",
            "Epoch 7/10\n",
            "200/200 [==============================] - 4s 19ms/step - loss: 0.1879 - accuracy: 0.9431\n",
            "Epoch 8/10\n",
            "200/200 [==============================] - 2s 11ms/step - loss: 0.1357 - accuracy: 0.9611\n",
            "Epoch 9/10\n",
            "200/200 [==============================] - 2s 10ms/step - loss: 0.0940 - accuracy: 0.9756\n",
            "Epoch 10/10\n",
            "200/200 [==============================] - 2s 12ms/step - loss: 0.0687 - accuracy: 0.9828\n",
            "100/100 [==============================] - 1s 5ms/step\n",
            "Epoch 1/10\n",
            "200/200 [==============================] - 5s 15ms/step - loss: 1.5186 - accuracy: 0.3272\n",
            "Epoch 2/10\n",
            "200/200 [==============================] - 2s 11ms/step - loss: 1.0756 - accuracy: 0.5412\n",
            "Epoch 3/10\n",
            "200/200 [==============================] - 2s 12ms/step - loss: 0.8102 - accuracy: 0.6805\n",
            "Epoch 4/10\n",
            "200/200 [==============================] - 3s 13ms/step - loss: 0.6072 - accuracy: 0.7853\n",
            "Epoch 5/10\n",
            "200/200 [==============================] - 3s 14ms/step - loss: 0.4341 - accuracy: 0.8627\n",
            "Epoch 6/10\n",
            "200/200 [==============================] - 3s 13ms/step - loss: 0.2986 - accuracy: 0.9039\n",
            "Epoch 7/10\n",
            "200/200 [==============================] - 3s 15ms/step - loss: 0.1979 - accuracy: 0.9422\n",
            "Epoch 8/10\n",
            "200/200 [==============================] - 3s 13ms/step - loss: 0.1366 - accuracy: 0.9648\n",
            "Epoch 9/10\n",
            "200/200 [==============================] - 2s 12ms/step - loss: 0.0977 - accuracy: 0.9766\n",
            "Epoch 10/10\n",
            "200/200 [==============================] - 4s 18ms/step - loss: 0.0675 - accuracy: 0.9834\n",
            "100/100 [==============================] - 1s 4ms/step\n",
            "Epoch 1/10\n",
            "200/200 [==============================] - 4s 12ms/step - loss: 1.5102 - accuracy: 0.3277\n",
            "Epoch 2/10\n",
            "200/200 [==============================] - 2s 11ms/step - loss: 1.0633 - accuracy: 0.5508\n",
            "Epoch 3/10\n",
            "200/200 [==============================] - 3s 16ms/step - loss: 0.8164 - accuracy: 0.6848\n",
            "Epoch 4/10\n",
            "200/200 [==============================] - 3s 13ms/step - loss: 0.6018 - accuracy: 0.7830\n",
            "Epoch 5/10\n",
            "200/200 [==============================] - 3s 13ms/step - loss: 0.4254 - accuracy: 0.8608\n",
            "Epoch 6/10\n",
            "200/200 [==============================] - 2s 12ms/step - loss: 0.2921 - accuracy: 0.9094\n",
            "Epoch 7/10\n",
            "200/200 [==============================] - 2s 11ms/step - loss: 0.1909 - accuracy: 0.9486\n",
            "Epoch 8/10\n",
            "200/200 [==============================] - 5s 24ms/step - loss: 0.1378 - accuracy: 0.9625\n",
            "Epoch 9/10\n",
            "200/200 [==============================] - 3s 17ms/step - loss: 0.0966 - accuracy: 0.9739\n",
            "Epoch 10/10\n",
            "200/200 [==============================] - 3s 13ms/step - loss: 0.0661 - accuracy: 0.9858\n",
            "100/100 [==============================] - 1s 4ms/step\n",
            "Epoch 1/10\n",
            "200/200 [==============================] - 4s 14ms/step - loss: 1.5836 - accuracy: 0.2997\n",
            "Epoch 2/10\n",
            "200/200 [==============================] - 3s 15ms/step - loss: 1.1910 - accuracy: 0.4916\n",
            "Epoch 3/10\n",
            "200/200 [==============================] - 2s 11ms/step - loss: 0.9556 - accuracy: 0.6142\n",
            "Epoch 4/10\n",
            "200/200 [==============================] - 2s 11ms/step - loss: 0.7941 - accuracy: 0.6992\n",
            "Epoch 5/10\n",
            "200/200 [==============================] - 2s 11ms/step - loss: 0.6436 - accuracy: 0.7628\n",
            "Epoch 6/10\n",
            "200/200 [==============================] - 2s 12ms/step - loss: 0.5167 - accuracy: 0.8209\n",
            "Epoch 7/10\n",
            "200/200 [==============================] - 3s 16ms/step - loss: 0.4098 - accuracy: 0.8594\n",
            "Epoch 8/10\n",
            "200/200 [==============================] - 2s 11ms/step - loss: 0.3235 - accuracy: 0.8966\n",
            "Epoch 9/10\n",
            "200/200 [==============================] - 3s 13ms/step - loss: 0.2672 - accuracy: 0.9158\n",
            "Epoch 10/10\n",
            "200/200 [==============================] - 2s 12ms/step - loss: 0.2187 - accuracy: 0.9300\n",
            "100/100 [==============================] - 0s 3ms/step\n",
            "Epoch 1/10\n",
            "200/200 [==============================] - 5s 17ms/step - loss: 1.5832 - accuracy: 0.2850\n",
            "Epoch 2/10\n",
            "200/200 [==============================] - 3s 13ms/step - loss: 1.2016 - accuracy: 0.4720\n",
            "Epoch 3/10\n",
            "200/200 [==============================] - 3s 13ms/step - loss: 0.9627 - accuracy: 0.6037\n",
            "Epoch 4/10\n",
            "200/200 [==============================] - 2s 11ms/step - loss: 0.7922 - accuracy: 0.6977\n",
            "Epoch 5/10\n",
            "200/200 [==============================] - 2s 11ms/step - loss: 0.6380 - accuracy: 0.7730\n",
            "Epoch 6/10\n",
            "200/200 [==============================] - 3s 15ms/step - loss: 0.5218 - accuracy: 0.8206\n",
            "Epoch 7/10\n",
            "200/200 [==============================] - 2s 12ms/step - loss: 0.4002 - accuracy: 0.8667\n",
            "Epoch 8/10\n",
            "200/200 [==============================] - 2s 12ms/step - loss: 0.3241 - accuracy: 0.8938\n",
            "Epoch 9/10\n",
            "200/200 [==============================] - 2s 12ms/step - loss: 0.2551 - accuracy: 0.9164\n",
            "Epoch 10/10\n",
            "200/200 [==============================] - 2s 12ms/step - loss: 0.1960 - accuracy: 0.9450\n",
            "100/100 [==============================] - 0s 3ms/step\n",
            "Epoch 1/10\n",
            "200/200 [==============================] - 4s 13ms/step - loss: 1.5792 - accuracy: 0.2972\n",
            "Epoch 2/10\n",
            "200/200 [==============================] - 3s 13ms/step - loss: 1.1995 - accuracy: 0.4733\n",
            "Epoch 3/10\n",
            "200/200 [==============================] - 3s 13ms/step - loss: 0.9789 - accuracy: 0.6025\n",
            "Epoch 4/10\n",
            "200/200 [==============================] - 2s 12ms/step - loss: 0.8025 - accuracy: 0.6903\n",
            "Epoch 5/10\n",
            "200/200 [==============================] - 3s 15ms/step - loss: 0.6435 - accuracy: 0.7625\n",
            "Epoch 6/10\n",
            "200/200 [==============================] - 2s 12ms/step - loss: 0.5084 - accuracy: 0.8216\n",
            "Epoch 7/10\n",
            "200/200 [==============================] - 3s 13ms/step - loss: 0.4100 - accuracy: 0.8587\n",
            "Epoch 8/10\n",
            "200/200 [==============================] - 3s 13ms/step - loss: 0.3143 - accuracy: 0.8923\n",
            "Epoch 9/10\n",
            "200/200 [==============================] - 3s 13ms/step - loss: 0.2446 - accuracy: 0.9214\n",
            "Epoch 10/10\n",
            "200/200 [==============================] - 3s 17ms/step - loss: 0.1990 - accuracy: 0.9383\n",
            "100/100 [==============================] - 0s 4ms/step\n",
            "Epoch 1/10\n",
            "300/300 [==============================] - 4s 11ms/step - loss: 1.4688 - accuracy: 0.3393\n",
            "Epoch 2/10\n",
            "300/300 [==============================] - 4s 14ms/step - loss: 1.1103 - accuracy: 0.5221\n",
            "Epoch 3/10\n",
            "300/300 [==============================] - 5s 15ms/step - loss: 0.9338 - accuracy: 0.6194\n",
            "Epoch 4/10\n",
            "300/300 [==============================] - 4s 13ms/step - loss: 0.8056 - accuracy: 0.6821\n",
            "Epoch 5/10\n",
            "300/300 [==============================] - 4s 12ms/step - loss: 0.6777 - accuracy: 0.7397\n",
            "Epoch 6/10\n",
            "300/300 [==============================] - 5s 15ms/step - loss: 0.5653 - accuracy: 0.7919\n",
            "Epoch 7/10\n",
            "300/300 [==============================] - 4s 13ms/step - loss: 0.4605 - accuracy: 0.8385\n",
            "Epoch 8/10\n",
            "300/300 [==============================] - 4s 13ms/step - loss: 0.3687 - accuracy: 0.8754\n",
            "Epoch 9/10\n",
            "300/300 [==============================] - 5s 16ms/step - loss: 0.3051 - accuracy: 0.8960\n",
            "Epoch 10/10\n",
            "300/300 [==============================] - 4s 15ms/step - loss: 0.2458 - accuracy: 0.9232\n"
          ]
        },
        {
          "output_type": "execute_result",
          "data": {
            "text/plain": [
              "GridSearchCV(cv=3,\n",
              "             estimator=KerasClassifier(batch_size=32, epochs=10, model=<function create_kindle_model at 0x7abd87e1d800>),\n",
              "             param_grid={'batch_size': [32], 'epochs': [10],\n",
              "                         'model__dropout_rate': [0.3, 0.5],\n",
              "                         'optimizer': ['adam']},\n",
              "             scoring='accuracy', verbose=1)"
            ],
            "text/html": [
              "<style>#sk-container-id-2 {color: black;}#sk-container-id-2 pre{padding: 0;}#sk-container-id-2 div.sk-toggleable {background-color: white;}#sk-container-id-2 label.sk-toggleable__label {cursor: pointer;display: block;width: 100%;margin-bottom: 0;padding: 0.3em;box-sizing: border-box;text-align: center;}#sk-container-id-2 label.sk-toggleable__label-arrow:before {content: \"▸\";float: left;margin-right: 0.25em;color: #696969;}#sk-container-id-2 label.sk-toggleable__label-arrow:hover:before {color: black;}#sk-container-id-2 div.sk-estimator:hover label.sk-toggleable__label-arrow:before {color: black;}#sk-container-id-2 div.sk-toggleable__content {max-height: 0;max-width: 0;overflow: hidden;text-align: left;background-color: #f0f8ff;}#sk-container-id-2 div.sk-toggleable__content pre {margin: 0.2em;color: black;border-radius: 0.25em;background-color: #f0f8ff;}#sk-container-id-2 input.sk-toggleable__control:checked~div.sk-toggleable__content {max-height: 200px;max-width: 100%;overflow: auto;}#sk-container-id-2 input.sk-toggleable__control:checked~label.sk-toggleable__label-arrow:before {content: \"▾\";}#sk-container-id-2 div.sk-estimator input.sk-toggleable__control:checked~label.sk-toggleable__label {background-color: #d4ebff;}#sk-container-id-2 div.sk-label input.sk-toggleable__control:checked~label.sk-toggleable__label {background-color: #d4ebff;}#sk-container-id-2 input.sk-hidden--visually {border: 0;clip: rect(1px 1px 1px 1px);clip: rect(1px, 1px, 1px, 1px);height: 1px;margin: -1px;overflow: hidden;padding: 0;position: absolute;width: 1px;}#sk-container-id-2 div.sk-estimator {font-family: monospace;background-color: #f0f8ff;border: 1px dotted black;border-radius: 0.25em;box-sizing: border-box;margin-bottom: 0.5em;}#sk-container-id-2 div.sk-estimator:hover {background-color: #d4ebff;}#sk-container-id-2 div.sk-parallel-item::after {content: \"\";width: 100%;border-bottom: 1px solid gray;flex-grow: 1;}#sk-container-id-2 div.sk-label:hover label.sk-toggleable__label {background-color: #d4ebff;}#sk-container-id-2 div.sk-serial::before {content: \"\";position: absolute;border-left: 1px solid gray;box-sizing: border-box;top: 0;bottom: 0;left: 50%;z-index: 0;}#sk-container-id-2 div.sk-serial {display: flex;flex-direction: column;align-items: center;background-color: white;padding-right: 0.2em;padding-left: 0.2em;position: relative;}#sk-container-id-2 div.sk-item {position: relative;z-index: 1;}#sk-container-id-2 div.sk-parallel {display: flex;align-items: stretch;justify-content: center;background-color: white;position: relative;}#sk-container-id-2 div.sk-item::before, #sk-container-id-2 div.sk-parallel-item::before {content: \"\";position: absolute;border-left: 1px solid gray;box-sizing: border-box;top: 0;bottom: 0;left: 50%;z-index: -1;}#sk-container-id-2 div.sk-parallel-item {display: flex;flex-direction: column;z-index: 1;position: relative;background-color: white;}#sk-container-id-2 div.sk-parallel-item:first-child::after {align-self: flex-end;width: 50%;}#sk-container-id-2 div.sk-parallel-item:last-child::after {align-self: flex-start;width: 50%;}#sk-container-id-2 div.sk-parallel-item:only-child::after {width: 0;}#sk-container-id-2 div.sk-dashed-wrapped {border: 1px dashed gray;margin: 0 0.4em 0.5em 0.4em;box-sizing: border-box;padding-bottom: 0.4em;background-color: white;}#sk-container-id-2 div.sk-label label {font-family: monospace;font-weight: bold;display: inline-block;line-height: 1.2em;}#sk-container-id-2 div.sk-label-container {text-align: center;}#sk-container-id-2 div.sk-container {/* jupyter's `normalize.less` sets `[hidden] { display: none; }` but bootstrap.min.css set `[hidden] { display: none !important; }` so we also need the `!important` here to be able to override the default hidden behavior on the sphinx rendered scikit-learn.org. See: https://github.com/scikit-learn/scikit-learn/issues/21755 */display: inline-block !important;position: relative;}#sk-container-id-2 div.sk-text-repr-fallback {display: none;}</style><div id=\"sk-container-id-2\" class=\"sk-top-container\"><div class=\"sk-text-repr-fallback\"><pre>GridSearchCV(cv=3,\n",
              "             estimator=KerasClassifier(batch_size=32, epochs=10, model=&lt;function create_kindle_model at 0x7abd87e1d800&gt;),\n",
              "             param_grid={&#x27;batch_size&#x27;: [32], &#x27;epochs&#x27;: [10],\n",
              "                         &#x27;model__dropout_rate&#x27;: [0.3, 0.5],\n",
              "                         &#x27;optimizer&#x27;: [&#x27;adam&#x27;]},\n",
              "             scoring=&#x27;accuracy&#x27;, verbose=1)</pre><b>In a Jupyter environment, please rerun this cell to show the HTML representation or trust the notebook. <br />On GitHub, the HTML representation is unable to render, please try loading this page with nbviewer.org.</b></div><div class=\"sk-container\" hidden><div class=\"sk-item sk-dashed-wrapped\"><div class=\"sk-label-container\"><div class=\"sk-label sk-toggleable\"><input class=\"sk-toggleable__control sk-hidden--visually\" id=\"sk-estimator-id-2\" type=\"checkbox\" ><label for=\"sk-estimator-id-2\" class=\"sk-toggleable__label sk-toggleable__label-arrow\">GridSearchCV</label><div class=\"sk-toggleable__content\"><pre>GridSearchCV(cv=3,\n",
              "             estimator=KerasClassifier(batch_size=32, epochs=10, model=&lt;function create_kindle_model at 0x7abd87e1d800&gt;),\n",
              "             param_grid={&#x27;batch_size&#x27;: [32], &#x27;epochs&#x27;: [10],\n",
              "                         &#x27;model__dropout_rate&#x27;: [0.3, 0.5],\n",
              "                         &#x27;optimizer&#x27;: [&#x27;adam&#x27;]},\n",
              "             scoring=&#x27;accuracy&#x27;, verbose=1)</pre></div></div></div><div class=\"sk-parallel\"><div class=\"sk-parallel-item\"><div class=\"sk-item\"><div class=\"sk-label-container\"><div class=\"sk-label sk-toggleable\"><input class=\"sk-toggleable__control sk-hidden--visually\" id=\"sk-estimator-id-3\" type=\"checkbox\" ><label for=\"sk-estimator-id-3\" class=\"sk-toggleable__label sk-toggleable__label-arrow\">estimator: KerasClassifier</label><div class=\"sk-toggleable__content\"><pre>KerasClassifier(\n",
              "\tmodel=&lt;function create_kindle_model at 0x7abd87e1d800&gt;\n",
              "\tbuild_fn=None\n",
              "\twarm_start=False\n",
              "\trandom_state=None\n",
              "\toptimizer=rmsprop\n",
              "\tloss=None\n",
              "\tmetrics=None\n",
              "\tbatch_size=32\n",
              "\tvalidation_batch_size=None\n",
              "\tverbose=1\n",
              "\tcallbacks=None\n",
              "\tvalidation_split=0.0\n",
              "\tshuffle=True\n",
              "\trun_eagerly=False\n",
              "\tepochs=10\n",
              "\tclass_weight=None\n",
              ")</pre></div></div></div><div class=\"sk-serial\"><div class=\"sk-item\"><div class=\"sk-estimator sk-toggleable\"><input class=\"sk-toggleable__control sk-hidden--visually\" id=\"sk-estimator-id-4\" type=\"checkbox\" ><label for=\"sk-estimator-id-4\" class=\"sk-toggleable__label sk-toggleable__label-arrow\">KerasClassifier</label><div class=\"sk-toggleable__content\"><pre>KerasClassifier(\n",
              "\tmodel=&lt;function create_kindle_model at 0x7abd87e1d800&gt;\n",
              "\tbuild_fn=None\n",
              "\twarm_start=False\n",
              "\trandom_state=None\n",
              "\toptimizer=rmsprop\n",
              "\tloss=None\n",
              "\tmetrics=None\n",
              "\tbatch_size=32\n",
              "\tvalidation_batch_size=None\n",
              "\tverbose=1\n",
              "\tcallbacks=None\n",
              "\tvalidation_split=0.0\n",
              "\tshuffle=True\n",
              "\trun_eagerly=False\n",
              "\tepochs=10\n",
              "\tclass_weight=None\n",
              ")</pre></div></div></div></div></div></div></div></div></div></div>"
            ]
          },
          "metadata": {},
          "execution_count": 62
        }
      ]
    },
    {
      "cell_type": "markdown",
      "source": [
        "**Results from Grid Search**:\n",
        "\n",
        "\n",
        "\n",
        "```python\n",
        "KerasClassifier(\n",
        "    model=<function create_kindle_model at 0x7f9438b35800>,\n",
        "    build_fn=None,\n",
        "    warm_start=False,\n",
        "    random_state=None,\n",
        "    optimizer='rmsprop',\n",
        "    loss=None,\n",
        "    metrics=None,\n",
        "    batch_size=32,\n",
        "    validation_batch_size=None,\n",
        "    verbose=1,\n",
        "    callbacks=None,\n",
        "    validation_split=0.0,\n",
        "    shuffle=True,\n",
        "    run_eagerly=False,\n",
        "    epochs=10,\n",
        "    class_weight=None\n",
        ")\n",
        "```"
      ],
      "metadata": {
        "id": "sotvbk7pPGsw"
      }
    },
    {
      "cell_type": "markdown",
      "source": [
        "**Why do a grid search?**\n",
        "\n",
        "To find the best settings for my neural network, I used GridSearchCV to test different combinations of hyperparameters like the optimizer, batch size, and number of epochs.\n",
        "\n",
        "So after running the search, I found that the model performed best when using the RMSprop optimizer, a batch size of 32, and training for 10 epochs.\n",
        "\n",
        "These values gave the highest accuracy on my validation data, so I plan to use them when evaluating the final model."
      ],
      "metadata": {
        "id": "pVrn_D037bCo"
      }
    },
    {
      "cell_type": "markdown",
      "source": [
        "#### Displaying the parameter grid for confirmation"
      ],
      "metadata": {
        "id": "y85s-yf_6rf8"
      }
    },
    {
      "cell_type": "code",
      "source": [
        "print(\"Best Score:\", grid_kindle.best_score_)\n",
        "print(\"Best Parameters:\", grid_kindle.best_params_)"
      ],
      "metadata": {
        "id": "6PSjzCro6tct",
        "colab": {
          "base_uri": "https://localhost:8080/"
        },
        "outputId": "891d9f5c-5327-417c-e2b0-fbbbf1c36d0b"
      },
      "execution_count": null,
      "outputs": [
        {
          "output_type": "stream",
          "name": "stdout",
          "text": [
            "Best Score: 0.4611458333333333\n",
            "Best Parameters: {'batch_size': 32, 'epochs': 10, 'model__dropout_rate': 0.5, 'optimizer': 'adam'}\n"
          ]
        }
      ]
    },
    {
      "cell_type": "markdown",
      "source": [
        "**Why display the parameter grid for confirmation and the best score?**\n",
        "\n",
        "I showed the parameter grid and best score to make sure everything was set up right before running the grid search. It helped me check that the model was trying out all the options I wanted. Seeing the best settings and the highest score at the end made it clear which combination worked best. This way, I knew the model was tested properly and I could trust the results."
      ],
      "metadata": {
        "id": "TmejGggi7WSG"
      }
    },
    {
      "cell_type": "markdown",
      "source": [
        "#### Interpretation of Results\n",
        "The model achieved an accuracy of 44% on the test data, meaning it correctly predicted the ratings 44% of the time. The precision and recall values vary across classes. For instance, classes 0 and 4 performed relatively well with around 53-56% precision and recall, while class 2 performed poorly. This variation indicates that the model may need improvements, such as hyperparameter tuning or including more features.\n",
        "\n",
        "The results obtained are consistent with my approach to data cleaning, feature extraction, and model building as described earlier. Techniques like TF-IDF vectorization and the neural network architecture played a key role in achieving these results. Using cross-validation and hyperparameter tuning helped optimize the model, but further improvements could be made by adjusting the network structure or exploring alternative feature engineering methods.\n",
        "\n",
        "These findings align with concepts discussed by Ahmed (2025a, 2025b, 2025c, 2025d), which highlight the importance of data quality, appropriate model architecture, and systematic evaluation in classification tasks."
      ],
      "metadata": {
        "id": "E9llbI2j7QsC"
      }
    },
    {
      "cell_type": "markdown",
      "source": [
        "## Part 4: Enhancing Customer Support using Open API LLM"
      ],
      "metadata": {
        "id": "W87ccB059wFd"
      }
    },
    {
      "cell_type": "markdown",
      "source": [
        "####Open API LLM\n",
        "\n",
        "To enhance customer support for an e-commerce company, Open API Large Language Models (LLMs) like OpenAI’s GPT-4 can be used to do various jobs such as answering customer queries, automating refund processes, and providing personalized product recommendations.\n",
        "\n",
        "### 1. Handling Customer Queries\n",
        "\n",
        "LLMs are trained on large amounts of human language data so this enables them to understand and respond to natural language inputs. This means that LLMs can undertand the meaning, context and intent behind what a person writes or says so this allows the LLMs to reply in a natural way. When LLMs is integrated into a chatbot or email assistant, these models can:\n",
        "\n",
        "- Allo for instant responses to frequently asked questions (e.g., order status, shipping details).\n",
        "- Assist with vague or complex user queries and reply to them.\n",
        "- Operate 24/7, which will reduce the need for human workers.\n",
        "\n",
        "**Example**: When a customer asks “where’s my order?”, the LLM will connect to the database and then reply with a summary od their shipping status.\n",
        "\n",
        "**Cited Support**: According to Ahmed (2025b), NLP techniques enable systems to understand and interpret human language, making them ideal for this purpose.\n",
        "\n",
        "---\n",
        "\n",
        "### 2. Automating Refund Processing\n",
        "\n",
        "Using LLMs and rule-based logic, would allow for refund workflows to be partially or fully automated. The LLM can:\n",
        "\n",
        "- Understand refund requests written in natural language.\n",
        "- Get important information (e.g., order number, product issue).\n",
        "- Validate requests against return policies.\n",
        "- Reply automated responses but in more complex queries can bve escalated to a human.\n",
        "\n",
        "**Example**: If a customer says, “The item arrived broken, I want a refund,” the LLM would understand that this as a valid return and would then begin the refund process.\n",
        "\n",
        "**Cited Support**: Natural Language Understanding (NLU) enables the extraction of semantic meaning from text, which is key to interpreting refund requests (Ahmed, 2025b).\n",
        "\n",
        "---\n",
        "\n",
        "### 3. Personalized Recommendations\n",
        "\n",
        "LLMs can also create more personalized suggestions for each customer based on their previous purchases, browsing behavior, or customer profiles. So this combined with collaborative filtering and historical review data, the system can provide:\n",
        "\n",
        "- Book suggestions (“You may also like...”)\n",
        "- Personalized discounts or bundle offers.\n",
        "- Givve a short overview on product comparisons based on customer preferences.\n",
        "\n",
        "**Example**: After reading a review saying “I loved this Kindle thriller!”, the LLM can recommend similar books with high ratings and matching tags.\n",
        "\n",
        "**Cited Support**: According to Ahmed (2025c), predictive analytics use past data to forecast future behavior—LLMs enhance this with natural text generation for personalized outputs.\n",
        "\n",
        "---\n",
        "\n",
        "### Summary\n",
        "\n",
        "By using Open API LLMs, e-commerce platforms can provide faster, smarter, and more personalized customer service. From instant querries being answered to smart refund handling and personalised recommendations, LLMs help reduce workload and enhance the customer experience."
      ],
      "metadata": {
        "id": "CuZZCLex3875"
      }
    },
    {
      "cell_type": "markdown",
      "source": [
        "## Refgerences"
      ],
      "metadata": {
        "id": "2QR8guddXWbm"
      }
    },
    {
      "cell_type": "markdown",
      "source": [
        "* Ahmed, T. (2025a). Concept of Classification. Moodle. Accessed 7 January 2025.\n",
        "\n",
        "* Ahmed, T. (2025b). Exploring Text Processing Techniques with Natural Language Processing. Moodle. Accessed 11 March 2025.\n",
        "\n",
        "* Ahmed, T. (2025c). Introduction to Machine Learning. Moodle. Accessed 7 January 2025.\n",
        "\n",
        "* Ahmed, T. (2025d). Understanding Neural Networks. Moodle. Accessed 4 March 2025."
      ],
      "metadata": {
        "id": "58uXAI8RXax4"
      }
    }
  ]
}